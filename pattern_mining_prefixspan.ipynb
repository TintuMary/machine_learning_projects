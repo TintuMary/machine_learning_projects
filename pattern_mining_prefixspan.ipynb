{
 "cells": [
  {
   "cell_type": "code",
   "execution_count": 5,
   "metadata": {},
   "outputs": [],
   "source": [
    "from prefixspan import PrefixSpan"
   ]
  },
  {
   "cell_type": "code",
   "execution_count": 11,
   "metadata": {},
   "outputs": [
    {
     "name": "stdout",
     "output_type": "stream",
     "text": [
      "Collecting mlxtend\n",
      "  Downloading mlxtend-0.17.2-py2.py3-none-any.whl (1.3 MB)\n",
      "Requirement already satisfied: joblib>=0.13.2 in d:\\users\\618757\\anaconda3\\envs\\tensorflowenv\\lib\\site-packages (from mlxtend) (0.14.1)\n",
      "Requirement already satisfied: scipy>=1.2.1 in d:\\users\\618757\\anaconda3\\envs\\tensorflowenv\\lib\\site-packages (from mlxtend) (1.4.1)\n",
      "Requirement already satisfied: numpy>=1.16.2 in d:\\users\\618757\\anaconda3\\envs\\tensorflowenv\\lib\\site-packages (from mlxtend) (1.18.1)\n",
      "Requirement already satisfied: setuptools in d:\\users\\618757\\anaconda3\\envs\\tensorflowenv\\lib\\site-packages (from mlxtend) (45.2.0.post20200210)\n",
      "Requirement already satisfied: scikit-learn>=0.20.3 in d:\\users\\618757\\anaconda3\\envs\\tensorflowenv\\lib\\site-packages (from mlxtend) (0.22.1)\n",
      "Requirement already satisfied: matplotlib>=3.0.0 in d:\\users\\618757\\anaconda3\\envs\\tensorflowenv\\lib\\site-packages (from mlxtend) (3.1.3)\n",
      "Requirement already satisfied: pandas>=0.24.2 in d:\\users\\618757\\anaconda3\\envs\\tensorflowenv\\lib\\site-packages (from mlxtend) (1.0.1)\n",
      "Requirement already satisfied: cycler>=0.10 in d:\\users\\618757\\anaconda3\\envs\\tensorflowenv\\lib\\site-packages (from matplotlib>=3.0.0->mlxtend) (0.10.0)\n",
      "Requirement already satisfied: kiwisolver>=1.0.1 in d:\\users\\618757\\anaconda3\\envs\\tensorflowenv\\lib\\site-packages (from matplotlib>=3.0.0->mlxtend) (1.1.0)\n",
      "Requirement already satisfied: python-dateutil>=2.1 in d:\\users\\618757\\anaconda3\\envs\\tensorflowenv\\lib\\site-packages (from matplotlib>=3.0.0->mlxtend) (2.8.1)\n",
      "Requirement already satisfied: pyparsing!=2.0.4,!=2.1.2,!=2.1.6,>=2.0.1 in d:\\users\\618757\\anaconda3\\envs\\tensorflowenv\\lib\\site-packages (from matplotlib>=3.0.0->mlxtend) (2.4.6)\n",
      "Requirement already satisfied: pytz>=2017.2 in d:\\users\\618757\\anaconda3\\envs\\tensorflowenv\\lib\\site-packages (from pandas>=0.24.2->mlxtend) (2019.3)\n",
      "Requirement already satisfied: six in d:\\users\\618757\\anaconda3\\envs\\tensorflowenv\\lib\\site-packages (from cycler>=0.10->matplotlib>=3.0.0->mlxtend) (1.14.0)\n",
      "Installing collected packages: mlxtend\n",
      "Successfully installed mlxtend-0.17.2\n"
     ]
    }
   ],
   "source": [
    "!pip install mlxtend"
   ]
  },
  {
   "cell_type": "code",
   "execution_count": null,
   "metadata": {},
   "outputs": [],
   "source": [
    "import pandas as pd\n",
    "from mlxtend.frequent_patterns import apriori\n",
    "from mlxtend.frequent_patterns import association_rules"
   ]
  },
  {
   "cell_type": "code",
   "execution_count": 13,
   "metadata": {},
   "outputs": [
    {
     "data": {
      "text/plain": [
       "{(1, 2, 3),\n",
       " (1, 2, 4),\n",
       " (1, 2, 5),\n",
       " (1, 3, 4),\n",
       " (1, 3, 5),\n",
       " (1, 4, 5),\n",
       " (2, 3, 4),\n",
       " (2, 3, 5),\n",
       " (2, 4, 5),\n",
       " (3, 4, 5)}"
      ]
     },
     "execution_count": 13,
     "metadata": {},
     "output_type": "execute_result"
    }
   ],
   "source": [
    "import itertools\n",
    "def findsubsets(S,m):\n",
    "    return set(itertools.combinations(S, m))\n",
    "\n",
    "\n",
    "findsubsets([1,2,3,4,5], 3)"
   ]
  },
  {
   "cell_type": "code",
   "execution_count": 9,
   "metadata": {},
   "outputs": [
    {
     "data": {
      "text/plain": [
       "'\\n0 : 2\\n1 : 4\\n1 2 : 3\\n1 2 2 : 2\\n1 3 : 2\\n1 3 4 : 2\\n1 4 : 2\\n1 1 : 2\\n1 1 1 : 2\\n2 : 3\\n2 2 : 2\\n3 : 2\\n3 4 : 2\\n4 : 2\\n'"
      ]
     },
     "execution_count": 9,
     "metadata": {},
     "output_type": "execute_result"
    }
   ],
   "source": [
    "'''\n",
    "this library try to identify the patterns and corresponding count from given array values\n",
    "\n",
    "For e.g. \n",
    "\n",
    "1,2 -> this pattern is present only 1st, 3rd, and 4th record in below exmaple\n",
    "1,1,1 -> present only in 2nd and 4th row\n",
    "1,3,4 -> present only in 1st and 2nd row\n",
    "\n",
    "\n",
    "Closed: A pattern is closed if there is no super-pattern with the same frequency\n",
    "\n",
    "Generator : A pattern is generator if there is no sub-pattern with the same frequency. \n",
    "Due to the high compactness, generator patterns are useful as features for classification, etc.\n",
    "\n",
    "1, 2, 3 -> 3\n",
    "1,2,3,4 -> 3\n",
    "'''\n",
    "\n",
    "db = [\n",
    "    [0, 1, 2, 3, 4],\n",
    "    [1, 1, 1, 3, 4],\n",
    "    [2, 1, 2, 2, 0],\n",
    "    [1, 1, 1, 2, 2],\n",
    "]\n",
    "\n",
    "ps = PrefixSpan(db)\n",
    "'''\n",
    "0 : 2\n",
    "1 : 4\n",
    "1 2 : 3\n",
    "1 2 2 : 2\n",
    "1 3 : 2\n",
    "1 3 4 : 2\n",
    "1 4 : 2\n",
    "1 1 : 2\n",
    "1 1 1 : 2\n",
    "2 : 3\n",
    "2 2 : 2\n",
    "3 : 2\n",
    "3 4 : 2\n",
    "4 : 2\n",
    "'''"
   ]
  },
  {
   "cell_type": "code",
   "execution_count": 10,
   "metadata": {},
   "outputs": [
    {
     "name": "stdout",
     "output_type": "stream",
     "text": [
      "[(2, [0]), (4, [1]), (3, [1, 2]), (2, [1, 2, 2]), (2, [1, 3]), (2, [1, 3, 4]), (2, [1, 4]), (2, [1, 1]), (2, [1, 1, 1]), (3, [2]), (2, [2, 2]), (2, [3]), (2, [3, 4]), (2, [4])]\n",
      "[(2, [0]), (4, [1]), (3, [1, 2]), (2, [1, 2, 2]), (2, [1, 3, 4]), (2, [1, 1, 1])]\n",
      "[(2, [0]), (2, [1, 1]), (3, [2]), (2, [2, 2]), (2, [3]), (2, [4])]\n"
     ]
    }
   ],
   "source": [
    "db = [\n",
    "    [0, 1, 2, 3, 4],\n",
    "    [1, 1, 1, 3, 4],\n",
    "    [2, 1, 2, 2, 0],\n",
    "    [1, 1, 1, 2, 2],\n",
    "]\n",
    "print(ps.frequent(2))\n",
    "print(ps.frequent(2, closed=True))\n",
    "print(ps.frequent(2, generator=True))"
   ]
  },
  {
   "cell_type": "code",
   "execution_count": 15,
   "metadata": {},
   "outputs": [
    {
     "name": "stdout",
     "output_type": "stream",
     "text": [
      "[(4, [1]), (3, [1, 2]), (2, [1, 1, 1]), (2, [1, 2, 2]), (2, [1, 3, 4])]\n",
      "[(3, [2]), (2, [0]), (2, [1, 1]), (2, [2, 2]), (2, [3])]\n"
     ]
    }
   ],
   "source": [
    "print(ps.topk(5, closed=True))\n",
    "print(ps.topk(5, generator=True))"
   ]
  },
  {
   "cell_type": "code",
   "execution_count": 33,
   "metadata": {},
   "outputs": [
    {
     "name": "stdout",
     "output_type": "stream",
     "text": [
      "[(2, [0]), (4, [1]), (4, [1, 2]), (2, [1, 2, 3]), (2, [1, 2, 3, 4]), (2, [1, 2, 4]), (2, [1, 2, 2]), (2, [1, 3]), (2, [1, 3, 4]), (2, [1, 4]), (2, [1, 1]), (4, [2]), (2, [2, 3]), (2, [2, 3, 4]), (2, [2, 4]), (2, [2, 1]), (2, [2, 2]), (2, [3]), (2, [3, 4]), (2, [4])]\n"
     ]
    }
   ],
   "source": [
    "db = [\n",
    "    [0, 1, 2, 3, 4],\n",
    "    [1, 2, 1, 3, 4],\n",
    "    [2, 1, 2, 2, 0],\n",
    "    [1, 1, 1, 2, 2],\n",
    "]\n",
    "\n",
    "ps = PrefixSpan(db)\n",
    "print(ps.frequent(2))"
   ]
  },
  {
   "cell_type": "code",
   "execution_count": 19,
   "metadata": {},
   "outputs": [
    {
     "name": "stdout",
     "output_type": "stream",
     "text": [
      "[(4, []), (2, [0]), (4, [1]), (3, [1, 2]), (2, [1, 2, 2]), (2, [1, 3]), (2, [1, 3, 4]), (2, [1, 4]), (2, [1, 1]), (2, [1, 1, 1]), (3, [2]), (2, [2, 2]), (2, [3]), (2, [3, 4]), (2, [4])]\n"
     ]
    }
   ],
   "source": [
    "#The original minimal 15 lines implementation of PrefixSpan. \n",
    "\n",
    "from collections import defaultdict\n",
    "\n",
    "def frequent_rec(patt, mdb):\n",
    "    results.append((len(mdb), patt))\n",
    "    occurs = defaultdict(list)\n",
    "    for (i, startpos) in mdb:\n",
    "        seq = db[i]\n",
    "        for j in range(startpos + 1, len(seq)):\n",
    "            l = occurs[seq[j]]\n",
    "            if len(l) == 0 or l[-1][0] != i:\n",
    "                l.append((i, j))\n",
    "\n",
    "    for (c, newmdb) in occurs.items():\n",
    "        if len(newmdb) >= minsup:\n",
    "            frequent_rec(patt + [c], newmdb)\n",
    "\n",
    "\n",
    "db = [\n",
    "    [0, 1, 2, 3, 4],\n",
    "    [1, 1, 1, 3, 4],\n",
    "    [2, 1, 2, 2, 0],\n",
    "    [1, 1, 1, 2, 2],\n",
    "]\n",
    "\n",
    "minsup = 2\n",
    "results = []\n",
    "frequent_rec([], [(i, -1) for i in range(len(db))])\n",
    "\n",
    "print(results)"
   ]
  },
  {
   "cell_type": "code",
   "execution_count": 2,
   "metadata": {},
   "outputs": [
    {
     "name": "stdout",
     "output_type": "stream",
     "text": [
      "[(17, ['loading of page /login']), (26, ['http://localhost:3000/login']), (17, ['http://localhost:3000/login', 'http://localhost:3000/dashboard']), (10, ['http://localhost:3000/login', 'http://localhost:3000/models']), (21, ['http://localhost:3000/dashboard']), (10, ['http://localhost:3000/dashboard', 'http://localhost:3000/dashboard']), (12, ['http://localhost:3000/models'])]\n",
      "************************\n",
      "[(10, ['http://localhost:3000/dashboard', 'http://localhost:3000/dashboard'])]\n",
      "************************\n",
      "[(26, ['http://localhost:3000/login']), (21, ['http://localhost:3000/dashboard']), (17, ['http://localhost:3000/login', 'http://localhost:3000/dashboard']), (17, ['loading of page /login']), (12, ['http://localhost:3000/models']), (10, ['http://localhost:3000/dashboard', 'http://localhost:3000/dashboard']), (10, ['http://localhost:3000/login', 'http://localhost:3000/models']), (9, ['http://localhost:3000/dashboard', 'http://localhost:3000/models']), (8, ['http://localhost:3000/login', 'http://localhost:3000/execSummary']), (8, ['loading of page /login', 'http://localhost:3000/login'])]\n",
      "************************\n",
      "[(10, ['http://localhost:3000/dashboard', 'http://localhost:3000/dashboard']), (8, ['http://localhost:3000/execSummary']), (8, ['http://localhost:3000/login', 'http://localhost:3000/dashboard', 'http://localhost:3000/dashboard']), (8, ['http://localhost:3000/login', 'http://localhost:3000/execSummary']), (7, ['http://localhost:3000/dashboard', 'http://localhost:3000/execSummary']), (7, ['http://localhost:3000/login', 'http://localhost:3000/dashboard', 'http://localhost:3000/execSummary']), (6, ['http://localhost:3000/dashboard', 'http://localhost:3000/dataSets']), (6, ['http://localhost:3000/dataSets']), (5, ['http://localhost:3000/login', 'http://localhost:3000/dataSets']), (5, ['http://localhost:3000/login', 'http://localhost:3000/models', 'http://localhost:3000/execSummary'])]\n"
     ]
    }
   ],
   "source": [
    "import json\n",
    "with open('D:/Abhishek/Professional/Customer_Journey_Bot/dynatrace_aila_user_journey_json.json') as f:\n",
    "    data = json.load(f)\n",
    "ps = PrefixSpan(data)\n",
    "print(ps.frequent(10))\n",
    "print('************************')\n",
    "print(ps.frequent(10, filter=lambda patt, matches: matches[0][0] > 0))\n",
    "print('************************')\n",
    "print(ps.topk(10))\n",
    "print('************************')\n",
    "print(ps.topk(10, filter=lambda patt, matches: matches[0][0] > 0))"
   ]
  },
  {
   "cell_type": "code",
   "execution_count": 4,
   "metadata": {},
   "outputs": [
    {
     "name": "stdout",
     "output_type": "stream",
     "text": [
      "{\"loading of page /login, http://localhost:3000/login, http://localhost:3000/dashboard\": 6, \"loading of page /login, http://localhost:3000/login, http://localhost:3000/models\": 4, \"loading of page /login, http://localhost:3000/login, http://localhost:3000/execsummary\": 4, \"loading of page /login, http://localhost:3000/dashboard, http://localhost:3000/execsummary\": 4, \"loading of page /login, http://localhost:3000/dashboard, http://localhost:3000/datasets\": 4, \"http://localhost:3000/login, http://localhost:3000/dashboard, http://localhost:3000/models\": 7, \"http://localhost:3000/login, http://localhost:3000/dashboard, http://localhost:3000/models, http://localhost:3000/execSummary\": 4, \"http://localhost:3000/login, http://localhost:3000/dashboard, http://localhost:3000/dashboard\": 8, \"http://localhost:3000/login, http://localhost:3000/dashboard, http://localhost:3000/execSummary\": 7, \"http://localhost:3000/login, http://localhost:3000/dashboard, http://localhost:3000/execSummary, http://localhost:3000/dataSets\": 4, \"http://localhost:3000/login, http://localhost:3000/dashboard, http://localhost:3000/dataSets\": 5, \"http://localhost:3000/login, http://localhost:3000/models, http://localhost:3000/execSummary\": 5, \"http://localhost:3000/login, http://localhost:3000/execSummary, http://localhost:3000/dashboard\": 4, \"http://localhost:3000/dashboard, http://localhost:3000/models, http://localhost:3000/dataSets\": 4, \"http://localhost:3000/dashboard, http://localhost:3000/dashboard, http://localhost:3000/dataSets\": 4}\n"
     ]
    }
   ],
   "source": [
    "ps = PrefixSpan(data)\n",
    "mymap = {}\n",
    "\n",
    "def cover(pattern, matches):\n",
    "    if len(pattern) > 2:\n",
    "        patternString = \", \".join(map(str, pattern))\n",
    "        mymap[patternString] = len(matches)\n",
    "\n",
    "ps.frequent(4, closed=True, callback=cover)\n",
    "y = json.dumps(mymap)\n",
    "print(y)"
   ]
  },
  {
   "cell_type": "code",
   "execution_count": 15,
   "metadata": {},
   "outputs": [
    {
     "data": {
      "text/plain": [
       "{frozenset({0}): 2,\n",
       " frozenset({0, 2}): 2,\n",
       " frozenset({0, 1, 2}): 2,\n",
       " frozenset({0, 1}): 2,\n",
       " frozenset({3}): 2,\n",
       " frozenset({3, 4}): 2,\n",
       " frozenset({1, 3, 4}): 2,\n",
       " frozenset({1, 3}): 2,\n",
       " frozenset({4}): 2,\n",
       " frozenset({1, 4}): 2,\n",
       " frozenset({2}): 3,\n",
       " frozenset({1, 2}): 3,\n",
       " frozenset({1}): 4}"
      ]
     },
     "execution_count": 15,
     "metadata": {},
     "output_type": "execute_result"
    }
   ],
   "source": [
    "db = [\n",
    "    [0, 1, 2, 3, 4],\n",
    "    [1, 1, 1, 3, 4],\n",
    "    [2, 1, 2, 2, 0],\n",
    "    [1, 1, 1, 2, 2],\n",
    "]\n",
    "\n",
    "from pymining import itemmining\n",
    "relim_input = itemmining.get_relim_input(db)\n",
    "report = itemmining.relim(relim_input, min_support=2)\n",
    "report"
   ]
  },
  {
   "cell_type": "code",
   "execution_count": 16,
   "metadata": {},
   "outputs": [
    {
     "data": {
      "text/plain": [
       "[(frozenset({1, 2}), frozenset({0}), 2, 0.6666666666666666),\n",
       " (frozenset({2}), frozenset({0, 1}), 2, 0.6666666666666666),\n",
       " (frozenset({1}), frozenset({0, 2}), 2, 0.5),\n",
       " (frozenset({0, 2}), frozenset({1}), 2, 1.0),\n",
       " (frozenset({0}), frozenset({1, 2}), 2, 1.0),\n",
       " (frozenset({0, 1}), frozenset({2}), 2, 1.0),\n",
       " (frozenset({3, 4}), frozenset({1}), 2, 1.0),\n",
       " (frozenset({4}), frozenset({1, 3}), 2, 1.0),\n",
       " (frozenset({3}), frozenset({1, 4}), 2, 1.0),\n",
       " (frozenset({1, 4}), frozenset({3}), 2, 1.0),\n",
       " (frozenset({1}), frozenset({3, 4}), 2, 0.5),\n",
       " (frozenset({1, 3}), frozenset({4}), 2, 1.0),\n",
       " (frozenset({2}), frozenset({0}), 2, 0.6666666666666666),\n",
       " (frozenset({0}), frozenset({2}), 2, 1.0),\n",
       " (frozenset({1}), frozenset({0}), 2, 0.5),\n",
       " (frozenset({0}), frozenset({1}), 2, 1.0),\n",
       " (frozenset({4}), frozenset({3}), 2, 1.0),\n",
       " (frozenset({3}), frozenset({4}), 2, 1.0),\n",
       " (frozenset({3}), frozenset({1}), 2, 1.0),\n",
       " (frozenset({1}), frozenset({3}), 2, 0.5),\n",
       " (frozenset({4}), frozenset({1}), 2, 1.0),\n",
       " (frozenset({1}), frozenset({4}), 2, 0.5),\n",
       " (frozenset({2}), frozenset({1}), 3, 1.0),\n",
       " (frozenset({1}), frozenset({2}), 3, 0.75)]"
      ]
     },
     "execution_count": 16,
     "metadata": {},
     "output_type": "execute_result"
    }
   ],
   "source": [
    "from pymining import itemmining, assocrules, perftesting\n",
    "transactions = perftesting.get_default_transactions()\n",
    "relim_input = itemmining.get_relim_input(db)\n",
    "item_sets = itemmining.relim(relim_input, min_support=2)\n",
    "rules = assocrules.mine_assoc_rules(item_sets, min_support=2, min_confidence=0.5)\n",
    "rules"
   ]
  },
  {
   "cell_type": "code",
   "execution_count": 17,
   "metadata": {},
   "outputs": [
    {
     "data": {
      "text/plain": [
       "[((0,), 2),\n",
       " ((1,), 4),\n",
       " ((1, 1), 2),\n",
       " ((1, 1, 1), 2),\n",
       " ((1, 2), 3),\n",
       " ((1, 2, 2), 2),\n",
       " ((1, 3), 2),\n",
       " ((1, 3, 4), 2),\n",
       " ((1, 4), 2),\n",
       " ((2,), 3),\n",
       " ((2, 2), 2),\n",
       " ((3,), 2),\n",
       " ((3, 4), 2),\n",
       " ((4,), 2)]"
      ]
     },
     "execution_count": 17,
     "metadata": {},
     "output_type": "execute_result"
    }
   ],
   "source": [
    "from pymining import seqmining\n",
    "seqs = ( 'caabc', 'abcb', 'cabc', 'abbca')\n",
    "freq_seqs = seqmining.freq_seq_enum(db, 2)\n",
    "sorted(freq_seqs)"
   ]
  }
 ],
 "metadata": {
  "kernelspec": {
   "display_name": "Python 3",
   "language": "python",
   "name": "python3"
  },
  "language_info": {
   "codemirror_mode": {
    "name": "ipython",
    "version": 3
   },
   "file_extension": ".py",
   "mimetype": "text/x-python",
   "name": "python",
   "nbconvert_exporter": "python",
   "pygments_lexer": "ipython3",
   "version": "3.7.6"
  }
 },
 "nbformat": 4,
 "nbformat_minor": 4
}
