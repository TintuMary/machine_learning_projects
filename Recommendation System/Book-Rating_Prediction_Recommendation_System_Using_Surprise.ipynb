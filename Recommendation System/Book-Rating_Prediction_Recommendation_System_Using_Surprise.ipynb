{
 "cells": [
  {
   "cell_type": "code",
   "execution_count": null,
   "metadata": {},
   "outputs": [],
   "source": [
    "'''\n",
    "    ***** RECOMMENDATION SYSTEM USING SURPRISE LIBRARY for User/Book Rating *****\n",
    "\n",
    "A. This notebook covers following aspects:\n",
    "    a. How to visualize data distribution in case of Recommendation Systems\n",
    "    b. How to filter out the data and remove unnecessary data \n",
    "    c. Why and how to use 'Weightate Rating' in Recommendation System\n",
    "    c. How to train and test Recommendation system using Surprise Library\n",
    "    d. How to evvalaute model accuracy using Surprise Library\n",
    "    e. How to get Top 'n' worst and best recommendation by model algorithm\n",
    "    f. How to predict a rating for a given user id and book id combination with different algorithms\n",
    "    \n",
    "A. This notebook has implementation of recommendation system for Book Rating database using SURPRISE library with following \n",
    "    algorithms:\n",
    "    a. SVD (Singular value decomposition)\n",
    "    b. NMF\n",
    "    c. KNNBaseline default\n",
    "    d. KNNBaseline item-item similarity\n",
    "    e. KNNBaseline user-user similarity\n",
    "    f. Slope-one\n",
    "    \n",
    "B. This notebook is using 'Dataset.load_from_df' to load/referred data as supported by Surprise Library such as:\n",
    "C. This notebook is using 'model_selection.train_test_split' splitting data into training and testing dataset:\n",
    "    \n",
    "'''"
   ]
  },
  {
   "cell_type": "code",
   "execution_count": 1,
   "metadata": {},
   "outputs": [],
   "source": [
    "import pandas as pd\n",
    "%matplotlib inline\n",
    "import matplotlib\n",
    "import matplotlib.pyplot as plt\n",
    "import numpy as np\n",
    "from sklearn.metrics.pairwise import pairwise_distances\n",
    "from surprise import Reader\n",
    "from surprise import Dataset\n",
    "from surprise.model_selection import cross_validate\n",
    "from surprise import NormalPredictor\n",
    "from surprise import KNNBasic\n",
    "from surprise import KNNWithMeans\n",
    "from surprise import KNNWithZScore\n",
    "from surprise import KNNBaseline\n",
    "from surprise import SVD\n",
    "from surprise import BaselineOnly\n",
    "from surprise import SVDpp\n",
    "from surprise import NMF\n",
    "from surprise import SlopeOne\n",
    "from surprise import CoClustering\n",
    "from surprise.accuracy import rmse\n",
    "from surprise import accuracy\n",
    "from surprise.model_selection import train_test_split"
   ]
  },
  {
   "cell_type": "code",
   "execution_count": 25,
   "metadata": {},
   "outputs": [],
   "source": [
    "# Part-1  - Load the User-Book Rating dataset\n",
    "\n",
    "user = pd.read_csv('BX-Users.csv', sep=';', error_bad_lines=False, encoding=\"latin-1\")\n",
    "user.columns = ['userID', 'Location', 'Age']\n",
    "\n",
    "rating = pd.read_csv('BX-Book-Ratings.csv', sep=';', error_bad_lines=False, encoding=\"latin-1\")\n",
    "rating.columns = ['userID', 'ISBN', 'bookRating']\n",
    "\n",
    "original_df = pd.merge(user, rating, on='userID', how='inner')\n",
    "original_df.drop(['Location', 'Age'], axis=1, inplace=True)\n",
    "original_df.head()\n",
    "\n",
    "user_column_name = 'userID'\n",
    "item_column_name = 'ISBN'\n",
    "output_label_column = 'bookRating'"
   ]
  },
  {
   "cell_type": "code",
   "execution_count": 31,
   "metadata": {},
   "outputs": [
    {
     "name": "stdout",
     "output_type": "stream",
     "text": [
      "The original data frame shape:\t(1149780, 3)\n",
      "The new filtered data frame shape:\t(140516, 3)\n",
      "     userID        ISBN  bookRating\n",
      "394     243  0060915544          10\n",
      "395     243  0060977493           7\n",
      "397     243  0156006529           0\n",
      "400     243  0316096199           0\n",
      "401     243  0316601950           9\n",
      "402     243  0316602906           0\n",
      "403     243  0316666343           0\n",
      "404     243  0316693006           0\n",
      "405     243  0316776963           9\n",
      "406     243  0316899984           7\n"
     ]
    }
   ],
   "source": [
    "'''\n",
    "Part-2  - To reduce the size of dataset, lets filter out \n",
    "    A. all user id which has given less than 50 ratings \n",
    "    B. Also, all books (ISBN) which are being rating less than 50 times\n",
    "    \n",
    "'''\n",
    "\n",
    "min_book_ratings = 50\n",
    "filter_books = original_df['ISBN'].value_counts() > min_book_ratings\n",
    "filter_books = filter_books[filter_books].index.tolist()\n",
    "\n",
    "min_user_ratings = 50\n",
    "filter_users = original_df['userID'].value_counts() > min_user_ratings\n",
    "filter_users = filter_users[filter_users].index.tolist()\n",
    "\n",
    "df = original_df[(original_df['ISBN'].isin(filter_books)) & (original_df['userID'].isin(filter_users))]\n",
    "print('The original data frame shape:\\t{}'.format(original_df.shape))\n",
    "print('The new filtered data frame shape:\\t{}'.format(df.shape))\n",
    "\n",
    "print(df[:10].to_string())"
   ]
  },
  {
   "cell_type": "code",
   "execution_count": 18,
   "metadata": {},
   "outputs": [],
   "source": [
    "def make_histogram(dataset, attribute, bins=25, bar_color='#3498db', edge_color='#2980b9', title='Title', xlab='X', ylab='Y', sort_index=False):\n",
    "    if attribute == 'moviePubYear':\n",
    "        dataset = dataset[dataset['moviePubYear'] != 9999]\n",
    "        \n",
    "    fig, ax = plt.subplots(figsize=(14, 7))\n",
    "    ax.spines['top'].set_visible(False)\n",
    "    ax.spines['right'].set_visible(False)\n",
    "    ax.set_title(title, fontsize=24, pad=20)\n",
    "    ax.set_xlabel(xlab, fontsize=16, labelpad=20)\n",
    "    ax.set_ylabel(ylab, fontsize=16, labelpad=20)\n",
    "    \n",
    "    plt.hist(dataset[attribute], bins=bins, color=bar_color, ec=edge_color, linewidth=2)\n",
    "    \n",
    "    plt.xticks(rotation=45)\n",
    "    \n",
    "\n",
    "def make_bar_chart(dataset, attribute, bar_color='#3498db', edge_color='#2980b9', title='Title', xlab='X', ylab='Y', sort_index=True):\n",
    "    '''\n",
    "    if sort_index == False:\n",
    "        xs = dataset[attribute].value_counts().index\n",
    "        ys = dataset[attribute].value_counts().values\n",
    "    else:\n",
    "        xs = dataset[attribute].value_counts().sort_index().index\n",
    "        ys = dataset[attribute].value_counts().sort_index().values\n",
    "        \n",
    "    '''\n",
    "    \n",
    "    fig, ax = plt.subplots(figsize=(14, 7))\n",
    "    ax.spines['top'].set_visible(False)\n",
    "    ax.spines['right'].set_visible(False)\n",
    "    ax.set_title(title, fontsize=24, pad=20)\n",
    "    ax.set_xlabel(xlab, fontsize=16, labelpad=20)\n",
    "    ax.set_ylabel(ylab, fontsize=16, labelpad=20)\n",
    "    \n",
    "    plt.bar(x=dataset[attribute], height=dataset['bookRating'], color=bar_color, edgecolor=edge_color, linewidth=2)\n",
    "    plt.xticks(rotation=45)"
   ]
  },
  {
   "cell_type": "code",
   "execution_count": 23,
   "metadata": {},
   "outputs": [
    {
     "name": "stdout",
     "output_type": "stream",
     "text": [
      "            count\n",
      "bookRating       \n",
      "0           98813\n",
      "1             140\n",
      "2             210\n",
      "3             356\n",
      "4             607\n",
      "5            3654\n",
      "6            2917\n",
      "7            6694\n",
      "8           10381\n",
      "9            7966\n",
      "10           8778\n"
     ]
    },
    {
     "data": {
      "image/png": "[encoded data removed]",
      "text/plain": [
       "<Figure size 1008x504 with 1 Axes>"
      ]
     },
     "metadata": {
      "needs_background": "light"
     },
     "output_type": "display_data"
    }
   ],
   "source": [
    "# Part-3-A - Perform some data engineering to understand and visualize the data distribution\n",
    "\n",
    "'''\n",
    "    Distribution of Book Ratings. As 'bookRating' scale is from 0 to 10.\n",
    "    So 'df_ratings_count' will have max '11' rows - each for for individual rating. \n",
    "'''\n",
    "df_ratings_count = pd.DataFrame(df.groupby('bookRating').size(), columns=['count'])\n",
    "print(df_ratings_count.head(15))\n",
    "\n",
    "# Or we can use below line code to get the count of each bookRating\n",
    "data = df['bookRating'].value_counts().sort_index(ascending=False)\n",
    "\n",
    "\n",
    "make_histogram(df, 'bookRating', title='Distribution of Book Ratings', xlab='Rating', ylab='Counts')"
   ]
  },
  {
   "cell_type": "code",
   "execution_count": 22,
   "metadata": {},
   "outputs": [
    {
     "name": "stdout",
     "output_type": "stream",
     "text": [
      "   userID  bookRating\n",
      "0   11676        1552\n",
      "1   35859         732\n",
      "2   76352         664\n",
      "3   16795         599\n",
      "4  153662         554\n",
      "5  102967         515\n",
      "6   55492         506\n",
      "7   78783         482\n",
      "8  232131         480\n",
      "9  198711         468\n"
     ]
    },
    {
     "data": {
      "image/png": "[encoded data removed]",
      "text/plain": [
       "<Figure size 1008x504 with 1 Axes>"
      ]
     },
     "metadata": {
      "needs_background": "light"
     },
     "output_type": "display_data"
    }
   ],
   "source": [
    "# Part-3-B - Perform some data engineering to understand and visualize the data distribution\n",
    "\n",
    "'''\n",
    " Top 10 users who has given most rating to different books\n",
    "'''\n",
    "\n",
    "user_with_most_ratings = pd.DataFrame(df.groupby(user_column_name).count()[output_label_column]).sort_values(by=\n",
    "                                                                output_label_column, ascending=False)[:10].reset_index()\n",
    "print(user_with_most_ratings.head(15))\n",
    "\n",
    "# or below lint to get Top 10 used with most given rating\n",
    "user_with_most_ratings1 = df.groupby('userID')['bookRating'].count().reset_index().sort_values('bookRating', ascending=False)[:10]\n",
    "# print(user_with_most_ratings1.head(15))\n",
    "\n",
    "make_bar_chart(user_with_most_ratings, 'userID', title='Users with most ratings', xlab='User ID', ylab='Counts')"
   ]
  },
  {
   "cell_type": "code",
   "execution_count": 28,
   "metadata": {},
   "outputs": [
    {
     "name": "stdout",
     "output_type": "stream",
     "text": [
      "            bookRating\n",
      "ISBN                  \n",
      "0971880107         844\n",
      "0316666343         574\n",
      "0385504209         434\n",
      "0060928336         375\n",
      "0312195516         341\n",
      "044021145X         333\n",
      "067976402X         324\n",
      "0440214041         320\n",
      "0440211727         320\n",
      "0142001740         310\n"
     ]
    },
    {
     "data": {
      "image/png": "[encoded data removed]",
      "text/plain": [
       "<Figure size 1008x504 with 1 Axes>"
      ]
     },
     "metadata": {
      "needs_background": "light"
     },
     "output_type": "display_data"
    }
   ],
   "source": [
    "# Part-3-C - Perform some data engineering to understand and visualize the data distribution\n",
    "\n",
    "\n",
    "'''\n",
    " Top 10 books who were most rated by different users\n",
    "'''\n",
    "item_with_most_ratings = pd.DataFrame(df.groupby(item_column_name).count()[output_label_column]).sort_values(by=\n",
    "                                                                    output_label_column, ascending=False)\n",
    "\n",
    "# Calculating this 'm' to \n",
    "m=item_with_most_ratings['bookRating'].quantile(0.90)\n",
    "\n",
    "item_with_most_ratings= item_with_most_ratings[:10]\n",
    "print(item_with_most_ratings.head(15))\n",
    "\n",
    "# Or we can get Top 10 most rated books with below line as well - both are producing same result.\n",
    "df_movies_cnt = pd.DataFrame(df.groupby(item_column_name).size(), columns=['count']).sort_values(by=\n",
    "                                                                'count', ascending=False)[:10]\n",
    "# Or below one for same ..\n",
    "df.groupby(item_column_name)[output_label_column].count().reset_index().sort_values(output_label_column, ascending=False)[:10]\n",
    "\n",
    "\n",
    "book_ratings = pd.DataFrame(df.groupby('ISBN').count()['bookRating']).sort_values(by='bookRating')[-10:].reset_index()\n",
    "make_bar_chart(book_ratings, 'ISBN', title='Books with most ratings', xlab='ISBN', ylab='Counts')"
   ]
  },
  {
   "cell_type": "code",
   "execution_count": 29,
   "metadata": {},
   "outputs": [
    {
     "name": "stdout",
     "output_type": "stream",
     "text": [
      "Mean Rating of all books:  2.3428506362264794\n",
      "Threshold value of Num_Rating:  114.0\n",
      "Displaying top 10 books with heightest weightage rating\n",
      "   index        ISBN  Mean_Rating  Num_Ratings  Weightage_Ratings\n",
      "0    862  0439136350     6.478632          117           4.437597\n",
      "1    860  0439064864     6.508772          114           4.425811\n",
      "2    864  0439139597     6.137931          116           4.256891\n",
      "3    866  043935806X     5.224390          205           4.194624\n",
      "4   1632  059035342X     4.109589          292           3.613510\n",
      "5    652  0385504209     3.817972          434           3.511104\n",
      "6   1029  0446310786     4.090090          222           3.497277\n",
      "7    863  0439136369     4.483871          124           3.458340\n",
      "8    861  0439064872     4.005525          181           3.363000\n",
      "9    284  0316666343     3.496516          574           3.305356\n"
     ]
    },
    {
     "data": {
      "text/plain": [
       "<matplotlib.collections.PathCollection at 0x290daa0e6a0>"
      ]
     },
     "execution_count": 29,
     "metadata": {},
     "output_type": "execute_result"
    },
    {
     "data": {
      "image/png": "[encoded data removed]",
      "text/plain": [
       "<Figure size 1008x504 with 1 Axes>"
      ]
     },
     "metadata": {
      "needs_background": "light"
     },
     "output_type": "display_data"
    }
   ],
   "source": [
    "'''\n",
    " Part-4   ********* 'Weightage Rating' *************\n",
    "    \n",
    "Why and how to calculate 'Weightage Rating'\n",
    "    \n",
    "Why:\n",
    "    Lets say, there is one book which got 2 rating with 9 & 10.. in this case, this book will be having kind of \n",
    "    heightest rating among all other books. But as there are only 2 user ratings given to this book so ideally it makes sense\n",
    "    to sort the book list by 'weightage rating' instead of 'average rating'\n",
    "    \n",
    "How:\n",
    "    A. Get the threshold value of 'Number of Rating' which a book at least should have to get recommended. For this 'm' is \n",
    "        calcualted with quantile for e.g. item_with_most_ratings['bookRating'].quantile(0.9999)\n",
    "    B. Filter the list of books which are having 'Number of Rating' > m\n",
    "    C. Calculate the 'Weightage Rating' by applying formula using 'Mean_Rating' of a book, Total Number of Rating of a book,\n",
    "        'mean rating' of all books and 'm'\n",
    "    \n",
    "'''\n",
    "\n",
    "C=df['bookRating'].mean()\n",
    "print('Mean Rating of all books: ', C)\n",
    "print('Threshold value of Num_Rating: ', m)\n",
    "def weighted_rating(x):\n",
    "    v = x['Num_Ratings']\n",
    "    R = x['Mean_Rating']\n",
    "    return (v/(v+m) * R) + (m/(m+v) * C)\n",
    "\n",
    "ratings_df = pd.DataFrame()\n",
    "ratings_df['ISBN'] = df.groupby('ISBN')['bookRating'].groups.keys()\n",
    "ratings_df['Mean_Rating'] = df.groupby('ISBN')['bookRating'].mean().values\n",
    "ratings_df['Num_Ratings'] = df.groupby('ISBN')['bookRating'].count().values\n",
    "ratings_df = ratings_df[ratings_df['Num_Ratings'] >= m]\n",
    "ratings_df['Weightage_Ratings'] = ratings_df.apply(weighted_rating, axis=1)\n",
    "\n",
    "ratings_df_clip= ratings_df.sort_values(by='Weightage_Ratings', ascending=False)[:10].reset_index()\n",
    "\n",
    "print('Displaying top 10 books with heightest weightage rating')\n",
    "print(ratings_df_clip.head(10).to_string())\n",
    "\n",
    "fig, ax = plt.subplots(figsize=(14, 7))\n",
    "ax.spines['top'].set_visible(False)\n",
    "ax.spines['right'].set_visible(False)\n",
    "ax.set_title('Mean Rating vs. Number of Ratings', fontsize=24, pad=20)\n",
    "ax.set_xlabel('Mean Rating', fontsize=16, labelpad=20)\n",
    "ax.set_ylabel('Number of Ratings', fontsize=16, labelpad=20)\n",
    "\n",
    "plt.scatter(ratings_df['Mean_Rating'], ratings_df['Num_Ratings'], alpha=0.5)"
   ]
  },
  {
   "cell_type": "code",
   "execution_count": 30,
   "metadata": {},
   "outputs": [
    {
     "name": "stdout",
     "output_type": "stream",
     "text": [
      "Estimating biases using als...\n",
      "Estimating biases using als...\n",
      "Estimating biases using als...\n",
      "              test_rmse  fit_time  test_time\n",
      "Algorithm                                   \n",
      "BaselineOnly   3.376501  0.181345   0.379338\n",
      "SlopeOne       3.477833  0.843342   5.036022\n",
      "SVD            3.547725  7.045052   0.526670\n",
      "NMF            3.846307  7.957050   0.444341\n"
     ]
    }
   ],
   "source": [
    "# Part-5 Train the model with different algorithms and evaluate performance of each algorithm\n",
    "\n",
    "reader = Reader(rating_scale=(0, 9))\n",
    "data = Dataset.load_from_df(df[['userID', 'ISBN', 'bookRating']], reader)\n",
    "\n",
    "benchmark = []\n",
    "\n",
    "# for algorithm in [SVD(), SVDpp(), SlopeOne(), NMF(), NormalPredictor(), KNNBaseline(), KNNBasic(), KNNWithMeans(), KNNWithZScore(), BaselineOnly(), CoClustering()]:\n",
    "for algorithm in [SVD(), BaselineOnly(), SlopeOne(), NMF()]:\n",
    "    # Perform cross validation\n",
    "    results = cross_validate(algorithm, data, measures=['RMSE'], cv=3, verbose=False)\n",
    "    \n",
    "    # Get results, calculate 'mean' and put into DF. Also, append algorithm name\n",
    "    tmp = pd.DataFrame.from_dict(results).mean(axis=0)\n",
    "    tmp = tmp.append(pd.Series([str(algorithm).split(' ')[0].split('.')[-1]], index=['Algorithm']))\n",
    "    benchmark.append(tmp)\n",
    "\n",
    "surprise_results = pd.DataFrame(benchmark).set_index('Algorithm').sort_values('test_rmse')\n",
    "print(surprise_results)"
   ]
  },
  {
   "cell_type": "code",
   "execution_count": 33,
   "metadata": {},
   "outputs": [
    {
     "name": "stdout",
     "output_type": "stream",
     "text": [
      "Estimating biases using als...\n",
      "Accuracy Score using Baseline Algorithm\n",
      "RMSE: 3.2892\n",
      "\n",
      "Accuracy Score using SVD Algorithm\n",
      "RMSE: 3.4517\n",
      "Estimating biases using als...\n",
      "Computing the pearson_baseline similarity matrix...\n",
      "Done computing similarity matrix.\n",
      "\n",
      "Accuracy Score using KNNBaseline Item-Item similarity Algorithm\n",
      "RMSE: 3.4929\n",
      "Estimating biases using als...\n",
      "Computing the pearson_baseline similarity matrix...\n",
      "Done computing similarity matrix.\n",
      "\n",
      "Accuracy Score using KNNBaseline User-user similarity Algorithm\n",
      "RMSE: 3.6293\n"
     ]
    },
    {
     "data": {
      "text/plain": [
       "3.629347558612514"
      ]
     },
     "execution_count": 33,
     "metadata": {},
     "output_type": "execute_result"
    }
   ],
   "source": [
    "# Part-6 Train the model with different algorithms such as SVD, Baseline, KNNBaseline Item/User similarity\n",
    "# and evaluate performance of each algorithm by 'RMSE' score\n",
    "\n",
    "reader = Reader(rating_scale=(0, 9))\n",
    "data = Dataset.load_from_df(df[['userID', 'ISBN', 'bookRating']], reader)\n",
    "\n",
    "bsl_options = {'method': 'als', 'n_epochs': 5,\n",
    "               'reg_u': 12, 'reg_i': 5 }\n",
    "\n",
    "trainset, testset = train_test_split(data, test_size=0.25)\n",
    "\n",
    "algo = BaselineOnly(bsl_options=bsl_options)\n",
    "predictions = algo.fit(trainset).test(testset[:200])\n",
    "print('Accuracy Score using Baseline Algorithm')\n",
    "accuracy.rmse(predictions)\n",
    "\n",
    "svdalgo = SVD(n_factors=160, n_epochs=100, lr_all=0.005, reg_all=0.1, random_state=0)\n",
    "svdpredictions = svdalgo.fit(trainset).test(testset[:200])\n",
    "print('\\nAccuracy Score using SVD Algorithm')\n",
    "accuracy.rmse(svdpredictions)\n",
    "\n",
    "\n",
    "sim_options = {'name': 'pearson_baseline', 'user_based': False}\n",
    "itemAlgo = KNNBaseline(sim_options=sim_options)\n",
    "itempredictions = itemAlgo.fit(trainset).test(testset[:200])\n",
    "print('\\nAccuracy Score using KNNBaseline Item-Item similarity Algorithm')\n",
    "accuracy.rmse(itempredictions)\n",
    "\n",
    "\n",
    "sim_options = {'name': 'pearson_baseline', 'user_based': True}\n",
    "userAlgo = KNNBaseline(sim_options=sim_options)\n",
    "userpredictions = userAlgo.fit(trainset).test(testset[:200])\n",
    "print('\\nAccuracy Score using KNNBaseline User-user similarity Algorithm')\n",
    "accuracy.rmse(userpredictions)"
   ]
  },
  {
   "cell_type": "code",
   "execution_count": 47,
   "metadata": {},
   "outputs": [
    {
     "name": "stdout",
     "output_type": "stream",
     "text": [
      "Worst Predictions for Baseline Algorithm\n",
      "        uid         iid   rui       est                    details  Iu  Ui       err\n",
      "90   111578  0679781587  10.0  3.790605  {'was_impossible': False}   0   0  6.209395\n",
      "166   19681  0373484003   9.0  2.198908  {'was_impossible': False}   0   0  6.801092\n",
      "144  196077  0061099732   7.0  0.117757  {'was_impossible': False}   0   0  6.882243\n",
      "54    48046  0142004278   9.0  2.072468  {'was_impossible': False}   0   0  6.927532\n",
      "62   187624  0345370775  10.0  2.850576  {'was_impossible': False}   0   0  7.149424\n",
      "78   110483  0441001971  10.0  2.757194  {'was_impossible': False}   0   0  7.242806\n",
      "191  244171  038549081X  10.0  2.644253  {'was_impossible': False}   0   0  7.355747\n",
      "178  248464  006019491X  10.0  2.234684  {'was_impossible': False}   0   0  7.765316\n",
      "22    59172  0440185327  10.0  1.609304  {'was_impossible': False}   0   0  8.390696\n",
      "115  201017  1401088945  10.0  0.171997  {'was_impossible': False}   0   0  9.828003\n",
      "***********************\n",
      "Best Predictions for Baseline Algorithm\n",
      "        uid         iid  rui       est                    details  Iu  Ui       err\n",
      "31   210792  0345370805  0.0  0.000000  {'was_impossible': False}   0   0  0.000000\n",
      "61   152249  0440235502  0.0  0.000000  {'was_impossible': False}   0   0  0.000000\n",
      "51    76352  0345334019  0.0  0.000000  {'was_impossible': False}   0   0  0.000000\n",
      "26   268330  0425150143  0.0  0.000000  {'was_impossible': False}   0   0  0.000000\n",
      "43    39616  055356773X  0.0  0.123829  {'was_impossible': False}   0   0  0.123829\n",
      "161  127429  0060928336  0.0  0.289741  {'was_impossible': False}   0   0  0.289741\n",
      "124   35859  055356773X  0.0  0.318629  {'was_impossible': False}   0   0  0.318629\n",
      "142  115490  0373484410  0.0  0.363164  {'was_impossible': False}   0   0  0.363164\n",
      "7    152354  0345452569  0.0  0.378032  {'was_impossible': False}   0   0  0.378032\n",
      "95   238120  0385474016  0.0  0.404233  {'was_impossible': False}   0   0  0.404233\n"
     ]
    }
   ],
   "source": [
    "# Part-7 Get the Top 'n' worst and best predictions\n",
    "\n",
    "def get_Iu(uid):\n",
    "    \"\"\" return the number of items rated by given user\n",
    "    args: \n",
    "      uid: the id of the user\n",
    "    returns: \n",
    "      the number of items rated by the user\n",
    "    \"\"\"\n",
    "    try:\n",
    "        return len(trainset.ur[trainset.to_inner_uid(uid)])\n",
    "    except ValueError: # user was not part of the trainset\n",
    "        return 0\n",
    "    \n",
    "def get_Ui(iid):\n",
    "    \"\"\" return number of users that have rated given item\n",
    "    args:\n",
    "      iid: the raw id of the item\n",
    "    returns:\n",
    "      the number of users that have rated the item.\n",
    "    \"\"\"\n",
    "    try: \n",
    "        return len(trainset.ir[trainset.to_inner_iid(iid)])\n",
    "    except ValueError:\n",
    "        return 0\n",
    "    \n",
    "df = pd.DataFrame(predictions, columns=['uid', 'iid', 'rui', 'est', 'details'])\n",
    "df['Iu'] = df.uid.apply(get_Iu)\n",
    "df['Ui'] = df.iid.apply(get_Ui)\n",
    "df['err'] = abs(df.est - df.rui)\n",
    "df.head()\n",
    "\n",
    "\n",
    "best_predictions = df.sort_values(by='err')[:10]\n",
    "worst_predictions = df.sort_values(by='err')[-10:]\n",
    "print('Worst Predictions for Baseline Algorithm')\n",
    "print(worst_predictions.to_string())\n",
    "print('***********************')\n",
    "print('Best Predictions for Baseline Algorithm')\n",
    "print(best_predictions.to_string())"
   ]
  },
  {
   "cell_type": "code",
   "execution_count": 46,
   "metadata": {},
   "outputs": [
    {
     "data": {
      "text/html": [
       "<div>\n",
       "<style scoped>\n",
       "    .dataframe tbody tr th:only-of-type {\n",
       "        vertical-align: middle;\n",
       "    }\n",
       "\n",
       "    .dataframe tbody tr th {\n",
       "        vertical-align: top;\n",
       "    }\n",
       "\n",
       "    .dataframe thead th {\n",
       "        text-align: right;\n",
       "    }\n",
       "</style>\n",
       "<table border=\"1\" class=\"dataframe\">\n",
       "  <thead>\n",
       "    <tr style=\"text-align: right;\">\n",
       "      <th></th>\n",
       "      <th>ISBN</th>\n",
       "      <th>userID</th>\n",
       "      <th>bookRating</th>\n",
       "      <th>Baseline_Rating</th>\n",
       "      <th>SVD_Rating</th>\n",
       "      <th>KNNBaseline_Item_Rating</th>\n",
       "      <th>KNNBaseline_User_Rating</th>\n",
       "    </tr>\n",
       "  </thead>\n",
       "  <tbody>\n",
       "    <tr>\n",
       "      <th>0</th>\n",
       "      <td>211</td>\n",
       "      <td>29999911</td>\n",
       "      <td>10.00</td>\n",
       "      <td>2.343078</td>\n",
       "      <td>2.343078</td>\n",
       "      <td>2.343078</td>\n",
       "      <td>2.343078</td>\n",
       "    </tr>\n",
       "    <tr>\n",
       "      <th>1</th>\n",
       "      <td>0020442203</td>\n",
       "      <td>11676</td>\n",
       "      <td>2.58</td>\n",
       "      <td>5.157867</td>\n",
       "      <td>3.036341</td>\n",
       "      <td>5.734478</td>\n",
       "      <td>3.921663</td>\n",
       "    </tr>\n",
       "    <tr>\n",
       "      <th>2</th>\n",
       "      <td>0060915544</td>\n",
       "      <td>198711</td>\n",
       "      <td>7.00</td>\n",
       "      <td>1.436595</td>\n",
       "      <td>0.742795</td>\n",
       "      <td>0.824003</td>\n",
       "      <td>0.000000</td>\n",
       "    </tr>\n",
       "    <tr>\n",
       "      <th>3</th>\n",
       "      <td>0060977493</td>\n",
       "      <td>153662</td>\n",
       "      <td>3.00</td>\n",
       "      <td>2.085136</td>\n",
       "      <td>2.847225</td>\n",
       "      <td>1.626284</td>\n",
       "      <td>1.852399</td>\n",
       "    </tr>\n",
       "  </tbody>\n",
       "</table>\n",
       "</div>"
      ],
      "text/plain": [
       "         ISBN    userID  bookRating  Baseline_Rating  SVD_Rating  \\\n",
       "0         211  29999911       10.00         2.343078    2.343078   \n",
       "1  0020442203     11676        2.58         5.157867    3.036341   \n",
       "2  0060915544    198711        7.00         1.436595    0.742795   \n",
       "3  0060977493    153662        3.00         2.085136    2.847225   \n",
       "\n",
       "   KNNBaseline_Item_Rating  KNNBaseline_User_Rating  \n",
       "0                 2.343078                 2.343078  \n",
       "1                 5.734478                 3.921663  \n",
       "2                 0.824003                 0.000000  \n",
       "3                 1.626284                 1.852399  "
      ]
     },
     "execution_count": 46,
     "metadata": {},
     "output_type": "execute_result"
    }
   ],
   "source": [
    "# Part -8 - Predict a rating for a given user id and book id combination with different algorithm\n",
    "\n",
    "ratings_dict = {'ISBN': ['211', '0020442203', '0060915544', '0060977493'],\n",
    "                'userID': [29999911, 11676, 198711, 153662],\n",
    "                'bookRating': [10.0, 2.58, 7, 3]}\n",
    "\n",
    "test_df = pd.DataFrame(ratings_dict)\n",
    "\n",
    "reader = Reader(rating_scale=(1, 5))\n",
    "data = Dataset.load_from_df(test_df[['userID', 'ISBN', 'bookRating']], reader)\n",
    "trainset, testset = train_test_split(data, test_size=.99)\n",
    "\n",
    "baselinepred = algo.test(testset)\n",
    "baselineodf = pd.DataFrame(baselinepred, columns=['uid', 'iid', 'rui', 'est', 'details'])\n",
    "\n",
    "svdpred = svdalgo.test(testset)\n",
    "svdodf = pd.DataFrame(svdpred, columns=['uid', 'iid', 'rui', 'est', 'details'])\n",
    "\n",
    "itempred = itemAlgo.test(testset)\n",
    "itemodf = pd.DataFrame(itempred, columns=['uid', 'iid', 'rui', 'est', 'details'])\n",
    "\n",
    "userpred = userAlgo.test(testset)\n",
    "userodf = pd.DataFrame(userpred, columns=['uid', 'iid', 'rui', 'est', 'details'])\n",
    "\n",
    "\n",
    "baselineodf = baselineodf.rename(columns={\"uid\": \"userID\", \"est\": \"Baseline_Rating\"})\n",
    "merge_df = pd.merge(test_df, baselineodf, on='userID', how='inner')\n",
    "merge_df.drop(['iid', 'rui', 'details'], axis=1, inplace=True)\n",
    "\n",
    "svdodf = svdodf.rename(columns={\"uid\": \"userID\", \"est\": \"SVD_Rating\"})\n",
    "merge_df = pd.merge(merge_df, svdodf, on='userID', how='inner')\n",
    "merge_df.drop(['iid', 'rui', 'details'], axis=1, inplace=True)\n",
    "\n",
    "itemodf = itemodf.rename(columns={\"uid\": \"userID\", \"est\": \"KNNBaseline_Item_Rating\"})\n",
    "merge_df = pd.merge(merge_df, itemodf, on='userID', how='inner')\n",
    "merge_df.drop(['iid', 'rui', 'details'], axis=1, inplace=True)\n",
    "\n",
    "userodf = userodf.rename(columns={\"uid\": \"userID\", \"est\": \"KNNBaseline_User_Rating\"})\n",
    "merge_df = pd.merge(merge_df, userodf, on='userID', how='inner')\n",
    "merge_df.drop(['iid', 'rui', 'details'], axis=1, inplace=True)\n",
    "\n",
    "merge_df"
   ]
  },
  {
   "cell_type": "code",
   "execution_count": null,
   "metadata": {},
   "outputs": [],
   "source": []
  }
 ],
 "metadata": {
  "kernelspec": {
   "display_name": "mypika",
   "language": "python",
   "name": "mypika"
  },
  "language_info": {
   "codemirror_mode": {
    "name": "ipython",
    "version": 3
   },
   "file_extension": ".py",
   "mimetype": "text/x-python",
   "name": "python",
   "nbconvert_exporter": "python",
   "pygments_lexer": "ipython3",
   "version": "3.6.6"
  }
 },
 "nbformat": 4,
 "nbformat_minor": 2
}
