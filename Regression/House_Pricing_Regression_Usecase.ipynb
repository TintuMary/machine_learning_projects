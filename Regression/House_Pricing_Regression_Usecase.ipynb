{
 "cells": [
  {
   "cell_type": "code",
   "execution_count": null,
   "metadata": {},
   "outputs": [],
   "source": [
    "'''\n",
    "In this notebook, a Regression problem 'House Pricing Prediction' is being tried to solve here. Problem is to predict the house \n",
    "pricing based on several input features such as Location, # of Bed rooms, SF area etc.\n",
    "\n",
    "Here we have following parts. \n",
    "A. In section-3, \n",
    "    a. Label encoder is used to convert all categorical attributes into Continious values. Label encoder files has been saved which will be used while model testing \n",
    "    b. Scaler is used to normalize the numeric values into a given range and same file has been saved for future purpose\n",
    "    c. Model is trained using 'LinearRegressor' algorithm and saved as a pickle file. Pickle file will be used for model offline testing. \n",
    "    \n",
    "B. In Section-4, \n",
    "    a. Label encoder file and Scalar file are used to transform the test data into desired format \n",
    "    b. then model pickle file is used to test the model against test data.\n",
    "\n",
    "C. In remaining sections - we have trained models using different algorithms and checked the performance \n",
    "    a. DecisionTreeRegressor\n",
    "    b. RandomForestRegressor\n",
    "    c. SVR\n",
    "    d. GradientBoostingRegressor\n",
    "'''"
   ]
  },
  {
   "cell_type": "code",
   "execution_count": 2,
   "metadata": {},
   "outputs": [
    {
     "name": "stderr",
     "output_type": "stream",
     "text": [
      "C:\\Users\\618757\\Anaconda3\\envs\\mypika\\lib\\site-packages\\ipykernel_launcher.py:15: FutureWarning: Sorting because non-concatenation axis is not aligned. A future version\n",
      "of pandas will change to not sort by default.\n",
      "\n",
      "To accept the future behavior, pass 'sort=False'.\n",
      "\n",
      "To retain the current behavior and silence the warning, pass 'sort=True'.\n",
      "\n",
      "  from ipykernel import kernelapp as app\n"
     ]
    }
   ],
   "source": [
    "import numpy as np # linear algebra\n",
    "import pandas as pd # data processing, CSV file I/O (e.g. pd.read_csv)\n",
    "import matplotlib.pyplot as plt \n",
    "import seaborn as sns \n",
    "import os\n",
    "from sklearn.preprocessing import StandardScaler\n",
    "\n",
    "train = pd.read_csv('housing_train.csv')\n",
    "test = pd.read_csv('housing_test.csv')\n",
    "\n",
    "n_train = train.shape[0]\n",
    "n_test = test.shape[0]\n",
    "\n",
    "y = train['SalePrice'].values\n",
    "\n",
    "data = pd.concat((train, test)).reset_index(drop=True)\n",
    "data.drop(['SalePrice'], axis=1, inplace=True)\n",
    "data.head()\n",
    "\n",
    "data = data[['LotArea','Street', 'Neighborhood','Condition1', 'Condition2','BldgType','HouseStyle','OverallCond', 'Heating','CentralAir','Electrical','1stFlrSF','2ndFlrSF','BsmtHalfBath','FullBath','BedroomAbvGr','KitchenAbvGr','TotRmsAbvGrd','GarageCars','GarageArea','PoolArea']]\n",
    "data['BsmtHalfBath'] = data['BsmtHalfBath'].fillna(data['BsmtHalfBath'].mean())\n",
    "data['Electrical'] = data['Electrical'].fillna('SBrkr')\n",
    "data['GarageCars'] = data['GarageCars'].fillna(data['GarageCars'].mean())\n",
    "data['GarageArea'] = data['GarageArea'].fillna(data['GarageArea'].mean())"
   ]
  },
  {
   "cell_type": "code",
   "execution_count": 3,
   "metadata": {},
   "outputs": [
    {
     "name": "stderr",
     "output_type": "stream",
     "text": [
      "C:\\Users\\618757\\Anaconda3\\envs\\mypika\\lib\\site-packages\\sklearn\\preprocessing\\data.py:645: DataConversionWarning: Data with input dtype int32, int64, float64 were all converted to float64 by StandardScaler.\n",
      "  return self.partial_fit(X, y)\n",
      "C:\\Users\\618757\\Anaconda3\\envs\\mypika\\lib\\site-packages\\sklearn\\base.py:464: DataConversionWarning: Data with input dtype int32, int64, float64 were all converted to float64 by StandardScaler.\n",
      "  return self.fit(X, **fit_params).transform(X)\n",
      "C:\\Users\\618757\\Anaconda3\\envs\\mypika\\lib\\site-packages\\sklearn\\preprocessing\\data.py:645: DataConversionWarning: Data with input dtype int32, int64, float64 were all converted to float64 by StandardScaler.\n",
      "  return self.partial_fit(X, y)\n",
      "C:\\Users\\618757\\Anaconda3\\envs\\mypika\\lib\\site-packages\\sklearn\\base.py:464: DataConversionWarning: Data with input dtype int32, int64, float64 were all converted to float64 by StandardScaler.\n",
      "  return self.fit(X, **fit_params).transform(X)\n",
      "C:\\Users\\618757\\Anaconda3\\envs\\mypika\\lib\\site-packages\\sklearn\\utils\\validation.py:595: DataConversionWarning: Data with input dtype int64 was converted to float64 by StandardScaler.\n",
      "  warnings.warn(msg, DataConversionWarning)\n",
      "C:\\Users\\618757\\Anaconda3\\envs\\mypika\\lib\\site-packages\\sklearn\\utils\\validation.py:595: DataConversionWarning: Data with input dtype int64 was converted to float64 by StandardScaler.\n",
      "  warnings.warn(msg, DataConversionWarning)\n",
      "C:\\Users\\618757\\Anaconda3\\envs\\mypika\\lib\\site-packages\\sklearn\\utils\\validation.py:595: DataConversionWarning: Data with input dtype int64 was converted to float64 by StandardScaler.\n",
      "  warnings.warn(msg, DataConversionWarning)\n",
      "C:\\Users\\618757\\Anaconda3\\envs\\mypika\\lib\\site-packages\\sklearn\\utils\\validation.py:595: DataConversionWarning: Data with input dtype int64 was converted to float64 by StandardScaler.\n",
      "  warnings.warn(msg, DataConversionWarning)\n"
     ]
    },
    {
     "name": "stdout",
     "output_type": "stream",
     "text": [
      "MAE: 0.37610921827898774\n",
      "MSE: 0.4496529199297025\n",
      "RMSE: 0.6705616451376432\n"
     ]
    }
   ],
   "source": [
    "# In this section, we are training a model and creating a pickle file for that trained model.\n",
    "\n",
    "categorical_feature_mask = data.dtypes==object\n",
    "# filter categorical columns using mask and turn it into alist\n",
    "categorical_cols = data.columns[categorical_feature_mask].tolist()\n",
    "\n",
    "from sklearn.preprocessing import LabelEncoder\n",
    "import pickle\n",
    "for col in categorical_cols:\n",
    "    labelencoder = LabelEncoder()\n",
    "    data[col] = labelencoder.fit_transform(data[col])\n",
    "    pickle_label_out = open(\"le_housing_0810_\"+col+\".pickle\",\"wb\")                        \n",
    "    pickle.dump(labelencoder, pickle_label_out)\n",
    "    pickle_label_out.close()\n",
    "    \n",
    "# labelencoder = LabelEncoder()\n",
    "# data[categorical_cols] = data[categorical_cols].apply(lambda col: labelencoder.fit_transform(col))\n",
    "\n",
    "train =data[:n_train]\n",
    "test = data[n_train:]\n",
    "\n",
    "from sklearn.model_selection import train_test_split\n",
    "X_train, X_test, y_train, y_test = train_test_split(train, y, test_size=0.2, random_state=101)\n",
    "\n",
    "y_train= y_train.reshape(-1,1)\n",
    "y_test= y_test.reshape(-1,1)\n",
    "\n",
    " \n",
    "from sklearn.preprocessing import StandardScaler\n",
    "sc_X = StandardScaler()\n",
    "sc_y = StandardScaler()\n",
    "X_train = sc_X.fit_transform(X_train)\n",
    "X_test = sc_X.fit_transform(X_test)\n",
    "y_train = sc_y.fit_transform(y_train)\n",
    "y_test = sc_y.fit_transform(y_test)\n",
    "\n",
    "from sklearn.externals import joblib\n",
    "x_scaler_filename = \"house_pricing_scaler_x.save\"\n",
    "y_scaler_filename = \"house_pricing_scaler_y.save\"\n",
    "joblib.dump(sc_X, x_scaler_filename) \n",
    "joblib.dump(sc_y, y_scaler_filename) \n",
    "\n",
    "x_scaler = joblib.load(x_scaler_filename) \n",
    "y_scaler = joblib.load(y_scaler_filename) \n",
    "\n",
    "from sklearn.linear_model import LinearRegression\n",
    "lm = LinearRegression()\n",
    "lrmodel = lm.fit(X_train,y_train)\n",
    "with open('housing1_lr_model_pkl_0810.pkl', 'wb') as fid:\n",
    "    pickle.dump(lrmodel, fid)\n",
    "\n",
    "lm.fit(X_train,y_train)\n",
    "predictions = lm.predict(X_test)\n",
    "predictions= predictions.reshape(-1,1)\n",
    "\n",
    "from sklearn import metrics\n",
    "print('MAE:', metrics.mean_absolute_error(y_test, predictions))\n",
    "print('MSE:', metrics.mean_squared_error(y_test, predictions))\n",
    "print('RMSE:', np.sqrt(metrics.mean_squared_error(y_test, predictions)))"
   ]
  },
  {
   "cell_type": "code",
   "execution_count": 4,
   "metadata": {},
   "outputs": [
    {
     "name": "stderr",
     "output_type": "stream",
     "text": [
      "C:\\Users\\618757\\Anaconda3\\envs\\mypika\\lib\\site-packages\\ipykernel_launcher.py:7: SettingWithCopyWarning: \n",
      "A value is trying to be set on a copy of a slice from a DataFrame.\n",
      "Try using .loc[row_indexer,col_indexer] = value instead\n",
      "\n",
      "See the caveats in the documentation: http://pandas.pydata.org/pandas-docs/stable/indexing.html#indexing-view-versus-copy\n",
      "  import sys\n",
      "C:\\Users\\618757\\Anaconda3\\envs\\mypika\\lib\\site-packages\\ipykernel_launcher.py:8: SettingWithCopyWarning: \n",
      "A value is trying to be set on a copy of a slice from a DataFrame.\n",
      "Try using .loc[row_indexer,col_indexer] = value instead\n",
      "\n",
      "See the caveats in the documentation: http://pandas.pydata.org/pandas-docs/stable/indexing.html#indexing-view-versus-copy\n",
      "  \n",
      "C:\\Users\\618757\\Anaconda3\\envs\\mypika\\lib\\site-packages\\ipykernel_launcher.py:9: SettingWithCopyWarning: \n",
      "A value is trying to be set on a copy of a slice from a DataFrame.\n",
      "Try using .loc[row_indexer,col_indexer] = value instead\n",
      "\n",
      "See the caveats in the documentation: http://pandas.pydata.org/pandas-docs/stable/indexing.html#indexing-view-versus-copy\n",
      "  if __name__ == '__main__':\n",
      "C:\\Users\\618757\\Anaconda3\\envs\\mypika\\lib\\site-packages\\ipykernel_launcher.py:10: SettingWithCopyWarning: \n",
      "A value is trying to be set on a copy of a slice from a DataFrame.\n",
      "Try using .loc[row_indexer,col_indexer] = value instead\n",
      "\n",
      "See the caveats in the documentation: http://pandas.pydata.org/pandas-docs/stable/indexing.html#indexing-view-versus-copy\n",
      "  # Remove the CWD from sys.path while we load stuff.\n",
      "C:\\Users\\618757\\Anaconda3\\envs\\mypika\\lib\\site-packages\\ipykernel_launcher.py:15: SettingWithCopyWarning: \n",
      "A value is trying to be set on a copy of a slice from a DataFrame.\n",
      "Try using .loc[row_indexer,col_indexer] = value instead\n",
      "\n",
      "See the caveats in the documentation: http://pandas.pydata.org/pandas-docs/stable/indexing.html#indexing-view-versus-copy\n",
      "  from ipykernel import kernelapp as app\n"
     ]
    },
    {
     "name": "stdout",
     "output_type": "stream",
     "text": [
      "MAE: 0.6191904869896129\n",
      "MSE: 0.6138041479666484\n",
      "RMSE: 0.7834565386584302\n"
     ]
    },
    {
     "name": "stderr",
     "output_type": "stream",
     "text": [
      "C:\\Users\\618757\\Anaconda3\\envs\\mypika\\lib\\site-packages\\ipykernel_launcher.py:26: DataConversionWarning: Data with input dtype int32, int64 were all converted to float64 by StandardScaler.\n",
      "C:\\Users\\618757\\Anaconda3\\envs\\mypika\\lib\\site-packages\\sklearn\\utils\\validation.py:595: DataConversionWarning: Data with input dtype int64 was converted to float64 by StandardScaler.\n",
      "  warnings.warn(msg, DataConversionWarning)\n"
     ]
    }
   ],
   "source": [
    "# In this section, we are testing a model against test data \n",
    "\n",
    "test_data = pd.read_csv('housing_train.csv')\n",
    "mydata = test_data\n",
    "y = mydata['SalePrice'].values\n",
    "mydata.drop(['SalePrice'], axis=1, inplace=True)\n",
    "\n",
    "mydata = mydata[['LotArea','Street', 'Neighborhood','Condition1', 'Condition2','BldgType', 'Electrical', 'HouseStyle','OverallCond', 'Heating','CentralAir','1stFlrSF','2ndFlrSF','BsmtHalfBath','FullBath','BedroomAbvGr','KitchenAbvGr','TotRmsAbvGrd','GarageCars','GarageArea','PoolArea']]\n",
    "mydata['BsmtHalfBath'] = mydata['BsmtHalfBath'].fillna(mydata['BsmtHalfBath'].mean())\n",
    "mydata['Electrical'] = mydata['Electrical'].fillna('SBrkr')\n",
    "mydata['GarageCars'] = mydata['GarageCars'].fillna(mydata['GarageCars'].mean())\n",
    "mydata['GarageArea'] = mydata['GarageArea'].fillna(mydata['GarageArea'].mean())\n",
    "\n",
    "for col in categorical_cols:\n",
    "    pickle_label_in = open(\"le_housing_0810_\"+col+\".pickle\",\"rb\")\n",
    "    label_encoded_pickle = pickle.load(pickle_label_in)\n",
    "    mydata[col] = label_encoded_pickle.transform(mydata[col])\n",
    "    \n",
    "X_train_my, X_test_my, y_train_my, y_test_my = train_test_split(mydata, y, test_size=0.2, random_state=101)\n",
    "y_train_my= y_train_my.reshape(-1,1)\n",
    "y_test_my= y_test_my.reshape(-1,1)\n",
    "\n",
    "y= y.reshape(-1,1)\n",
    "\n",
    "\n",
    "x_scaler = joblib.load(x_scaler_filename) \n",
    "y_scaler = joblib.load(y_scaler_filename) \n",
    "mydata = x_scaler.transform(mydata)\n",
    "y = y_scaler.transform(y)\n",
    "\n",
    "with open('housing1_lr_model_pkl_0810.pkl', 'rb') as fid:\n",
    "    sv = pickle.load(fid)\n",
    "\n",
    "predictions_my = sv.predict(mydata)\n",
    "predictions_my= predictions_my.reshape(-1,1)\n",
    "\n",
    "print('MAE:', metrics.mean_absolute_error(y, predictions_my))\n",
    "print('MSE:', metrics.mean_squared_error(y, predictions_my))\n",
    "print('RMSE:', np.sqrt(metrics.mean_squared_error(y, predictions_my)))"
   ]
  },
  {
   "cell_type": "code",
   "execution_count": 5,
   "metadata": {},
   "outputs": [
    {
     "name": "stderr",
     "output_type": "stream",
     "text": [
      "C:\\Users\\618757\\Anaconda3\\envs\\mypika\\lib\\site-packages\\sklearn\\utils\\validation.py:761: DataConversionWarning: A column-vector y was passed when a 1d array was expected. Please change the shape of y to (n_samples, ), for example using ravel().\n",
      "  y = column_or_1d(y, warn=True)\n"
     ]
    },
    {
     "name": "stdout",
     "output_type": "stream",
     "text": [
      "MAE: 0.30139233645940366\n",
      "MSE: 0.26366659108372825\n",
      "RMSE: 0.5134847525328559\n"
     ]
    }
   ],
   "source": [
    "from sklearn import ensemble\n",
    "from sklearn.utils import shuffle\n",
    "from sklearn.metrics import mean_squared_error, r2_score\n",
    "\n",
    "params = {'n_estimators': 500, 'max_depth': 4, 'min_samples_split': 2,\n",
    "          'learning_rate': 0.01, 'loss': 'ls'}\n",
    "clf = ensemble.GradientBoostingRegressor(**params)\n",
    "\n",
    "clf.fit(X_train, y_train)\n",
    "clf_pred=clf.predict(X_test)\n",
    "clf_pred= clf_pred.reshape(-1,1)\n",
    "print('MAE:', metrics.mean_absolute_error(y_test, clf_pred))\n",
    "print('MSE:', metrics.mean_squared_error(y_test, clf_pred))\n",
    "print('RMSE:', np.sqrt(metrics.mean_squared_error(y_test, clf_pred)))"
   ]
  },
  {
   "cell_type": "code",
   "execution_count": 6,
   "metadata": {},
   "outputs": [
    {
     "name": "stdout",
     "output_type": "stream",
     "text": [
      "MAE: 0.4152492258979335\n",
      "MSE: 0.46612158456766417\n",
      "RMSE: 0.6827309752513534\n"
     ]
    }
   ],
   "source": [
    "from sklearn.tree import DecisionTreeRegressor\n",
    "dtreg = DecisionTreeRegressor(random_state = 0)\n",
    "dtreg.fit(X_train, y_train)\n",
    "dtr_pred = dtreg.predict(X_test)\n",
    "dtr_pred= dtr_pred.reshape(-1,1)\n",
    "print('MAE:', metrics.mean_absolute_error(y_test, dtr_pred))\n",
    "print('MSE:', metrics.mean_squared_error(y_test, dtr_pred))\n",
    "print('RMSE:', np.sqrt(metrics.mean_squared_error(y_test, dtr_pred)))"
   ]
  },
  {
   "cell_type": "code",
   "execution_count": 7,
   "metadata": {},
   "outputs": [
    {
     "name": "stdout",
     "output_type": "stream",
     "text": [
      "MAE: 0.2921760503170203\n",
      "MSE: 0.2138803803319788\n",
      "RMSE: 0.46247203194569375\n"
     ]
    },
    {
     "name": "stderr",
     "output_type": "stream",
     "text": [
      "C:\\Users\\618757\\Anaconda3\\envs\\mypika\\lib\\site-packages\\sklearn\\utils\\validation.py:761: DataConversionWarning: A column-vector y was passed when a 1d array was expected. Please change the shape of y to (n_samples, ), for example using ravel().\n",
      "  y = column_or_1d(y, warn=True)\n"
     ]
    }
   ],
   "source": [
    "from sklearn.svm import SVR\n",
    "svr = SVR(kernel = 'rbf')\n",
    "svr.fit(X_train, y_train)\n",
    "svr_pred = svr.predict(X_test)\n",
    "svr_pred= svr_pred.reshape(-1,1)\n",
    "print('MAE:', metrics.mean_absolute_error(y_test, svr_pred))\n",
    "print('MSE:', metrics.mean_squared_error(y_test, svr_pred))\n",
    "print('RMSE:', np.sqrt(metrics.mean_squared_error(y_test, svr_pred)))"
   ]
  },
  {
   "cell_type": "code",
   "execution_count": 8,
   "metadata": {},
   "outputs": [
    {
     "name": "stderr",
     "output_type": "stream",
     "text": [
      "C:\\Users\\618757\\Anaconda3\\envs\\mypika\\lib\\site-packages\\ipykernel_launcher.py:3: DataConversionWarning: A column-vector y was passed when a 1d array was expected. Please change the shape of y to (n_samples,), for example using ravel().\n",
      "  This is separate from the ipykernel package so we can avoid doing imports until\n"
     ]
    },
    {
     "name": "stdout",
     "output_type": "stream",
     "text": [
      "MAE: 0.3098351261295739\n",
      "MSE: 0.2578359816923289\n",
      "RMSE: 0.5077755229354098\n"
     ]
    }
   ],
   "source": [
    "from sklearn.ensemble import RandomForestRegressor\n",
    "rfr = RandomForestRegressor(n_estimators = 500, random_state = 0)\n",
    "rfr.fit(X_train, y_train)\n",
    "rfr_pred= rfr.predict(X_test)\n",
    "rfr_pred = rfr_pred.reshape(-1,1)\n",
    "print('MAE:', metrics.mean_absolute_error(y_test, rfr_pred))\n",
    "print('MSE:', metrics.mean_squared_error(y_test, rfr_pred))\n",
    "print('RMSE:', np.sqrt(metrics.mean_squared_error(y_test, rfr_pred)))"
   ]
  },
  {
   "cell_type": "code",
   "execution_count": 9,
   "metadata": {},
   "outputs": [
    {
     "data": {
      "text/plain": [
       "[<matplotlib.lines.Line2D at 0x1a7312839b0>]"
      ]
     },
     "execution_count": 9,
     "metadata": {},
     "output_type": "execute_result"
    },
    {
     "data": {
      "image/png": "[encoded data removed]",
      "text/plain": [
       "<Figure size 1152x360 with 1 Axes>"
      ]
     },
     "metadata": {
      "needs_background": "light"
     },
     "output_type": "display_data"
    }
   ],
   "source": [
    "#We can say the best working model by loking MSE rates The best working model is Support Vector Machine. \n",
    "#We are going to see the error rate. which one is better?\n",
    "#Model Comparison\n",
    "\n",
    "error_rate=np.array([metrics.mean_squared_error(y_test, predictions),metrics.mean_squared_error(y_test, clf_pred),metrics.mean_squared_error(y_test, dtr_pred),metrics.mean_squared_error(y_test, svr_pred),metrics.mean_squared_error(y_test, rfr_pred)])\n",
    "plt.figure(figsize=(16,5))\n",
    "plt.plot(error_rate)"
   ]
  },
  {
   "cell_type": "code",
   "execution_count": null,
   "metadata": {},
   "outputs": [],
   "source": []
  }
 ],
 "metadata": {
  "kernelspec": {
   "display_name": "Python 3",
   "language": "python",
   "name": "python3"
  },
  "language_info": {
   "codemirror_mode": {
    "name": "ipython",
    "version": 3
   },
   "file_extension": ".py",
   "mimetype": "text/x-python",
   "name": "python",
   "nbconvert_exporter": "python",
   "pygments_lexer": "ipython3",
   "version": "3.6.6"
  }
 },
 "nbformat": 4,
 "nbformat_minor": 2
}
