{
 "cells": [
  {
   "cell_type": "markdown",
   "metadata": {
    "_cell_guid": "9d7d41b4-3445-6941-79c1-bbdfc85b254a"
   },
   "source": [
    "# House price prediction using multiple regression analysis\n",
    "\n",
    "# Part 1: Exploratory Data Analysis\n",
    "\n",
    "The following notebook presents a thought process of predicting a continuous variable through Machine Learning methods. More specifically, we want to predict house prices based on multiple features using regression analysis. \n",
    "\n",
    "As an example, we will use a dataset of house sales in King County, where Seattle is located.\n",
    "\n",
    "In this notebook we will first apply some Exploratory Data Analysis (EDA) techniques to summarize the main characteristics of the dataset.\n",
    "\n",
    "## 1. Preparation\n",
    "\n",
    "### 1.1 Load the librairies"
   ]
  },
  {
   "cell_type": "code",
   "execution_count": 2,
   "metadata": {
    "_cell_guid": "17660125-75d4-0b6e-b977-674fb1c72abf"
   },
   "outputs": [
    {
     "name": "stdout",
     "output_type": "stream",
     "text": [
      "Collecting folium\n",
      "  Downloading https://files.pythonhosted.org/packages/72/ff/004bfe344150a064e558cb2aedeaa02ecbf75e60e148a55a9198f0c41765/folium-0.10.0-py2.py3-none-any.whl (91kB)\n",
      "Requirement already satisfied: requests in c:\\users\\618757\\anaconda3\\lib\\site-packages (from folium) (2.21.0)\n",
      "Requirement already satisfied: numpy in c:\\users\\618757\\anaconda3\\lib\\site-packages (from folium) (1.16.2)\n",
      "Collecting branca>=0.3.0 (from folium)\n",
      "  Downloading https://files.pythonhosted.org/packages/63/36/1c93318e9653f4e414a2e0c3b98fc898b4970e939afeedeee6075dd3b703/branca-0.3.1-py3-none-any.whl\n",
      "Requirement already satisfied: jinja2>=2.9 in c:\\users\\618757\\anaconda3\\lib\\site-packages (from folium) (2.10)\n",
      "Requirement already satisfied: idna<2.9,>=2.5 in c:\\users\\618757\\anaconda3\\lib\\site-packages (from requests->folium) (2.8)\n",
      "Requirement already satisfied: urllib3<1.25,>=1.21.1 in c:\\users\\618757\\anaconda3\\lib\\site-packages (from requests->folium) (1.24.1)\n",
      "Requirement already satisfied: chardet<3.1.0,>=3.0.2 in c:\\users\\618757\\anaconda3\\lib\\site-packages (from requests->folium) (3.0.4)\n",
      "Requirement already satisfied: certifi>=2017.4.17 in c:\\users\\618757\\anaconda3\\lib\\site-packages (from requests->folium) (2019.3.9)\n",
      "Requirement already satisfied: six in c:\\users\\618757\\anaconda3\\lib\\site-packages (from branca>=0.3.0->folium) (1.12.0)\n",
      "Requirement already satisfied: MarkupSafe>=0.23 in c:\\users\\618757\\anaconda3\\lib\\site-packages (from jinja2>=2.9->folium) (1.1.1)\n",
      "Installing collected packages: branca, folium\n",
      "Successfully installed branca-0.3.1 folium-0.10.0\n"
     ]
    }
   ],
   "source": [
    "!pip install folium\n",
    "\n",
    "import numpy as np # NumPy is the fundamental package for scientific computing\n",
    "\n",
    "import pandas as pd # Pandas is an easy-to-use data structures and data analysis tools\n",
    "pd.set_option('display.max_columns', None) # To display all columns\n",
    "\n",
    "import matplotlib.pyplot as plt # Matplotlib is a python 2D plotting library\n",
    "%matplotlib inline \n",
    "# A magic command that tells matplotlib to render figures as static images in the Notebook.\n",
    "\n",
    "import seaborn as sns # Seaborn is a visualization library based on matplotlib (attractive statistical graphics).\n",
    "sns.set_style('whitegrid') # One of the five seaborn themes\n",
    "import warnings\n",
    "warnings.filterwarnings('ignore') # To ignore some of seaborn warning msg\n",
    "\n",
    "from scipy import stats, linalg\n",
    "\n",
    "import folium # for map visualization\n",
    "from folium import plugins"
   ]
  },
  {
   "cell_type": "markdown",
   "metadata": {
    "_cell_guid": "0319e255-0292-2bc9-871a-d3607c6b8afc"
   },
   "source": [
    "humm, looks like folium isn't available on kaggle. We'll work around it \n",
    "\n",
    "### 1.2 Load the dataset\n",
    "\n",
    "Let's load the data from CSV file using pandas and convert some columns to category type (for better summarization)."
   ]
  },
  {
   "cell_type": "code",
   "execution_count": 6,
   "metadata": {
    "_cell_guid": "577a53cd-5839-ea43-7933-63764d071432"
   },
   "outputs": [
    {
     "name": "stdout",
     "output_type": "stream",
     "text": [
      "           id       date     price  bedrooms  bathrooms  sqft_living  \\\n",
      "0  7129300520 2014-10-13  221900.0         3       1.00         1180   \n",
      "1  6414100192 2014-12-09  538000.0         3       2.25         2570   \n",
      "\n",
      "   sqft_lot  floors  waterfront  view  condition  grade  sqft_above  \\\n",
      "0      5650     1.0           0     0          3      7        1180   \n",
      "1      7242     2.0           0     0          3      7        2170   \n",
      "\n",
      "   sqft_basement  yr_built  yr_renovated  zipcode      lat     long  \\\n",
      "0              0      1955             0    98178  47.5112 -122.257   \n",
      "1            400      1951          1991    98125  47.7210 -122.319   \n",
      "\n",
      "   sqft_living15  sqft_lot15  \n",
      "0           1340        5650  \n",
      "1           1690        7639  \n",
      "*****\n"
     ]
    },
    {
     "data": {
      "text/html": [
       "<div>\n",
       "<style scoped>\n",
       "    .dataframe tbody tr th:only-of-type {\n",
       "        vertical-align: middle;\n",
       "    }\n",
       "\n",
       "    .dataframe tbody tr th {\n",
       "        vertical-align: top;\n",
       "    }\n",
       "\n",
       "    .dataframe thead th {\n",
       "        text-align: right;\n",
       "    }\n",
       "</style>\n",
       "<table border=\"1\" class=\"dataframe\">\n",
       "  <thead>\n",
       "    <tr style=\"text-align: right;\">\n",
       "      <th></th>\n",
       "      <th>id</th>\n",
       "      <th>date</th>\n",
       "      <th>price</th>\n",
       "      <th>bedrooms</th>\n",
       "      <th>bathrooms</th>\n",
       "      <th>sqft_living</th>\n",
       "      <th>sqft_lot</th>\n",
       "      <th>floors</th>\n",
       "      <th>waterfront</th>\n",
       "      <th>view</th>\n",
       "      <th>condition</th>\n",
       "      <th>grade</th>\n",
       "      <th>sqft_above</th>\n",
       "      <th>sqft_basement</th>\n",
       "      <th>yr_built</th>\n",
       "      <th>yr_renovated</th>\n",
       "      <th>zipcode</th>\n",
       "      <th>lat</th>\n",
       "      <th>long</th>\n",
       "      <th>sqft_living15</th>\n",
       "      <th>sqft_lot15</th>\n",
       "    </tr>\n",
       "  </thead>\n",
       "  <tbody>\n",
       "    <tr>\n",
       "      <th>16768</th>\n",
       "      <td>5561000190</td>\n",
       "      <td>2014-05-02</td>\n",
       "      <td>437500.0</td>\n",
       "      <td>3</td>\n",
       "      <td>2.25</td>\n",
       "      <td>1970</td>\n",
       "      <td>35100</td>\n",
       "      <td>2.0</td>\n",
       "      <td>0</td>\n",
       "      <td>0</td>\n",
       "      <td>4</td>\n",
       "      <td>9</td>\n",
       "      <td>1970</td>\n",
       "      <td>0</td>\n",
       "      <td>1977</td>\n",
       "      <td>0</td>\n",
       "      <td>98027</td>\n",
       "      <td>47.4635</td>\n",
       "      <td>-121.991</td>\n",
       "      <td>2340</td>\n",
       "      <td>35100</td>\n",
       "    </tr>\n",
       "    <tr>\n",
       "      <th>9596</th>\n",
       "      <td>472000620</td>\n",
       "      <td>2014-05-02</td>\n",
       "      <td>790000.0</td>\n",
       "      <td>3</td>\n",
       "      <td>2.50</td>\n",
       "      <td>2600</td>\n",
       "      <td>4750</td>\n",
       "      <td>1.0</td>\n",
       "      <td>0</td>\n",
       "      <td>0</td>\n",
       "      <td>4</td>\n",
       "      <td>9</td>\n",
       "      <td>1700</td>\n",
       "      <td>900</td>\n",
       "      <td>1951</td>\n",
       "      <td>0</td>\n",
       "      <td>98117</td>\n",
       "      <td>47.6833</td>\n",
       "      <td>-122.400</td>\n",
       "      <td>2380</td>\n",
       "      <td>4750</td>\n",
       "    </tr>\n",
       "  </tbody>\n",
       "</table>\n",
       "</div>"
      ],
      "text/plain": [
       "               id       date     price  bedrooms  bathrooms  sqft_living  \\\n",
       "16768  5561000190 2014-05-02  437500.0         3       2.25         1970   \n",
       "9596    472000620 2014-05-02  790000.0         3       2.50         2600   \n",
       "\n",
       "       sqft_lot  floors waterfront view condition grade  sqft_above  \\\n",
       "16768     35100     2.0          0    0         4     9        1970   \n",
       "9596       4750     1.0          0    0         4     9        1700   \n",
       "\n",
       "       sqft_basement  yr_built  yr_renovated zipcode      lat     long  \\\n",
       "16768              0      1977             0   98027  47.4635 -121.991   \n",
       "9596             900      1951             0   98117  47.6833 -122.400   \n",
       "\n",
       "       sqft_living15  sqft_lot15  \n",
       "16768           2340       35100  \n",
       "9596            2380        4750  "
      ]
     },
     "execution_count": 6,
     "metadata": {},
     "output_type": "execute_result"
    }
   ],
   "source": [
    "data = pd.read_csv(\"kc_house_data.csv\", parse_dates = ['date'])\n",
    "print(data.head(2))\n",
    "print('*****')\n",
    "data['waterfront'] = data['waterfront'].astype('category',ordered=True)\n",
    "data['view'] = data['view'].astype('category',ordered=True)\n",
    "data['condition'] = data['condition'].astype('category',ordered=True)\n",
    "data['grade'] = data['grade'].astype('category',ordered=False)\n",
    "data['zipcode'] = data['zipcode'].astype(str)\n",
    "data = data.sort_values('date')\n",
    "data.head(2) # Show the first 2 lines"
   ]
  },
  {
   "cell_type": "code",
   "execution_count": 7,
   "metadata": {
    "_cell_guid": "ef6feb79-6c8a-f5df-c4b7-84dd19205ca9"
   },
   "outputs": [
    {
     "data": {
      "text/plain": [
       "id                        int64\n",
       "date             datetime64[ns]\n",
       "price                   float64\n",
       "bedrooms                  int64\n",
       "bathrooms               float64\n",
       "sqft_living               int64\n",
       "sqft_lot                  int64\n",
       "floors                  float64\n",
       "waterfront             category\n",
       "view                   category\n",
       "condition              category\n",
       "grade                  category\n",
       "sqft_above                int64\n",
       "sqft_basement             int64\n",
       "yr_built                  int64\n",
       "yr_renovated              int64\n",
       "zipcode                  object\n",
       "lat                     float64\n",
       "long                    float64\n",
       "sqft_living15             int64\n",
       "sqft_lot15                int64\n",
       "dtype: object"
      ]
     },
     "execution_count": 7,
     "metadata": {},
     "output_type": "execute_result"
    }
   ],
   "source": [
    "data.dtypes"
   ]
  },
  {
   "cell_type": "markdown",
   "metadata": {
    "_cell_guid": "d60bcaa0-f3e9-723f-94a1-a1dc8999c62a"
   },
   "source": [
    "## 2. Descriptive statistics\n",
    "\n",
    "The initial dimension of the dataset"
   ]
  },
  {
   "cell_type": "code",
   "execution_count": 8,
   "metadata": {
    "_cell_guid": "6d069cae-99f1-2811-626d-3ac248c9cf69"
   },
   "outputs": [
    {
     "data": {
      "text/plain": [
       "(21613, 21)"
      ]
     },
     "execution_count": 8,
     "metadata": {},
     "output_type": "execute_result"
    }
   ],
   "source": [
    "data.shape"
   ]
  },
  {
   "cell_type": "markdown",
   "metadata": {
    "_cell_guid": "58a56c75-ca10-dc76-d874-ed985de813af"
   },
   "source": [
    "Let's summarize the main statistics of each parameters"
   ]
  },
  {
   "cell_type": "code",
   "execution_count": 9,
   "metadata": {
    "_cell_guid": "7c63e82d-a7ac-9b38-e874-d324b132a41a"
   },
   "outputs": [
    {
     "data": {
      "text/html": [
       "<div>\n",
       "<style scoped>\n",
       "    .dataframe tbody tr th:only-of-type {\n",
       "        vertical-align: middle;\n",
       "    }\n",
       "\n",
       "    .dataframe tbody tr th {\n",
       "        vertical-align: top;\n",
       "    }\n",
       "\n",
       "    .dataframe thead th {\n",
       "        text-align: right;\n",
       "    }\n",
       "</style>\n",
       "<table border=\"1\" class=\"dataframe\">\n",
       "  <thead>\n",
       "    <tr style=\"text-align: right;\">\n",
       "      <th></th>\n",
       "      <th>id</th>\n",
       "      <th>date</th>\n",
       "      <th>price</th>\n",
       "      <th>bedrooms</th>\n",
       "      <th>bathrooms</th>\n",
       "      <th>sqft_living</th>\n",
       "      <th>sqft_lot</th>\n",
       "      <th>floors</th>\n",
       "      <th>waterfront</th>\n",
       "      <th>view</th>\n",
       "      <th>condition</th>\n",
       "      <th>grade</th>\n",
       "      <th>sqft_above</th>\n",
       "      <th>sqft_basement</th>\n",
       "      <th>yr_built</th>\n",
       "      <th>yr_renovated</th>\n",
       "      <th>zipcode</th>\n",
       "      <th>lat</th>\n",
       "      <th>long</th>\n",
       "      <th>sqft_living15</th>\n",
       "      <th>sqft_lot15</th>\n",
       "    </tr>\n",
       "  </thead>\n",
       "  <tbody>\n",
       "    <tr>\n",
       "      <th>count</th>\n",
       "      <td>2.161300e+04</td>\n",
       "      <td>21613</td>\n",
       "      <td>2.161300e+04</td>\n",
       "      <td>21613.000000</td>\n",
       "      <td>21613.000000</td>\n",
       "      <td>21613.000000</td>\n",
       "      <td>2.161300e+04</td>\n",
       "      <td>21613.000000</td>\n",
       "      <td>21613.0</td>\n",
       "      <td>21613.0</td>\n",
       "      <td>21613.0</td>\n",
       "      <td>21613.0</td>\n",
       "      <td>21613.000000</td>\n",
       "      <td>21613.000000</td>\n",
       "      <td>21613.000000</td>\n",
       "      <td>21613.000000</td>\n",
       "      <td>21613</td>\n",
       "      <td>21613.000000</td>\n",
       "      <td>21613.000000</td>\n",
       "      <td>21613.000000</td>\n",
       "      <td>21613.000000</td>\n",
       "    </tr>\n",
       "    <tr>\n",
       "      <th>unique</th>\n",
       "      <td>NaN</td>\n",
       "      <td>372</td>\n",
       "      <td>NaN</td>\n",
       "      <td>NaN</td>\n",
       "      <td>NaN</td>\n",
       "      <td>NaN</td>\n",
       "      <td>NaN</td>\n",
       "      <td>NaN</td>\n",
       "      <td>2.0</td>\n",
       "      <td>5.0</td>\n",
       "      <td>5.0</td>\n",
       "      <td>12.0</td>\n",
       "      <td>NaN</td>\n",
       "      <td>NaN</td>\n",
       "      <td>NaN</td>\n",
       "      <td>NaN</td>\n",
       "      <td>70</td>\n",
       "      <td>NaN</td>\n",
       "      <td>NaN</td>\n",
       "      <td>NaN</td>\n",
       "      <td>NaN</td>\n",
       "    </tr>\n",
       "    <tr>\n",
       "      <th>top</th>\n",
       "      <td>NaN</td>\n",
       "      <td>2014-06-23 00:00:00</td>\n",
       "      <td>NaN</td>\n",
       "      <td>NaN</td>\n",
       "      <td>NaN</td>\n",
       "      <td>NaN</td>\n",
       "      <td>NaN</td>\n",
       "      <td>NaN</td>\n",
       "      <td>0.0</td>\n",
       "      <td>0.0</td>\n",
       "      <td>3.0</td>\n",
       "      <td>7.0</td>\n",
       "      <td>NaN</td>\n",
       "      <td>NaN</td>\n",
       "      <td>NaN</td>\n",
       "      <td>NaN</td>\n",
       "      <td>98103</td>\n",
       "      <td>NaN</td>\n",
       "      <td>NaN</td>\n",
       "      <td>NaN</td>\n",
       "      <td>NaN</td>\n",
       "    </tr>\n",
       "    <tr>\n",
       "      <th>freq</th>\n",
       "      <td>NaN</td>\n",
       "      <td>142</td>\n",
       "      <td>NaN</td>\n",
       "      <td>NaN</td>\n",
       "      <td>NaN</td>\n",
       "      <td>NaN</td>\n",
       "      <td>NaN</td>\n",
       "      <td>NaN</td>\n",
       "      <td>21450.0</td>\n",
       "      <td>19489.0</td>\n",
       "      <td>14031.0</td>\n",
       "      <td>8981.0</td>\n",
       "      <td>NaN</td>\n",
       "      <td>NaN</td>\n",
       "      <td>NaN</td>\n",
       "      <td>NaN</td>\n",
       "      <td>602</td>\n",
       "      <td>NaN</td>\n",
       "      <td>NaN</td>\n",
       "      <td>NaN</td>\n",
       "      <td>NaN</td>\n",
       "    </tr>\n",
       "    <tr>\n",
       "      <th>first</th>\n",
       "      <td>NaN</td>\n",
       "      <td>2014-05-02 00:00:00</td>\n",
       "      <td>NaN</td>\n",
       "      <td>NaN</td>\n",
       "      <td>NaN</td>\n",
       "      <td>NaN</td>\n",
       "      <td>NaN</td>\n",
       "      <td>NaN</td>\n",
       "      <td>NaN</td>\n",
       "      <td>NaN</td>\n",
       "      <td>NaN</td>\n",
       "      <td>NaN</td>\n",
       "      <td>NaN</td>\n",
       "      <td>NaN</td>\n",
       "      <td>NaN</td>\n",
       "      <td>NaN</td>\n",
       "      <td>NaN</td>\n",
       "      <td>NaN</td>\n",
       "      <td>NaN</td>\n",
       "      <td>NaN</td>\n",
       "      <td>NaN</td>\n",
       "    </tr>\n",
       "    <tr>\n",
       "      <th>last</th>\n",
       "      <td>NaN</td>\n",
       "      <td>2015-05-27 00:00:00</td>\n",
       "      <td>NaN</td>\n",
       "      <td>NaN</td>\n",
       "      <td>NaN</td>\n",
       "      <td>NaN</td>\n",
       "      <td>NaN</td>\n",
       "      <td>NaN</td>\n",
       "      <td>NaN</td>\n",
       "      <td>NaN</td>\n",
       "      <td>NaN</td>\n",
       "      <td>NaN</td>\n",
       "      <td>NaN</td>\n",
       "      <td>NaN</td>\n",
       "      <td>NaN</td>\n",
       "      <td>NaN</td>\n",
       "      <td>NaN</td>\n",
       "      <td>NaN</td>\n",
       "      <td>NaN</td>\n",
       "      <td>NaN</td>\n",
       "      <td>NaN</td>\n",
       "    </tr>\n",
       "    <tr>\n",
       "      <th>mean</th>\n",
       "      <td>4.580302e+09</td>\n",
       "      <td>NaN</td>\n",
       "      <td>5.400881e+05</td>\n",
       "      <td>3.370842</td>\n",
       "      <td>2.114757</td>\n",
       "      <td>2079.899736</td>\n",
       "      <td>1.510697e+04</td>\n",
       "      <td>1.494309</td>\n",
       "      <td>NaN</td>\n",
       "      <td>NaN</td>\n",
       "      <td>NaN</td>\n",
       "      <td>NaN</td>\n",
       "      <td>1788.390691</td>\n",
       "      <td>291.509045</td>\n",
       "      <td>1971.005136</td>\n",
       "      <td>84.402258</td>\n",
       "      <td>NaN</td>\n",
       "      <td>47.560053</td>\n",
       "      <td>-122.213896</td>\n",
       "      <td>1986.552492</td>\n",
       "      <td>12768.455652</td>\n",
       "    </tr>\n",
       "    <tr>\n",
       "      <th>std</th>\n",
       "      <td>2.876566e+09</td>\n",
       "      <td>NaN</td>\n",
       "      <td>3.671272e+05</td>\n",
       "      <td>0.930062</td>\n",
       "      <td>0.770163</td>\n",
       "      <td>918.440897</td>\n",
       "      <td>4.142051e+04</td>\n",
       "      <td>0.539989</td>\n",
       "      <td>NaN</td>\n",
       "      <td>NaN</td>\n",
       "      <td>NaN</td>\n",
       "      <td>NaN</td>\n",
       "      <td>828.090978</td>\n",
       "      <td>442.575043</td>\n",
       "      <td>29.373411</td>\n",
       "      <td>401.679240</td>\n",
       "      <td>NaN</td>\n",
       "      <td>0.138564</td>\n",
       "      <td>0.140828</td>\n",
       "      <td>685.391304</td>\n",
       "      <td>27304.179631</td>\n",
       "    </tr>\n",
       "    <tr>\n",
       "      <th>min</th>\n",
       "      <td>1.000102e+06</td>\n",
       "      <td>NaN</td>\n",
       "      <td>7.500000e+04</td>\n",
       "      <td>0.000000</td>\n",
       "      <td>0.000000</td>\n",
       "      <td>290.000000</td>\n",
       "      <td>5.200000e+02</td>\n",
       "      <td>1.000000</td>\n",
       "      <td>NaN</td>\n",
       "      <td>NaN</td>\n",
       "      <td>NaN</td>\n",
       "      <td>NaN</td>\n",
       "      <td>290.000000</td>\n",
       "      <td>0.000000</td>\n",
       "      <td>1900.000000</td>\n",
       "      <td>0.000000</td>\n",
       "      <td>NaN</td>\n",
       "      <td>47.155900</td>\n",
       "      <td>-122.519000</td>\n",
       "      <td>399.000000</td>\n",
       "      <td>651.000000</td>\n",
       "    </tr>\n",
       "    <tr>\n",
       "      <th>25%</th>\n",
       "      <td>2.123049e+09</td>\n",
       "      <td>NaN</td>\n",
       "      <td>3.219500e+05</td>\n",
       "      <td>3.000000</td>\n",
       "      <td>1.750000</td>\n",
       "      <td>1427.000000</td>\n",
       "      <td>5.040000e+03</td>\n",
       "      <td>1.000000</td>\n",
       "      <td>NaN</td>\n",
       "      <td>NaN</td>\n",
       "      <td>NaN</td>\n",
       "      <td>NaN</td>\n",
       "      <td>1190.000000</td>\n",
       "      <td>0.000000</td>\n",
       "      <td>1951.000000</td>\n",
       "      <td>0.000000</td>\n",
       "      <td>NaN</td>\n",
       "      <td>47.471000</td>\n",
       "      <td>-122.328000</td>\n",
       "      <td>1490.000000</td>\n",
       "      <td>5100.000000</td>\n",
       "    </tr>\n",
       "    <tr>\n",
       "      <th>50%</th>\n",
       "      <td>3.904930e+09</td>\n",
       "      <td>NaN</td>\n",
       "      <td>4.500000e+05</td>\n",
       "      <td>3.000000</td>\n",
       "      <td>2.250000</td>\n",
       "      <td>1910.000000</td>\n",
       "      <td>7.618000e+03</td>\n",
       "      <td>1.500000</td>\n",
       "      <td>NaN</td>\n",
       "      <td>NaN</td>\n",
       "      <td>NaN</td>\n",
       "      <td>NaN</td>\n",
       "      <td>1560.000000</td>\n",
       "      <td>0.000000</td>\n",
       "      <td>1975.000000</td>\n",
       "      <td>0.000000</td>\n",
       "      <td>NaN</td>\n",
       "      <td>47.571800</td>\n",
       "      <td>-122.230000</td>\n",
       "      <td>1840.000000</td>\n",
       "      <td>7620.000000</td>\n",
       "    </tr>\n",
       "    <tr>\n",
       "      <th>75%</th>\n",
       "      <td>7.308900e+09</td>\n",
       "      <td>NaN</td>\n",
       "      <td>6.450000e+05</td>\n",
       "      <td>4.000000</td>\n",
       "      <td>2.500000</td>\n",
       "      <td>2550.000000</td>\n",
       "      <td>1.068800e+04</td>\n",
       "      <td>2.000000</td>\n",
       "      <td>NaN</td>\n",
       "      <td>NaN</td>\n",
       "      <td>NaN</td>\n",
       "      <td>NaN</td>\n",
       "      <td>2210.000000</td>\n",
       "      <td>560.000000</td>\n",
       "      <td>1997.000000</td>\n",
       "      <td>0.000000</td>\n",
       "      <td>NaN</td>\n",
       "      <td>47.678000</td>\n",
       "      <td>-122.125000</td>\n",
       "      <td>2360.000000</td>\n",
       "      <td>10083.000000</td>\n",
       "    </tr>\n",
       "    <tr>\n",
       "      <th>max</th>\n",
       "      <td>9.900000e+09</td>\n",
       "      <td>NaN</td>\n",
       "      <td>7.700000e+06</td>\n",
       "      <td>33.000000</td>\n",
       "      <td>8.000000</td>\n",
       "      <td>13540.000000</td>\n",
       "      <td>1.651359e+06</td>\n",
       "      <td>3.500000</td>\n",
       "      <td>NaN</td>\n",
       "      <td>NaN</td>\n",
       "      <td>NaN</td>\n",
       "      <td>NaN</td>\n",
       "      <td>9410.000000</td>\n",
       "      <td>4820.000000</td>\n",
       "      <td>2015.000000</td>\n",
       "      <td>2015.000000</td>\n",
       "      <td>NaN</td>\n",
       "      <td>47.777600</td>\n",
       "      <td>-121.315000</td>\n",
       "      <td>6210.000000</td>\n",
       "      <td>871200.000000</td>\n",
       "    </tr>\n",
       "  </tbody>\n",
       "</table>\n",
       "</div>"
      ],
      "text/plain": [
       "                  id                 date         price      bedrooms  \\\n",
       "count   2.161300e+04                21613  2.161300e+04  21613.000000   \n",
       "unique           NaN                  372           NaN           NaN   \n",
       "top              NaN  2014-06-23 00:00:00           NaN           NaN   \n",
       "freq             NaN                  142           NaN           NaN   \n",
       "first            NaN  2014-05-02 00:00:00           NaN           NaN   \n",
       "last             NaN  2015-05-27 00:00:00           NaN           NaN   \n",
       "mean    4.580302e+09                  NaN  5.400881e+05      3.370842   \n",
       "std     2.876566e+09                  NaN  3.671272e+05      0.930062   \n",
       "min     1.000102e+06                  NaN  7.500000e+04      0.000000   \n",
       "25%     2.123049e+09                  NaN  3.219500e+05      3.000000   \n",
       "50%     3.904930e+09                  NaN  4.500000e+05      3.000000   \n",
       "75%     7.308900e+09                  NaN  6.450000e+05      4.000000   \n",
       "max     9.900000e+09                  NaN  7.700000e+06     33.000000   \n",
       "\n",
       "           bathrooms   sqft_living      sqft_lot        floors  waterfront  \\\n",
       "count   21613.000000  21613.000000  2.161300e+04  21613.000000     21613.0   \n",
       "unique           NaN           NaN           NaN           NaN         2.0   \n",
       "top              NaN           NaN           NaN           NaN         0.0   \n",
       "freq             NaN           NaN           NaN           NaN     21450.0   \n",
       "first            NaN           NaN           NaN           NaN         NaN   \n",
       "last             NaN           NaN           NaN           NaN         NaN   \n",
       "mean        2.114757   2079.899736  1.510697e+04      1.494309         NaN   \n",
       "std         0.770163    918.440897  4.142051e+04      0.539989         NaN   \n",
       "min         0.000000    290.000000  5.200000e+02      1.000000         NaN   \n",
       "25%         1.750000   1427.000000  5.040000e+03      1.000000         NaN   \n",
       "50%         2.250000   1910.000000  7.618000e+03      1.500000         NaN   \n",
       "75%         2.500000   2550.000000  1.068800e+04      2.000000         NaN   \n",
       "max         8.000000  13540.000000  1.651359e+06      3.500000         NaN   \n",
       "\n",
       "           view  condition    grade    sqft_above  sqft_basement  \\\n",
       "count   21613.0    21613.0  21613.0  21613.000000   21613.000000   \n",
       "unique      5.0        5.0     12.0           NaN            NaN   \n",
       "top         0.0        3.0      7.0           NaN            NaN   \n",
       "freq    19489.0    14031.0   8981.0           NaN            NaN   \n",
       "first       NaN        NaN      NaN           NaN            NaN   \n",
       "last        NaN        NaN      NaN           NaN            NaN   \n",
       "mean        NaN        NaN      NaN   1788.390691     291.509045   \n",
       "std         NaN        NaN      NaN    828.090978     442.575043   \n",
       "min         NaN        NaN      NaN    290.000000       0.000000   \n",
       "25%         NaN        NaN      NaN   1190.000000       0.000000   \n",
       "50%         NaN        NaN      NaN   1560.000000       0.000000   \n",
       "75%         NaN        NaN      NaN   2210.000000     560.000000   \n",
       "max         NaN        NaN      NaN   9410.000000    4820.000000   \n",
       "\n",
       "            yr_built  yr_renovated zipcode           lat          long  \\\n",
       "count   21613.000000  21613.000000   21613  21613.000000  21613.000000   \n",
       "unique           NaN           NaN      70           NaN           NaN   \n",
       "top              NaN           NaN   98103           NaN           NaN   \n",
       "freq             NaN           NaN     602           NaN           NaN   \n",
       "first            NaN           NaN     NaN           NaN           NaN   \n",
       "last             NaN           NaN     NaN           NaN           NaN   \n",
       "mean     1971.005136     84.402258     NaN     47.560053   -122.213896   \n",
       "std        29.373411    401.679240     NaN      0.138564      0.140828   \n",
       "min      1900.000000      0.000000     NaN     47.155900   -122.519000   \n",
       "25%      1951.000000      0.000000     NaN     47.471000   -122.328000   \n",
       "50%      1975.000000      0.000000     NaN     47.571800   -122.230000   \n",
       "75%      1997.000000      0.000000     NaN     47.678000   -122.125000   \n",
       "max      2015.000000   2015.000000     NaN     47.777600   -121.315000   \n",
       "\n",
       "        sqft_living15     sqft_lot15  \n",
       "count    21613.000000   21613.000000  \n",
       "unique            NaN            NaN  \n",
       "top               NaN            NaN  \n",
       "freq              NaN            NaN  \n",
       "first             NaN            NaN  \n",
       "last              NaN            NaN  \n",
       "mean      1986.552492   12768.455652  \n",
       "std        685.391304   27304.179631  \n",
       "min        399.000000     651.000000  \n",
       "25%       1490.000000    5100.000000  \n",
       "50%       1840.000000    7620.000000  \n",
       "75%       2360.000000   10083.000000  \n",
       "max       6210.000000  871200.000000  "
      ]
     },
     "execution_count": 9,
     "metadata": {},
     "output_type": "execute_result"
    }
   ],
   "source": [
    "data.describe(include='all')"
   ]
  },
  {
   "cell_type": "markdown",
   "metadata": {
    "_cell_guid": "e1944485-3c92-6f5e-1d92-95061b0c1e55"
   },
   "source": [
    "## 3. Setting the context (map visualization)\n",
    "\n",
    "Before we dive into exploring the data, we’ll want to set the context of the analysis. One good way to do this is with exploratory charts or maps. In this case, we’ll map out the positions of the houses, which will help us understand the problem we’re exploring.\n",
    "\n",
    "In the below code, we:\n",
    "\n",
    "* Setup a map centered on King County.\n",
    "* Add a marker to the map for each house sold in the area.\n",
    "* Display the map."
   ]
  },
  {
   "cell_type": "code",
   "execution_count": 10,
   "metadata": {
    "_cell_guid": "1aea0afe-26d6-1d45-e165-2af81a65d690"
   },
   "outputs": [
    {
     "ename": "AttributeError",
     "evalue": "module 'folium' has no attribute 'MarkerCluster'",
     "output_type": "error",
     "traceback": [
      "\u001b[1;31m---------------------------------------------------------------------------\u001b[0m",
      "\u001b[1;31mAttributeError\u001b[0m                            Traceback (most recent call last)",
      "\u001b[1;32m<ipython-input-10-b13d12fb2d57>\u001b[0m in \u001b[0;36m<module>\u001b[1;34m\u001b[0m\n\u001b[0;32m      1\u001b[0m \u001b[0mhouses_map\u001b[0m \u001b[1;33m=\u001b[0m \u001b[0mfolium\u001b[0m\u001b[1;33m.\u001b[0m\u001b[0mMap\u001b[0m\u001b[1;33m(\u001b[0m\u001b[0mlocation\u001b[0m \u001b[1;33m=\u001b[0m \u001b[1;33m[\u001b[0m\u001b[0mdata\u001b[0m\u001b[1;33m[\u001b[0m\u001b[1;34m'lat'\u001b[0m\u001b[1;33m]\u001b[0m\u001b[1;33m.\u001b[0m\u001b[0mmean\u001b[0m\u001b[1;33m(\u001b[0m\u001b[1;33m)\u001b[0m\u001b[1;33m,\u001b[0m \u001b[0mdata\u001b[0m\u001b[1;33m[\u001b[0m\u001b[1;34m'long'\u001b[0m\u001b[1;33m]\u001b[0m\u001b[1;33m.\u001b[0m\u001b[0mmean\u001b[0m\u001b[1;33m(\u001b[0m\u001b[1;33m)\u001b[0m\u001b[1;33m]\u001b[0m\u001b[1;33m,\u001b[0m \u001b[0mzoom_start\u001b[0m \u001b[1;33m=\u001b[0m \u001b[1;36m10\u001b[0m\u001b[1;33m)\u001b[0m\u001b[1;33m\u001b[0m\u001b[1;33m\u001b[0m\u001b[0m\n\u001b[1;32m----> 2\u001b[1;33m \u001b[0mmarker_cluster\u001b[0m \u001b[1;33m=\u001b[0m \u001b[0mfolium\u001b[0m\u001b[1;33m.\u001b[0m\u001b[0mMarkerCluster\u001b[0m\u001b[1;33m(\u001b[0m\u001b[1;33m)\u001b[0m\u001b[1;33m.\u001b[0m\u001b[0madd_to\u001b[0m\u001b[1;33m(\u001b[0m\u001b[0mhouses_map\u001b[0m\u001b[1;33m)\u001b[0m\u001b[1;33m\u001b[0m\u001b[1;33m\u001b[0m\u001b[0m\n\u001b[0m\u001b[0;32m      3\u001b[0m \u001b[0mMAX_RECORDS\u001b[0m \u001b[1;33m=\u001b[0m \u001b[1;36m100\u001b[0m\u001b[1;33m\u001b[0m\u001b[1;33m\u001b[0m\u001b[0m\n\u001b[0;32m      4\u001b[0m \u001b[1;32mfor\u001b[0m \u001b[0mname\u001b[0m\u001b[1;33m,\u001b[0m \u001b[0mrow\u001b[0m \u001b[1;32min\u001b[0m \u001b[0mdata\u001b[0m\u001b[1;33m.\u001b[0m\u001b[0miterrows\u001b[0m\u001b[1;33m(\u001b[0m\u001b[1;33m)\u001b[0m\u001b[1;33m:\u001b[0m\u001b[1;33m\u001b[0m\u001b[1;33m\u001b[0m\u001b[0m\n\u001b[0;32m      5\u001b[0m     folium.Marker([row[\"lat\"], row[\"long\"]], \n",
      "\u001b[1;31mAttributeError\u001b[0m: module 'folium' has no attribute 'MarkerCluster'"
     ]
    }
   ],
   "source": [
    "houses_map = folium.Map(location = [data['lat'].mean(), data['long'].mean()], zoom_start = 10)\n",
    "marker_cluster = folium.MarkerCluster().add_to(houses_map)\n",
    "MAX_RECORDS = 100\n",
    "for name, row in data.iterrows():\n",
    "    folium.Marker([row[\"lat\"], row[\"long\"]], \n",
    "                  popup=\"Sold for {0}$ on: {1}. Features: {2} sqft, {3} bedrooms, {4} bathrooms, year built: {5}\"\\\n",
    "                  .format(row[\"price\"], row[\"date\"], row['sqft_living'], \n",
    "                          row['bedrooms'], row['bathrooms'], row['yr_built'])).add_to(marker_cluster)\n",
    "    \n",
    "houses_map.create_map('houses.html')\n",
    "houses_map"
   ]
  },
  {
   "cell_type": "markdown",
   "metadata": {
    "_cell_guid": "9cf4c7f6-94e9-9fe9-ec6e-f0960d96a6e5"
   },
   "source": [
    "![houses map][1]\n",
    "\n",
    "Interactive map is available [here][2]\n",
    "\n",
    "The map is helpful but it's hard to see where the houses in our dataset are located. Instead, we could make a heatmap:\n",
    "\n",
    "\n",
    "  [1]: https://harlfoxem.github.io/img/King_County_House_Prediction_files/housesmap.png\n",
    "  [2]: https://harlfoxem.github.io/houses.html"
   ]
  },
  {
   "cell_type": "code",
   "execution_count": 11,
   "metadata": {
    "_cell_guid": "0bcfeb82-b3f3-9fa3-02ec-e4b9cbd44f35"
   },
   "outputs": [
    {
     "ename": "AttributeError",
     "evalue": "'Map' object has no attribute 'create_map'",
     "output_type": "error",
     "traceback": [
      "\u001b[1;31m---------------------------------------------------------------------------\u001b[0m",
      "\u001b[1;31mAttributeError\u001b[0m                            Traceback (most recent call last)",
      "\u001b[1;32m<ipython-input-11-5f99f3af5ba9>\u001b[0m in \u001b[0;36m<module>\u001b[1;34m\u001b[0m\n\u001b[0;32m      1\u001b[0m \u001b[0mhouses_heatmap\u001b[0m \u001b[1;33m=\u001b[0m \u001b[0mfolium\u001b[0m\u001b[1;33m.\u001b[0m\u001b[0mMap\u001b[0m\u001b[1;33m(\u001b[0m\u001b[0mlocation\u001b[0m \u001b[1;33m=\u001b[0m \u001b[1;33m[\u001b[0m\u001b[0mdata\u001b[0m\u001b[1;33m[\u001b[0m\u001b[1;34m'lat'\u001b[0m\u001b[1;33m]\u001b[0m\u001b[1;33m.\u001b[0m\u001b[0mmean\u001b[0m\u001b[1;33m(\u001b[0m\u001b[1;33m)\u001b[0m\u001b[1;33m,\u001b[0m \u001b[0mdata\u001b[0m\u001b[1;33m[\u001b[0m\u001b[1;34m'long'\u001b[0m\u001b[1;33m]\u001b[0m\u001b[1;33m.\u001b[0m\u001b[0mmean\u001b[0m\u001b[1;33m(\u001b[0m\u001b[1;33m)\u001b[0m\u001b[1;33m]\u001b[0m\u001b[1;33m,\u001b[0m \u001b[0mzoom_start\u001b[0m \u001b[1;33m=\u001b[0m \u001b[1;36m9\u001b[0m\u001b[1;33m)\u001b[0m\u001b[1;33m\u001b[0m\u001b[1;33m\u001b[0m\u001b[0m\n\u001b[0;32m      2\u001b[0m \u001b[0mhouses_heatmap\u001b[0m\u001b[1;33m.\u001b[0m\u001b[0madd_children\u001b[0m\u001b[1;33m(\u001b[0m\u001b[0mplugins\u001b[0m\u001b[1;33m.\u001b[0m\u001b[0mHeatMap\u001b[0m\u001b[1;33m(\u001b[0m\u001b[1;33m[\u001b[0m\u001b[1;33m[\u001b[0m\u001b[0mrow\u001b[0m\u001b[1;33m[\u001b[0m\u001b[1;34m\"lat\"\u001b[0m\u001b[1;33m]\u001b[0m\u001b[1;33m,\u001b[0m \u001b[0mrow\u001b[0m\u001b[1;33m[\u001b[0m\u001b[1;34m\"long\"\u001b[0m\u001b[1;33m]\u001b[0m\u001b[1;33m]\u001b[0m \u001b[1;32mfor\u001b[0m \u001b[0mname\u001b[0m\u001b[1;33m,\u001b[0m \u001b[0mrow\u001b[0m \u001b[1;32min\u001b[0m \u001b[0mdata\u001b[0m\u001b[1;33m.\u001b[0m\u001b[0miterrows\u001b[0m\u001b[1;33m(\u001b[0m\u001b[1;33m)\u001b[0m\u001b[1;33m]\u001b[0m\u001b[1;33m)\u001b[0m\u001b[1;33m)\u001b[0m\u001b[1;33m\u001b[0m\u001b[1;33m\u001b[0m\u001b[0m\n\u001b[1;32m----> 3\u001b[1;33m \u001b[0mhouses_heatmap\u001b[0m\u001b[1;33m.\u001b[0m\u001b[0mcreate_map\u001b[0m\u001b[1;33m(\u001b[0m\u001b[1;34m\"heatmap.html\"\u001b[0m\u001b[1;33m)\u001b[0m\u001b[1;33m\u001b[0m\u001b[1;33m\u001b[0m\u001b[0m\n\u001b[0m\u001b[0;32m      4\u001b[0m \u001b[0mhouses_heatmap\u001b[0m\u001b[1;33m\u001b[0m\u001b[1;33m\u001b[0m\u001b[0m\n",
      "\u001b[1;31mAttributeError\u001b[0m: 'Map' object has no attribute 'create_map'"
     ]
    }
   ],
   "source": [
    "houses_heatmap = folium.Map(location = [data['lat'].mean(), data['long'].mean()], zoom_start = 9)\n",
    "houses_heatmap.add_children(plugins.HeatMap([[row[\"lat\"], row[\"long\"]] for name, row in data.iterrows()]))\n",
    "houses_heatmap.create_map(\"heatmap.html\")\n",
    "houses_heatmap"
   ]
  },
  {
   "cell_type": "markdown",
   "metadata": {
    "_cell_guid": "cffd81db-8569-eaa5-a206-219f5bb77191"
   },
   "source": [
    "![heatmap][1]\n",
    "\n",
    "(again, map: [here][2])\n",
    "\n",
    "Heatmaps are good for mapping out gradients, but we’ll want something with more structure to plot out differences in house sale accross the county. Zip codes are a good way to visualize this information.\n",
    "\n",
    "We could for example compute the mean house price by zip code, then plot this out on a map. In the below code, we'll:\n",
    "\n",
    "* group the dataframe by zipcode,\n",
    "* Compute the average price of each column\n",
    "* add a column with the total number of observations (i.e., house sales) per zipcode\n",
    "\n",
    "\n",
    "  [1]: https://harlfoxem.github.io/img/King_County_House_Prediction_files/heatmap.png\n",
    "  [2]: https://harlfoxem.github.io/heatmap.html"
   ]
  },
  {
   "cell_type": "code",
   "execution_count": 14,
   "metadata": {},
   "outputs": [
    {
     "data": {
      "text/html": [
       "<div>\n",
       "<style scoped>\n",
       "    .dataframe tbody tr th:only-of-type {\n",
       "        vertical-align: middle;\n",
       "    }\n",
       "\n",
       "    .dataframe tbody tr th {\n",
       "        vertical-align: top;\n",
       "    }\n",
       "\n",
       "    .dataframe thead th {\n",
       "        text-align: right;\n",
       "    }\n",
       "</style>\n",
       "<table border=\"1\" class=\"dataframe\">\n",
       "  <thead>\n",
       "    <tr style=\"text-align: right;\">\n",
       "      <th></th>\n",
       "      <th>id</th>\n",
       "      <th>date</th>\n",
       "      <th>price</th>\n",
       "      <th>bedrooms</th>\n",
       "      <th>bathrooms</th>\n",
       "      <th>sqft_living</th>\n",
       "      <th>sqft_lot</th>\n",
       "      <th>floors</th>\n",
       "      <th>waterfront</th>\n",
       "      <th>view</th>\n",
       "      <th>condition</th>\n",
       "      <th>grade</th>\n",
       "      <th>sqft_above</th>\n",
       "      <th>sqft_basement</th>\n",
       "      <th>yr_built</th>\n",
       "      <th>yr_renovated</th>\n",
       "      <th>zipcode</th>\n",
       "      <th>lat</th>\n",
       "      <th>long</th>\n",
       "      <th>sqft_living15</th>\n",
       "      <th>sqft_lot15</th>\n",
       "    </tr>\n",
       "  </thead>\n",
       "  <tbody>\n",
       "    <tr>\n",
       "      <th>16768</th>\n",
       "      <td>5561000190</td>\n",
       "      <td>2014-05-02</td>\n",
       "      <td>437500.0</td>\n",
       "      <td>3</td>\n",
       "      <td>2.25</td>\n",
       "      <td>1970</td>\n",
       "      <td>35100</td>\n",
       "      <td>2.0</td>\n",
       "      <td>0</td>\n",
       "      <td>0</td>\n",
       "      <td>4</td>\n",
       "      <td>9</td>\n",
       "      <td>1970</td>\n",
       "      <td>0</td>\n",
       "      <td>1977</td>\n",
       "      <td>0</td>\n",
       "      <td>98027</td>\n",
       "      <td>47.4635</td>\n",
       "      <td>-121.991</td>\n",
       "      <td>2340</td>\n",
       "      <td>35100</td>\n",
       "    </tr>\n",
       "    <tr>\n",
       "      <th>9596</th>\n",
       "      <td>472000620</td>\n",
       "      <td>2014-05-02</td>\n",
       "      <td>790000.0</td>\n",
       "      <td>3</td>\n",
       "      <td>2.50</td>\n",
       "      <td>2600</td>\n",
       "      <td>4750</td>\n",
       "      <td>1.0</td>\n",
       "      <td>0</td>\n",
       "      <td>0</td>\n",
       "      <td>4</td>\n",
       "      <td>9</td>\n",
       "      <td>1700</td>\n",
       "      <td>900</td>\n",
       "      <td>1951</td>\n",
       "      <td>0</td>\n",
       "      <td>98117</td>\n",
       "      <td>47.6833</td>\n",
       "      <td>-122.400</td>\n",
       "      <td>2380</td>\n",
       "      <td>4750</td>\n",
       "    </tr>\n",
       "    <tr>\n",
       "      <th>9587</th>\n",
       "      <td>1024069009</td>\n",
       "      <td>2014-05-02</td>\n",
       "      <td>675000.0</td>\n",
       "      <td>5</td>\n",
       "      <td>2.50</td>\n",
       "      <td>2820</td>\n",
       "      <td>67518</td>\n",
       "      <td>2.0</td>\n",
       "      <td>0</td>\n",
       "      <td>0</td>\n",
       "      <td>3</td>\n",
       "      <td>8</td>\n",
       "      <td>2820</td>\n",
       "      <td>0</td>\n",
       "      <td>1979</td>\n",
       "      <td>0</td>\n",
       "      <td>98029</td>\n",
       "      <td>47.5794</td>\n",
       "      <td>-122.025</td>\n",
       "      <td>2820</td>\n",
       "      <td>48351</td>\n",
       "    </tr>\n",
       "    <tr>\n",
       "      <th>20602</th>\n",
       "      <td>7853361370</td>\n",
       "      <td>2014-05-02</td>\n",
       "      <td>555000.0</td>\n",
       "      <td>4</td>\n",
       "      <td>2.50</td>\n",
       "      <td>3310</td>\n",
       "      <td>6500</td>\n",
       "      <td>2.0</td>\n",
       "      <td>0</td>\n",
       "      <td>0</td>\n",
       "      <td>3</td>\n",
       "      <td>8</td>\n",
       "      <td>3310</td>\n",
       "      <td>0</td>\n",
       "      <td>2012</td>\n",
       "      <td>0</td>\n",
       "      <td>98065</td>\n",
       "      <td>47.5150</td>\n",
       "      <td>-121.870</td>\n",
       "      <td>2380</td>\n",
       "      <td>5000</td>\n",
       "    </tr>\n",
       "    <tr>\n",
       "      <th>11577</th>\n",
       "      <td>5056500260</td>\n",
       "      <td>2014-05-02</td>\n",
       "      <td>440000.0</td>\n",
       "      <td>4</td>\n",
       "      <td>2.25</td>\n",
       "      <td>2160</td>\n",
       "      <td>8119</td>\n",
       "      <td>1.0</td>\n",
       "      <td>0</td>\n",
       "      <td>0</td>\n",
       "      <td>3</td>\n",
       "      <td>8</td>\n",
       "      <td>1080</td>\n",
       "      <td>1080</td>\n",
       "      <td>1966</td>\n",
       "      <td>0</td>\n",
       "      <td>98006</td>\n",
       "      <td>47.5443</td>\n",
       "      <td>-122.177</td>\n",
       "      <td>1850</td>\n",
       "      <td>9000</td>\n",
       "    </tr>\n",
       "  </tbody>\n",
       "</table>\n",
       "</div>"
      ],
      "text/plain": [
       "               id       date     price  bedrooms  bathrooms  sqft_living  \\\n",
       "16768  5561000190 2014-05-02  437500.0         3       2.25         1970   \n",
       "9596    472000620 2014-05-02  790000.0         3       2.50         2600   \n",
       "9587   1024069009 2014-05-02  675000.0         5       2.50         2820   \n",
       "20602  7853361370 2014-05-02  555000.0         4       2.50         3310   \n",
       "11577  5056500260 2014-05-02  440000.0         4       2.25         2160   \n",
       "\n",
       "       sqft_lot  floors waterfront view condition grade  sqft_above  \\\n",
       "16768     35100     2.0          0    0         4     9        1970   \n",
       "9596       4750     1.0          0    0         4     9        1700   \n",
       "9587      67518     2.0          0    0         3     8        2820   \n",
       "20602      6500     2.0          0    0         3     8        3310   \n",
       "11577      8119     1.0          0    0         3     8        1080   \n",
       "\n",
       "       sqft_basement  yr_built  yr_renovated zipcode      lat     long  \\\n",
       "16768              0      1977             0   98027  47.4635 -121.991   \n",
       "9596             900      1951             0   98117  47.6833 -122.400   \n",
       "9587               0      1979             0   98029  47.5794 -122.025   \n",
       "20602              0      2012             0   98065  47.5150 -121.870   \n",
       "11577           1080      1966             0   98006  47.5443 -122.177   \n",
       "\n",
       "       sqft_living15  sqft_lot15  \n",
       "16768           2340       35100  \n",
       "9596            2380        4750  \n",
       "9587            2820       48351  \n",
       "20602           2380        5000  \n",
       "11577           1850        9000  "
      ]
     },
     "execution_count": 14,
     "metadata": {},
     "output_type": "execute_result"
    }
   ],
   "source": [
    "data.head(5)"
   ]
  },
  {
   "cell_type": "code",
   "execution_count": 16,
   "metadata": {
    "_cell_guid": "55f8c188-65e7-c96e-e0f5-c0d4be0f6acf"
   },
   "outputs": [
    {
     "name": "stdout",
     "output_type": "stream",
     "text": [
      "   zipcode  count\n",
      "0    98001    362\n",
      "1    98002    199\n",
      "2    98003    280\n",
      "3    98004    317\n",
      "4    98005    168\n",
      "5    98006    498\n",
      "6    98007    141\n",
      "7    98008    283\n",
      "8    98010    100\n",
      "9    98011    195\n",
      "10   98014    124\n",
      "11   98019    190\n",
      "12   98022    234\n",
      "13   98023    499\n",
      "14   98024     81\n",
      "15   98027    412\n",
      "16   98028    283\n",
      "17   98029    321\n",
      "18   98030    256\n",
      "19   98031    274\n",
      "20   98032    125\n",
      "21   98033    432\n",
      "22   98034    545\n",
      "23   98038    590\n",
      "24   98039     50\n",
      "25   98040    282\n",
      "26   98042    548\n",
      "27   98045    221\n",
      "28   98052    574\n",
      "29   98053    405\n",
      "..     ...    ...\n",
      "40   98092    351\n",
      "41   98102    105\n",
      "42   98103    602\n",
      "43   98105    229\n",
      "44   98106    335\n",
      "45   98107    266\n",
      "46   98108    186\n",
      "47   98109    109\n",
      "48   98112    269\n",
      "49   98115    583\n",
      "50   98116    330\n",
      "51   98117    553\n",
      "52   98118    508\n",
      "53   98119    184\n",
      "54   98122    290\n",
      "55   98125    410\n",
      "56   98126    354\n",
      "57   98133    494\n",
      "58   98136    263\n",
      "59   98144    343\n",
      "60   98146    288\n",
      "61   98148     57\n",
      "62   98155    446\n",
      "63   98166    254\n",
      "64   98168    269\n",
      "65   98177    255\n",
      "66   98178    262\n",
      "67   98188    136\n",
      "68   98198    280\n",
      "69   98199    317\n",
      "\n",
      "[70 rows x 2 columns]\n"
     ]
    },
    {
     "data": {
      "text/html": [
       "<div>\n",
       "<style scoped>\n",
       "    .dataframe tbody tr th:only-of-type {\n",
       "        vertical-align: middle;\n",
       "    }\n",
       "\n",
       "    .dataframe tbody tr th {\n",
       "        vertical-align: top;\n",
       "    }\n",
       "\n",
       "    .dataframe thead th {\n",
       "        text-align: right;\n",
       "    }\n",
       "</style>\n",
       "<table border=\"1\" class=\"dataframe\">\n",
       "  <thead>\n",
       "    <tr style=\"text-align: right;\">\n",
       "      <th></th>\n",
       "      <th>zipcode</th>\n",
       "      <th>id</th>\n",
       "      <th>price</th>\n",
       "      <th>bedrooms</th>\n",
       "      <th>bathrooms</th>\n",
       "      <th>sqft_living</th>\n",
       "      <th>sqft_lot</th>\n",
       "      <th>floors</th>\n",
       "      <th>sqft_above</th>\n",
       "      <th>sqft_basement</th>\n",
       "      <th>yr_built</th>\n",
       "      <th>yr_renovated</th>\n",
       "      <th>lat</th>\n",
       "      <th>long</th>\n",
       "      <th>sqft_living15</th>\n",
       "      <th>sqft_lot15</th>\n",
       "      <th>count</th>\n",
       "    </tr>\n",
       "  </thead>\n",
       "  <tbody>\n",
       "    <tr>\n",
       "      <th>0</th>\n",
       "      <td>98001</td>\n",
       "      <td>4.664787e+09</td>\n",
       "      <td>2.808047e+05</td>\n",
       "      <td>3.383978</td>\n",
       "      <td>2.006215</td>\n",
       "      <td>1900.856354</td>\n",
       "      <td>14937.450276</td>\n",
       "      <td>1.429558</td>\n",
       "      <td>1721.325967</td>\n",
       "      <td>179.530387</td>\n",
       "      <td>1980.679558</td>\n",
       "      <td>43.801105</td>\n",
       "      <td>47.309020</td>\n",
       "      <td>-122.270646</td>\n",
       "      <td>1828.856354</td>\n",
       "      <td>11214.403315</td>\n",
       "      <td>362</td>\n",
       "    </tr>\n",
       "    <tr>\n",
       "      <th>1</th>\n",
       "      <td>98002</td>\n",
       "      <td>4.850894e+09</td>\n",
       "      <td>2.342840e+05</td>\n",
       "      <td>3.326633</td>\n",
       "      <td>1.839196</td>\n",
       "      <td>1627.743719</td>\n",
       "      <td>7517.633166</td>\n",
       "      <td>1.334171</td>\n",
       "      <td>1522.537688</td>\n",
       "      <td>105.206030</td>\n",
       "      <td>1967.773869</td>\n",
       "      <td>59.889447</td>\n",
       "      <td>47.308780</td>\n",
       "      <td>-122.213357</td>\n",
       "      <td>1479.030151</td>\n",
       "      <td>7585.482412</td>\n",
       "      <td>199</td>\n",
       "    </tr>\n",
       "    <tr>\n",
       "      <th>2</th>\n",
       "      <td>98003</td>\n",
       "      <td>4.674182e+09</td>\n",
       "      <td>2.941113e+05</td>\n",
       "      <td>3.357143</td>\n",
       "      <td>2.047321</td>\n",
       "      <td>1928.882143</td>\n",
       "      <td>10603.096429</td>\n",
       "      <td>1.310714</td>\n",
       "      <td>1663.550000</td>\n",
       "      <td>265.332143</td>\n",
       "      <td>1976.885714</td>\n",
       "      <td>21.360714</td>\n",
       "      <td>47.315741</td>\n",
       "      <td>-122.310054</td>\n",
       "      <td>1876.196429</td>\n",
       "      <td>9746.178571</td>\n",
       "      <td>280</td>\n",
       "    </tr>\n",
       "    <tr>\n",
       "      <th>3</th>\n",
       "      <td>98004</td>\n",
       "      <td>4.394237e+09</td>\n",
       "      <td>1.355927e+06</td>\n",
       "      <td>3.854890</td>\n",
       "      <td>2.527603</td>\n",
       "      <td>2909.022082</td>\n",
       "      <td>13104.220820</td>\n",
       "      <td>1.432177</td>\n",
       "      <td>2419.842271</td>\n",
       "      <td>489.179811</td>\n",
       "      <td>1971.470032</td>\n",
       "      <td>208.145110</td>\n",
       "      <td>47.616183</td>\n",
       "      <td>-122.205189</td>\n",
       "      <td>2674.700315</td>\n",
       "      <td>12805.022082</td>\n",
       "      <td>317</td>\n",
       "    </tr>\n",
       "    <tr>\n",
       "      <th>4</th>\n",
       "      <td>98005</td>\n",
       "      <td>4.961872e+09</td>\n",
       "      <td>8.101649e+05</td>\n",
       "      <td>3.851190</td>\n",
       "      <td>2.424107</td>\n",
       "      <td>2656.803571</td>\n",
       "      <td>19928.785714</td>\n",
       "      <td>1.279762</td>\n",
       "      <td>2160.196429</td>\n",
       "      <td>496.607143</td>\n",
       "      <td>1969.744048</td>\n",
       "      <td>47.630952</td>\n",
       "      <td>47.611532</td>\n",
       "      <td>-122.167268</td>\n",
       "      <td>2567.863095</td>\n",
       "      <td>18367.773810</td>\n",
       "      <td>168</td>\n",
       "    </tr>\n",
       "  </tbody>\n",
       "</table>\n",
       "</div>"
      ],
      "text/plain": [
       "  zipcode            id         price  bedrooms  bathrooms  sqft_living  \\\n",
       "0   98001  4.664787e+09  2.808047e+05  3.383978   2.006215  1900.856354   \n",
       "1   98002  4.850894e+09  2.342840e+05  3.326633   1.839196  1627.743719   \n",
       "2   98003  4.674182e+09  2.941113e+05  3.357143   2.047321  1928.882143   \n",
       "3   98004  4.394237e+09  1.355927e+06  3.854890   2.527603  2909.022082   \n",
       "4   98005  4.961872e+09  8.101649e+05  3.851190   2.424107  2656.803571   \n",
       "\n",
       "       sqft_lot    floors   sqft_above  sqft_basement     yr_built  \\\n",
       "0  14937.450276  1.429558  1721.325967     179.530387  1980.679558   \n",
       "1   7517.633166  1.334171  1522.537688     105.206030  1967.773869   \n",
       "2  10603.096429  1.310714  1663.550000     265.332143  1976.885714   \n",
       "3  13104.220820  1.432177  2419.842271     489.179811  1971.470032   \n",
       "4  19928.785714  1.279762  2160.196429     496.607143  1969.744048   \n",
       "\n",
       "   yr_renovated        lat        long  sqft_living15    sqft_lot15  count  \n",
       "0     43.801105  47.309020 -122.270646    1828.856354  11214.403315    362  \n",
       "1     59.889447  47.308780 -122.213357    1479.030151   7585.482412    199  \n",
       "2     21.360714  47.315741 -122.310054    1876.196429   9746.178571    280  \n",
       "3    208.145110  47.616183 -122.205189    2674.700315  12805.022082    317  \n",
       "4     47.630952  47.611532 -122.167268    2567.863095  18367.773810    168  "
      ]
     },
     "execution_count": 16,
     "metadata": {},
     "output_type": "execute_result"
    }
   ],
   "source": [
    "\n",
    "zipcode_data = data.groupby('zipcode').aggregate(np.mean)\n",
    "zipcode_data.reset_index(inplace=True)\n",
    "\n",
    "data['count'] = 1\n",
    "count_houses_zipcode = data.groupby('zipcode').sum()\n",
    "\n",
    "count_houses_zipcode.reset_index(inplace=True)\n",
    "count_houses_zipcode = count_houses_zipcode[['zipcode','count']]\n",
    "print(count_houses_zipcode)\n",
    "data.drop(['count'], axis = 1, inplace = True)\n",
    "\n",
    "zipcode_data = pd.merge(zipcode_data, count_houses_zipcode, how='left', on=['zipcode'])\n",
    "zipcode_data.head(5)"
   ]
  },
  {
   "cell_type": "markdown",
   "metadata": {
    "_cell_guid": "1fbfce22-f225-a4be-56f4-1fc668c45340"
   },
   "source": [
    "We’ll now be able to plot the average value of a specific attribute for each zip code. In order to do this, we’ll read data in GeoJSON format to get the shape of each zip code, then match each zip code shape with the attribute score. Let's first create a function.\n",
    "\n",
    "GeoJSON file available [here][1]\n",
    "\n",
    "\n",
    "  [1]: https://github.com/harlfoxem/House_Price_Prediction/blob/master/zipcode_king_county.geojson"
   ]
  },
  {
   "cell_type": "code",
   "execution_count": 17,
   "metadata": {
    "_cell_guid": "2a3500bf-8349-f7cb-7545-c248e17edf53"
   },
   "outputs": [],
   "source": [
    "def show_zipcode_map(col):\n",
    "    geo_path = 'zipcode/zipcode_king_county.geojson'\n",
    "    zipcode = folium.Map(location=[data['lat'].mean(), data['long'].mean()], zoom_start=9)\n",
    "    zipcode.geo_json(geo_path = geo_path,\n",
    "                     data=zipcode_data, \n",
    "                     columns = ['zipcode', col], key_on = 'feature.properties.ZCTA5CE10',\n",
    "                 fill_color='OrRd', fill_opacity=0.9,line_opacity=0.2)\n",
    "    zipcode.save(col + '.html')\n",
    "    return zipcode"
   ]
  },
  {
   "cell_type": "markdown",
   "metadata": {
    "_cell_guid": "bc3f2631-1be4-eccf-c7c8-1a95e3918d23"
   },
   "source": [
    "Now that we have our function ready, let's make a plot using the variable count."
   ]
  },
  {
   "cell_type": "code",
   "execution_count": 18,
   "metadata": {
    "_cell_guid": "45a3c326-ac91-1274-71a0-3c247dd98a23"
   },
   "outputs": [
    {
     "ename": "AttributeError",
     "evalue": "'Map' object has no attribute 'geo_json'",
     "output_type": "error",
     "traceback": [
      "\u001b[1;31m---------------------------------------------------------------------------\u001b[0m",
      "\u001b[1;31mAttributeError\u001b[0m                            Traceback (most recent call last)",
      "\u001b[1;32m<ipython-input-18-45c58b4e432d>\u001b[0m in \u001b[0;36m<module>\u001b[1;34m\u001b[0m\n\u001b[1;32m----> 1\u001b[1;33m \u001b[0mshow_zipcode_map\u001b[0m\u001b[1;33m(\u001b[0m\u001b[1;34m'count'\u001b[0m\u001b[1;33m)\u001b[0m\u001b[1;33m\u001b[0m\u001b[1;33m\u001b[0m\u001b[0m\n\u001b[0m",
      "\u001b[1;32m<ipython-input-17-1783e6cde399>\u001b[0m in \u001b[0;36mshow_zipcode_map\u001b[1;34m(col)\u001b[0m\n\u001b[0;32m      2\u001b[0m     \u001b[0mgeo_path\u001b[0m \u001b[1;33m=\u001b[0m \u001b[1;34m'zipcode/zipcode_king_county.geojson'\u001b[0m\u001b[1;33m\u001b[0m\u001b[1;33m\u001b[0m\u001b[0m\n\u001b[0;32m      3\u001b[0m     \u001b[0mzipcode\u001b[0m \u001b[1;33m=\u001b[0m \u001b[0mfolium\u001b[0m\u001b[1;33m.\u001b[0m\u001b[0mMap\u001b[0m\u001b[1;33m(\u001b[0m\u001b[0mlocation\u001b[0m\u001b[1;33m=\u001b[0m\u001b[1;33m[\u001b[0m\u001b[0mdata\u001b[0m\u001b[1;33m[\u001b[0m\u001b[1;34m'lat'\u001b[0m\u001b[1;33m]\u001b[0m\u001b[1;33m.\u001b[0m\u001b[0mmean\u001b[0m\u001b[1;33m(\u001b[0m\u001b[1;33m)\u001b[0m\u001b[1;33m,\u001b[0m \u001b[0mdata\u001b[0m\u001b[1;33m[\u001b[0m\u001b[1;34m'long'\u001b[0m\u001b[1;33m]\u001b[0m\u001b[1;33m.\u001b[0m\u001b[0mmean\u001b[0m\u001b[1;33m(\u001b[0m\u001b[1;33m)\u001b[0m\u001b[1;33m]\u001b[0m\u001b[1;33m,\u001b[0m \u001b[0mzoom_start\u001b[0m\u001b[1;33m=\u001b[0m\u001b[1;36m9\u001b[0m\u001b[1;33m)\u001b[0m\u001b[1;33m\u001b[0m\u001b[1;33m\u001b[0m\u001b[0m\n\u001b[1;32m----> 4\u001b[1;33m     zipcode.geo_json(geo_path = geo_path,\n\u001b[0m\u001b[0;32m      5\u001b[0m                      \u001b[0mdata\u001b[0m\u001b[1;33m=\u001b[0m\u001b[0mzipcode_data\u001b[0m\u001b[1;33m,\u001b[0m\u001b[1;33m\u001b[0m\u001b[1;33m\u001b[0m\u001b[0m\n\u001b[0;32m      6\u001b[0m                      \u001b[0mcolumns\u001b[0m \u001b[1;33m=\u001b[0m \u001b[1;33m[\u001b[0m\u001b[1;34m'zipcode'\u001b[0m\u001b[1;33m,\u001b[0m \u001b[0mcol\u001b[0m\u001b[1;33m]\u001b[0m\u001b[1;33m,\u001b[0m \u001b[0mkey_on\u001b[0m \u001b[1;33m=\u001b[0m \u001b[1;34m'feature.properties.ZCTA5CE10'\u001b[0m\u001b[1;33m,\u001b[0m\u001b[1;33m\u001b[0m\u001b[1;33m\u001b[0m\u001b[0m\n",
      "\u001b[1;31mAttributeError\u001b[0m: 'Map' object has no attribute 'geo_json'"
     ]
    }
   ],
   "source": [
    "show_zipcode_map('count')"
   ]
  },
  {
   "cell_type": "markdown",
   "metadata": {
    "_cell_guid": "8b8af262-e34b-0cad-acee-782f855325a5"
   },
   "source": [
    "![count map][1]\n",
    "\n",
    "Again, map [here][2]\n",
    "\n",
    "The map helps us understand a few things about the dataset. First, we can see that we don't have data for every zip code in the county. This is especially true for the inner suburbs of Seattle. Second, some zipcodes have a lot more house sales recorded than others. The number of observations range from ~50 to ~600.\n",
    "Let's show a few more maps:\n",
    "\n",
    "\n",
    "  [1]: https://harlfoxem.github.io/img/King_County_House_Prediction_files/count.png\n",
    "  [2]: https://harlfoxem.github.io/count.html"
   ]
  },
  {
   "cell_type": "code",
   "execution_count": 19,
   "metadata": {
    "_cell_guid": "f833cc2a-8d00-622b-e436-3a75ab674eaa"
   },
   "outputs": [
    {
     "ename": "AttributeError",
     "evalue": "'Map' object has no attribute 'geo_json'",
     "output_type": "error",
     "traceback": [
      "\u001b[1;31m---------------------------------------------------------------------------\u001b[0m",
      "\u001b[1;31mAttributeError\u001b[0m                            Traceback (most recent call last)",
      "\u001b[1;32m<ipython-input-19-4a4ca41c98a8>\u001b[0m in \u001b[0;36m<module>\u001b[1;34m\u001b[0m\n\u001b[1;32m----> 1\u001b[1;33m \u001b[0mshow_zipcode_map\u001b[0m\u001b[1;33m(\u001b[0m\u001b[1;34m'price'\u001b[0m\u001b[1;33m)\u001b[0m\u001b[1;33m\u001b[0m\u001b[1;33m\u001b[0m\u001b[0m\n\u001b[0m\u001b[0;32m      2\u001b[0m \u001b[0mshow_zipcode_map\u001b[0m\u001b[1;33m(\u001b[0m\u001b[1;34m'sqft_living'\u001b[0m\u001b[1;33m)\u001b[0m\u001b[1;33m\u001b[0m\u001b[1;33m\u001b[0m\u001b[0m\n\u001b[0;32m      3\u001b[0m \u001b[0mshow_zipcode_map\u001b[0m\u001b[1;33m(\u001b[0m\u001b[1;34m'yr_built'\u001b[0m\u001b[1;33m)\u001b[0m\u001b[1;33m\u001b[0m\u001b[1;33m\u001b[0m\u001b[0m\n",
      "\u001b[1;32m<ipython-input-17-1783e6cde399>\u001b[0m in \u001b[0;36mshow_zipcode_map\u001b[1;34m(col)\u001b[0m\n\u001b[0;32m      2\u001b[0m     \u001b[0mgeo_path\u001b[0m \u001b[1;33m=\u001b[0m \u001b[1;34m'zipcode/zipcode_king_county.geojson'\u001b[0m\u001b[1;33m\u001b[0m\u001b[1;33m\u001b[0m\u001b[0m\n\u001b[0;32m      3\u001b[0m     \u001b[0mzipcode\u001b[0m \u001b[1;33m=\u001b[0m \u001b[0mfolium\u001b[0m\u001b[1;33m.\u001b[0m\u001b[0mMap\u001b[0m\u001b[1;33m(\u001b[0m\u001b[0mlocation\u001b[0m\u001b[1;33m=\u001b[0m\u001b[1;33m[\u001b[0m\u001b[0mdata\u001b[0m\u001b[1;33m[\u001b[0m\u001b[1;34m'lat'\u001b[0m\u001b[1;33m]\u001b[0m\u001b[1;33m.\u001b[0m\u001b[0mmean\u001b[0m\u001b[1;33m(\u001b[0m\u001b[1;33m)\u001b[0m\u001b[1;33m,\u001b[0m \u001b[0mdata\u001b[0m\u001b[1;33m[\u001b[0m\u001b[1;34m'long'\u001b[0m\u001b[1;33m]\u001b[0m\u001b[1;33m.\u001b[0m\u001b[0mmean\u001b[0m\u001b[1;33m(\u001b[0m\u001b[1;33m)\u001b[0m\u001b[1;33m]\u001b[0m\u001b[1;33m,\u001b[0m \u001b[0mzoom_start\u001b[0m\u001b[1;33m=\u001b[0m\u001b[1;36m9\u001b[0m\u001b[1;33m)\u001b[0m\u001b[1;33m\u001b[0m\u001b[1;33m\u001b[0m\u001b[0m\n\u001b[1;32m----> 4\u001b[1;33m     zipcode.geo_json(geo_path = geo_path,\n\u001b[0m\u001b[0;32m      5\u001b[0m                      \u001b[0mdata\u001b[0m\u001b[1;33m=\u001b[0m\u001b[0mzipcode_data\u001b[0m\u001b[1;33m,\u001b[0m\u001b[1;33m\u001b[0m\u001b[1;33m\u001b[0m\u001b[0m\n\u001b[0;32m      6\u001b[0m                      \u001b[0mcolumns\u001b[0m \u001b[1;33m=\u001b[0m \u001b[1;33m[\u001b[0m\u001b[1;34m'zipcode'\u001b[0m\u001b[1;33m,\u001b[0m \u001b[0mcol\u001b[0m\u001b[1;33m]\u001b[0m\u001b[1;33m,\u001b[0m \u001b[0mkey_on\u001b[0m \u001b[1;33m=\u001b[0m \u001b[1;34m'feature.properties.ZCTA5CE10'\u001b[0m\u001b[1;33m,\u001b[0m\u001b[1;33m\u001b[0m\u001b[1;33m\u001b[0m\u001b[0m\n",
      "\u001b[1;31mAttributeError\u001b[0m: 'Map' object has no attribute 'geo_json'"
     ]
    }
   ],
   "source": [
    "show_zipcode_map('price')\n",
    "show_zipcode_map('sqft_living')\n",
    "show_zipcode_map('yr_built')"
   ]
  },
  {
   "cell_type": "markdown",
   "metadata": {
    "_cell_guid": "68448977-1558-21e9-32e4-47440e3a5239"
   },
   "source": [
    "![price map][1]\n",
    "\n",
    "![sqft map][2]\n",
    "\n",
    "![yr built map][3]\n",
    "\n",
    "The three interactive maps are available [here][4], [here][5] and [here][6]\n",
    "\n",
    "We can see that on average, the houses on the eastern suburbs of Seattle are more expensive. They are also bigger in sqft. \n",
    "\n",
    "The houses close to the metropolitan are of Seattle are relatively old compare to the houses in the rural area. \n",
    "\n",
    "\n",
    "  [1]: https://harlfoxem.github.io/img/King_County_House_Prediction_files/price.png\n",
    "  [2]: https://harlfoxem.github.io/img/King_County_House_Prediction_files/sqft.png\n",
    "  [3]: https://harlfoxem.github.io/img/King_County_House_Prediction_files/yrbuilt.png\n",
    "  [4]: https://harlfoxem.github.io/price.html\n",
    "  [5]: https://harlfoxem.github.io/sqft_living.html\n",
    "  [6]: https://harlfoxem.github.io/yr_built.html"
   ]
  },
  {
   "cell_type": "markdown",
   "metadata": {
    "_cell_guid": "40f1b1fc-1706-59ad-ce7d-9caf4eac76b4"
   },
   "source": [
    "## 3. The Output Variable\n",
    "\n",
    "Now that we've set the context by plotting out where the houses in our dataset are located, we can move into exploring different angles for our regression analysis. \n",
    "\n",
    "Let's first display the distribution of the target column (price) using a boxplot.\n",
    "![boxplot definition][1]\n",
    "\n",
    "\n",
    "  [1]: https://harlfoxem.github.io/img/King_County_House_Prediction_files/boxplot.png"
   ]
  },
  {
   "cell_type": "code",
   "execution_count": 20,
   "metadata": {
    "_cell_guid": "b1a34fe9-9083-6352-fc93-5da9650eb9e3"
   },
   "outputs": [
    {
     "data": {
      "image/png": "[encoded data removed]",
      "text/plain": [
       "<Figure size 864x288 with 1 Axes>"
      ]
     },
     "metadata": {},
     "output_type": "display_data"
    }
   ],
   "source": [
    "fig, ax = plt.subplots(figsize=(12,4))\n",
    "sns.boxplot(x = 'price', data = data, orient = 'h', width = 0.8, \n",
    "                 fliersize = 3, showmeans=True, ax = ax)\n",
    "plt.show()"
   ]
  },
  {
   "cell_type": "markdown",
   "metadata": {
    "_cell_guid": "76f81f25-cee2-0e31-db2d-f9cd65a79e58"
   },
   "source": [
    "There seems to be a lot of outliers at the top of the distribution, with a few houses above the 5000000`$`  value. If we ignore outliers, the range is illustrated by the distance between the opposite ends of the whiskers (1.5 IQR) - about 1000000`$` here.\n",
    "Also, we can see that the right whisker is slightly longer than the left whisker and that the median line is gravitating towards the left of the box. The distribution is therefore slightly skewed to the right.\n",
    "\n",
    "## 4. Associations and Correlations between Variables\n",
    "\n",
    "Let's analyze now the relationship between the independent variables available in the dataset and the dependent variable that we are trying to predict (i.e., price).\n",
    "These analysis should provide some interesting insights for our regression models. \n",
    "\n",
    "We'll be using scatterplots and correlations coefficients (e.g., Pearson, Spearman) to explore potential associations between the variables.\n",
    "\n",
    "### 4.1 Continuous Variables\n",
    "\n",
    "For example, let's analyze the relationship between the square footage of a house (sqft_living) and its selling price. Since the two variables are measured on a continuous scale, we can use Pearson's coefficient r to measures the strength and direction of the relationship."
   ]
  },
  {
   "cell_type": "code",
   "execution_count": 21,
   "metadata": {
    "_cell_guid": "0c97e787-980e-b54c-aeb9-d30abe3a1cfc"
   },
   "outputs": [
    {
     "data": {
      "image/png": "[encoded data removed]",
      "text/plain": [
       "<Figure size 504x504 with 3 Axes>"
      ]
     },
     "metadata": {},
     "output_type": "display_data"
    }
   ],
   "source": [
    "# A joint plot is used to visualize the bivariate distribution\n",
    "sns.jointplot(x=\"sqft_living\", y=\"price\", data=data, kind = 'reg', size = 7)\n",
    "plt.show()"
   ]
  },
  {
   "cell_type": "markdown",
   "metadata": {
    "_cell_guid": "b19cec98-5e1e-b076-b8d2-5d449fa9a75b"
   },
   "source": [
    "There is a clear linear association between the variables (r = 0.7), indicating a strong positive relationship. sqft_living should be a good predicator of house price.\n",
    "(note: sqft_living distribution is also skewed to the right)\n",
    "\n",
    "Let's do the same with the 7 remaining continuous variables:\n",
    "\n",
    "* sqft_lot \n",
    "* sqft_above (i.e., sqft_above = sqft_living - sqft_basement)\n",
    "* sqft_basement\n",
    "* sqft_living15, the average house square footage of the 15 closest neighbours\n",
    "* sqft_lot15, the average lot square footage of the 15 closest neighbours\n",
    "* yr_built\n",
    "* yr_renovated\n",
    "* lat\n",
    "* long"
   ]
  },
  {
   "cell_type": "code",
   "execution_count": 14,
   "metadata": {
    "_cell_guid": "b49c42f4-83c4-11a8-0912-afb4b4390155"
   },
   "outputs": [],
   "source": [
    "%%javascript\n",
    "IPython.OutputArea.auto_scroll_threshold = 9999;\n",
    "//First, a simple command to increase the maximum size of the output cells in the notebook"
   ]
  },
  {
   "cell_type": "code",
   "execution_count": 15,
   "metadata": {
    "_cell_guid": "0ceadfd0-34de-7d92-f093-7c5d527923d4"
   },
   "outputs": [],
   "source": [
    "sns.jointplot(x=\"sqft_lot\", y=\"price\", data=data, kind = 'reg', size = 5)\n",
    "sns.jointplot(x=\"sqft_above\", y=\"price\", data=data, kind = 'reg', size = 5)\n",
    "sns.jointplot(x=\"sqft_basement\", y=\"price\", data=data, kind = 'reg', size = 5)\n",
    "sns.jointplot(x=\"sqft_living15\", y=\"price\", data=data, kind = 'reg', size = 5)\n",
    "sns.jointplot(x=\"sqft_lot15\", y=\"price\", data=data, kind = 'reg', size = 5)\n",
    "sns.jointplot(x=\"yr_built\", y=\"price\", data=data, kind = 'reg', size = 5)\n",
    "sns.jointplot(x=\"yr_renovated\", y=\"price\", data=data, kind = 'reg', size = 5)\n",
    "sns.jointplot(x=\"lat\", y=\"price\", data=data, kind = 'reg', size = 5)\n",
    "sns.jointplot(x=\"long\", y=\"price\", data=data, kind = 'reg', size = 5)\n",
    "plt.show()"
   ]
  },
  {
   "cell_type": "markdown",
   "metadata": {
    "_cell_guid": "7f45dd21-d1f9-8fb9-6611-7d5b758d222e"
   },
   "source": [
    "sqft_lot, sqft_lot15 and yr_built seem to be poorly related to price. \n",
    "\n",
    "We can see that there is a lot of zeros in the sqft_basement distribution (i.e., no basement). Similarly, there is a lot of zeros in the yr_renovated variable.\n",
    "\n",
    "Let's rerun the association tests for these two variables without the zeros."
   ]
  },
  {
   "cell_type": "code",
   "execution_count": 16,
   "metadata": {
    "_cell_guid": "1bf80e55-06c8-2b3e-2f08-c86db5e2f7e7"
   },
   "outputs": [],
   "source": [
    "# Create 2 new columns for the analysis \n",
    "data['sqft_basement2'] = data['sqft_basement'].apply(lambda x: x if x > 0 else None)\n",
    "data['yr_renovated2'] = data['yr_renovated'].apply(lambda x: x if x > 0 else None)\n",
    "\n",
    "# Show the new plots with paerson correlation\n",
    "sns.jointplot(x=\"sqft_basement2\", y=\"price\", data=data, kind = 'reg', dropna=True, size = 5)\n",
    "sns.jointplot(x=\"yr_renovated2\", y=\"price\", data=data, kind = 'reg', dropna=True, size = 5)\n",
    "plt.show()"
   ]
  },
  {
   "cell_type": "markdown",
   "metadata": {
    "_cell_guid": "331345eb-511d-09e7-ad0f-08c51892d98f"
   },
   "source": [
    "The house price is moderately correlated with the size of the basement (if basement present). There is also a small correlation with the year of the renovation (if renovated).\n",
    "\n",
    "It might be more interesting for our analysis to classify basement and renovation as dichotomous variables (e.g., 0 for no basement, 1 for basement present). Let's create two new columns in our dataset."
   ]
  },
  {
   "cell_type": "code",
   "execution_count": 17,
   "metadata": {
    "_cell_guid": "ac0fd0d8-aec4-a2cf-eb22-cfbdbecd6853"
   },
   "outputs": [],
   "source": [
    "data['basement_present'] = data['sqft_basement'].apply(lambda x: 1 if x > 0 else 0)\n",
    "data['basement_present'] = data['basement_present'].astype('category', ordered = False)\n",
    "\n",
    "data['renovated'] = data['yr_renovated'].apply(lambda x: 1 if x > 0 else 0)\n",
    "data['renovated'] = data['renovated'].astype('category', ordered = False)"
   ]
  },
  {
   "cell_type": "markdown",
   "metadata": {
    "_cell_guid": "13ec8ff3-b979-8911-5894-2332de74d79f"
   },
   "source": [
    "We will analyse these new variables as categorical (see in few cells below).\n",
    "\n",
    "But first, let's go back to the plots above and the two variables: sqft_above and sqft_living15. They seem to be strongly related to price. Let's analyse their associations (along with sqft_living) using the pairgrid() function from seaborn. This function creates a matrix of axes and shows the relationship for each pair of the selected variables. \n",
    "\n",
    "We will draw the univariate distribution of each variable on the diagonal Axes, and the bivariate distributions using scatterplots on the upper diagonal and kernel density estimation on the lower diagonal. We will create a function to display the paerson coefficient of each pair. "
   ]
  },
  {
   "cell_type": "code",
   "execution_count": 18,
   "metadata": {
    "_cell_guid": "efc4a54c-2498-d430-f863-f683e489f7ff"
   },
   "outputs": [],
   "source": [
    "# define a function to display pearson coefficients on the lower graphs \n",
    "def corrfunc(x, y, **kws):\n",
    "    r, _ = stats.pearsonr(x, y)\n",
    "    ax = plt.gca()\n",
    "    ax.annotate(\"pearsonr = {:.2f}\".format(r),\n",
    "                xy=(.1, .9), xycoords=ax.transAxes)\n",
    "\n",
    "g = sns.PairGrid(data, vars = ['sqft_living', 'sqft_living15', 'sqft_above'], size = 3.5) # define the pairgrid\n",
    "g.map_upper(plt.scatter) \n",
    "g.map_diag(sns.distplot)\n",
    "g.map_lower(sns.kdeplot, cmap=\"Blues_d\")\n",
    "g.map_lower(corrfunc)\n",
    "plt.show()"
   ]
  },
  {
   "cell_type": "markdown",
   "metadata": {
    "_cell_guid": "713441e9-ce25-513f-40c5-06138e1ec1fb"
   },
   "source": [
    "As envisaged, there is a strong positive relationship between the 3 variables (r>0.7). It was kind of obvious for sqft_above which is equal to sqft_livng - sqft_basement. So we know that they both have an impact on price. \n",
    "\n",
    "For sqft_living15 however, we are not sure if the relationship with house price is actually due to the average square footage of the 15th closest houses. This is because of the high correlation between sqft_living15 and sqft_living.\n",
    "\n",
    "To assess the true relationship between price and sqft_living15, we can use the Pearson Partial Correlation test. The correlation can assess the association between two continuous variables whilst controlling for the effect of other continuous variables called covariates. In our example, we will test the relationship between price and sqft_living15 using sqft_living as covariate."
   ]
  },
  {
   "cell_type": "code",
   "execution_count": 19,
   "metadata": {
    "_cell_guid": "c969b479-c3a2-78da-a7d5-65f310c24039"
   },
   "outputs": [],
   "source": [
    "# a Function to returns the sample linear partial correlation coefficients between pairs of variables in C, controlling \n",
    "# for the remaining variables in C (clone of Matlab's partialcorr). \n",
    "def partial_corr(C):\n",
    "    C = np.asarray(C)\n",
    "    p = C.shape[1]\n",
    "    P_corr = np.zeros((p, p), dtype=np.float)\n",
    "    for i in range(p):\n",
    "        P_corr[i, i] = 1\n",
    "        for j in range(i+1, p):\n",
    "            idx = np.ones(p, dtype=np.bool)\n",
    "            idx[i] = False\n",
    "            idx[j] = False\n",
    "            beta_i = linalg.lstsq(C[:, idx], C[:, j])[0]\n",
    "            beta_j = linalg.lstsq(C[:, idx], C[:, i])[0]\n",
    "            res_j = C[:, j] - C[:, idx].dot( beta_i)\n",
    "            res_i = C[:, i] - C[:, idx].dot(beta_j)            \n",
    "            corr = stats.pearsonr(res_i, res_j)[0]\n",
    "            P_corr[i, j] = corr\n",
    "            P_corr[j, i] = corr\n",
    "    return P_corr\n",
    "\n",
    "# Convert pandas dataframe to a numpy array using only three columns\n",
    "partial_corr_array = data.as_matrix(columns = ['price', 'sqft_living', 'sqft_living15'])\n",
    "\n",
    "# Calculate the partial correlation coefficients\n",
    "partial_corr(partial_corr_array)"
   ]
  },
  {
   "cell_type": "markdown",
   "metadata": {
    "_cell_guid": "c98b9d20-1636-d6e0-64b2-6c505c7c2493"
   },
   "source": [
    "We can see now that the average house size of the surrounding\n",
    " houses has no effect on the sell price when controlling for the size of the house (r = 0.06). \n",
    "\n",
    "### 4.2 Categorical Variables\n",
    "\n",
    "Let's now analyze the relationship between house price and the categorical variables.\n",
    "\n",
    "As a first example, we will try to assess if having a waterfront is related to a higher house value. waterfront is a dichotomous variable with underlying continuous distribution (having a waterfront is better that not having a waterfront). We can use a point-biserial correlation coefficient to highlight the relationship between the two variables. "
   ]
  },
  {
   "cell_type": "code",
   "execution_count": 22,
   "metadata": {
    "_cell_guid": "504bf137-81cb-06eb-a94d-2947347efc22"
   },
   "outputs": [
    {
     "data": {
      "image/png": "[encoded data removed]",
      "text/plain": [
       "<Figure size 864x288 with 1 Axes>"
      ]
     },
     "metadata": {},
     "output_type": "display_data"
    },
    {
     "name": "stdout",
     "output_type": "stream",
     "text": [
      "point biserial correlation r is 0.26636943403060215 with p = 0.0\n"
     ]
    }
   ],
   "source": [
    "# Let's show boxplots first\n",
    "fig, ax = plt.subplots(figsize=(12,4))\n",
    "sns.boxplot(y = 'waterfront', x = 'price', data = data,width = 0.8,orient = 'h', showmeans = True, fliersize = 3, ax = ax)\n",
    "plt.show()\n",
    "\n",
    "# Calculate the correlation coefficient\n",
    "r, p = stats.pointbiserialr(data['waterfront'], data['price'])\n",
    "print ('point biserial correlation r is %s with p = %s' %(r,p))"
   ]
  },
  {
   "cell_type": "markdown",
   "metadata": {
    "_cell_guid": "5520809d-adec-ccf4-dcbb-e2f04ef278a2"
   },
   "source": [
    "Comments: \n",
    "\n",
    "* The no waterfront box plot is comparatively short. This suggests that overall, house prices in this group are very close to each other. \n",
    "* The waterfront box plot is comparatively tall. This suggests that house prices differ greatly in this group.\n",
    "* There is obvious shape differences between the two distributions, suggesting a higher sell price, in general, for houses with a waterfront. This is validated by a positive value of the point-biserial correlation.\n",
    "* The correlation if however small (r<0.3). Note that we haven't test here the 3 main assumptions of the point-biserial correlation and can't rely too much on the result (1: There should be no significant outliers in the two groups of the dichotomous variable in terms of the continuous variable, 2: There should be homogeneity of variances, 3: The continuous variable should be approximately normally distributed for each group of the dichotomous variable).  \n",
    "\n",
    "We can run the same test on the basement_present variable and whether or not the house had been renovated in the past."
   ]
  },
  {
   "cell_type": "code",
   "execution_count": 23,
   "metadata": {
    "_cell_guid": "abecaa5d-1949-77fb-d9e3-1303ef343981"
   },
   "outputs": [
    {
     "ename": "ValueError",
     "evalue": "Could not interpret input 'basement_present'",
     "output_type": "error",
     "traceback": [
      "\u001b[1;31m---------------------------------------------------------------------------\u001b[0m",
      "\u001b[1;31mValueError\u001b[0m                                Traceback (most recent call last)",
      "\u001b[1;32m<ipython-input-23-c6edcf92491a>\u001b[0m in \u001b[0;36m<module>\u001b[1;34m\u001b[0m\n\u001b[0;32m      1\u001b[0m \u001b[1;31m# basement_present variable\u001b[0m\u001b[1;33m\u001b[0m\u001b[1;33m\u001b[0m\u001b[1;33m\u001b[0m\u001b[0m\n\u001b[0;32m      2\u001b[0m \u001b[0mfig\u001b[0m\u001b[1;33m,\u001b[0m \u001b[0max\u001b[0m \u001b[1;33m=\u001b[0m \u001b[0mplt\u001b[0m\u001b[1;33m.\u001b[0m\u001b[0msubplots\u001b[0m\u001b[1;33m(\u001b[0m\u001b[0mfigsize\u001b[0m\u001b[1;33m=\u001b[0m\u001b[1;33m(\u001b[0m\u001b[1;36m12\u001b[0m\u001b[1;33m,\u001b[0m\u001b[1;36m4\u001b[0m\u001b[1;33m)\u001b[0m\u001b[1;33m)\u001b[0m\u001b[1;33m\u001b[0m\u001b[1;33m\u001b[0m\u001b[0m\n\u001b[1;32m----> 3\u001b[1;33m \u001b[0msns\u001b[0m\u001b[1;33m.\u001b[0m\u001b[0mboxplot\u001b[0m\u001b[1;33m(\u001b[0m\u001b[0my\u001b[0m \u001b[1;33m=\u001b[0m \u001b[1;34m'basement_present'\u001b[0m\u001b[1;33m,\u001b[0m \u001b[0mx\u001b[0m \u001b[1;33m=\u001b[0m \u001b[1;34m'price'\u001b[0m\u001b[1;33m,\u001b[0m \u001b[0mdata\u001b[0m \u001b[1;33m=\u001b[0m \u001b[0mdata\u001b[0m\u001b[1;33m,\u001b[0m\u001b[0mwidth\u001b[0m \u001b[1;33m=\u001b[0m \u001b[1;36m0.8\u001b[0m\u001b[1;33m,\u001b[0m\u001b[0morient\u001b[0m \u001b[1;33m=\u001b[0m \u001b[1;34m'h'\u001b[0m\u001b[1;33m,\u001b[0m \u001b[0mshowmeans\u001b[0m \u001b[1;33m=\u001b[0m \u001b[1;32mTrue\u001b[0m\u001b[1;33m,\u001b[0m \u001b[0mfliersize\u001b[0m \u001b[1;33m=\u001b[0m \u001b[1;36m3\u001b[0m\u001b[1;33m,\u001b[0m \u001b[0max\u001b[0m \u001b[1;33m=\u001b[0m \u001b[0max\u001b[0m\u001b[1;33m)\u001b[0m\u001b[1;33m\u001b[0m\u001b[1;33m\u001b[0m\u001b[0m\n\u001b[0m\u001b[0;32m      4\u001b[0m \u001b[0mplt\u001b[0m\u001b[1;33m.\u001b[0m\u001b[0mshow\u001b[0m\u001b[1;33m(\u001b[0m\u001b[1;33m)\u001b[0m\u001b[1;33m\u001b[0m\u001b[1;33m\u001b[0m\u001b[0m\n\u001b[0;32m      5\u001b[0m \u001b[0mr\u001b[0m\u001b[1;33m,\u001b[0m \u001b[0mp\u001b[0m \u001b[1;33m=\u001b[0m \u001b[0mstats\u001b[0m\u001b[1;33m.\u001b[0m\u001b[0mpointbiserialr\u001b[0m\u001b[1;33m(\u001b[0m\u001b[0mdata\u001b[0m\u001b[1;33m[\u001b[0m\u001b[1;34m'basement_present'\u001b[0m\u001b[1;33m]\u001b[0m\u001b[1;33m,\u001b[0m \u001b[0mdata\u001b[0m\u001b[1;33m[\u001b[0m\u001b[1;34m'price'\u001b[0m\u001b[1;33m]\u001b[0m\u001b[1;33m)\u001b[0m\u001b[1;33m\u001b[0m\u001b[1;33m\u001b[0m\u001b[0m\n",
      "\u001b[1;32m~\\Anaconda3\\lib\\site-packages\\seaborn\\categorical.py\u001b[0m in \u001b[0;36mboxplot\u001b[1;34m(x, y, hue, data, order, hue_order, orient, color, palette, saturation, width, dodge, fliersize, linewidth, whis, notch, ax, **kwargs)\u001b[0m\n\u001b[0;32m   2229\u001b[0m     plotter = _BoxPlotter(x, y, hue, data, order, hue_order,\n\u001b[0;32m   2230\u001b[0m                           \u001b[0morient\u001b[0m\u001b[1;33m,\u001b[0m \u001b[0mcolor\u001b[0m\u001b[1;33m,\u001b[0m \u001b[0mpalette\u001b[0m\u001b[1;33m,\u001b[0m \u001b[0msaturation\u001b[0m\u001b[1;33m,\u001b[0m\u001b[1;33m\u001b[0m\u001b[1;33m\u001b[0m\u001b[0m\n\u001b[1;32m-> 2231\u001b[1;33m                           width, dodge, fliersize, linewidth)\n\u001b[0m\u001b[0;32m   2232\u001b[0m \u001b[1;33m\u001b[0m\u001b[0m\n\u001b[0;32m   2233\u001b[0m     \u001b[1;32mif\u001b[0m \u001b[0max\u001b[0m \u001b[1;32mis\u001b[0m \u001b[1;32mNone\u001b[0m\u001b[1;33m:\u001b[0m\u001b[1;33m\u001b[0m\u001b[1;33m\u001b[0m\u001b[0m\n",
      "\u001b[1;32m~\\Anaconda3\\lib\\site-packages\\seaborn\\categorical.py\u001b[0m in \u001b[0;36m__init__\u001b[1;34m(self, x, y, hue, data, order, hue_order, orient, color, palette, saturation, width, dodge, fliersize, linewidth)\u001b[0m\n\u001b[0;32m    444\u001b[0m                  width, dodge, fliersize, linewidth):\n\u001b[0;32m    445\u001b[0m \u001b[1;33m\u001b[0m\u001b[0m\n\u001b[1;32m--> 446\u001b[1;33m         \u001b[0mself\u001b[0m\u001b[1;33m.\u001b[0m\u001b[0mestablish_variables\u001b[0m\u001b[1;33m(\u001b[0m\u001b[0mx\u001b[0m\u001b[1;33m,\u001b[0m \u001b[0my\u001b[0m\u001b[1;33m,\u001b[0m \u001b[0mhue\u001b[0m\u001b[1;33m,\u001b[0m \u001b[0mdata\u001b[0m\u001b[1;33m,\u001b[0m \u001b[0morient\u001b[0m\u001b[1;33m,\u001b[0m \u001b[0morder\u001b[0m\u001b[1;33m,\u001b[0m \u001b[0mhue_order\u001b[0m\u001b[1;33m)\u001b[0m\u001b[1;33m\u001b[0m\u001b[1;33m\u001b[0m\u001b[0m\n\u001b[0m\u001b[0;32m    447\u001b[0m         \u001b[0mself\u001b[0m\u001b[1;33m.\u001b[0m\u001b[0mestablish_colors\u001b[0m\u001b[1;33m(\u001b[0m\u001b[0mcolor\u001b[0m\u001b[1;33m,\u001b[0m \u001b[0mpalette\u001b[0m\u001b[1;33m,\u001b[0m \u001b[0msaturation\u001b[0m\u001b[1;33m)\u001b[0m\u001b[1;33m\u001b[0m\u001b[1;33m\u001b[0m\u001b[0m\n\u001b[0;32m    448\u001b[0m \u001b[1;33m\u001b[0m\u001b[0m\n",
      "\u001b[1;32m~\\Anaconda3\\lib\\site-packages\\seaborn\\categorical.py\u001b[0m in \u001b[0;36mestablish_variables\u001b[1;34m(self, x, y, hue, data, orient, order, hue_order, units)\u001b[0m\n\u001b[0;32m    153\u001b[0m                 \u001b[1;32mif\u001b[0m \u001b[0misinstance\u001b[0m\u001b[1;33m(\u001b[0m\u001b[0minput\u001b[0m\u001b[1;33m,\u001b[0m \u001b[0mstring_types\u001b[0m\u001b[1;33m)\u001b[0m\u001b[1;33m:\u001b[0m\u001b[1;33m\u001b[0m\u001b[1;33m\u001b[0m\u001b[0m\n\u001b[0;32m    154\u001b[0m                     \u001b[0merr\u001b[0m \u001b[1;33m=\u001b[0m \u001b[1;34m\"Could not interpret input '{}'\"\u001b[0m\u001b[1;33m.\u001b[0m\u001b[0mformat\u001b[0m\u001b[1;33m(\u001b[0m\u001b[0minput\u001b[0m\u001b[1;33m)\u001b[0m\u001b[1;33m\u001b[0m\u001b[1;33m\u001b[0m\u001b[0m\n\u001b[1;32m--> 155\u001b[1;33m                     \u001b[1;32mraise\u001b[0m \u001b[0mValueError\u001b[0m\u001b[1;33m(\u001b[0m\u001b[0merr\u001b[0m\u001b[1;33m)\u001b[0m\u001b[1;33m\u001b[0m\u001b[1;33m\u001b[0m\u001b[0m\n\u001b[0m\u001b[0;32m    156\u001b[0m \u001b[1;33m\u001b[0m\u001b[0m\n\u001b[0;32m    157\u001b[0m             \u001b[1;31m# Figure out the plotting orientation\u001b[0m\u001b[1;33m\u001b[0m\u001b[1;33m\u001b[0m\u001b[1;33m\u001b[0m\u001b[0m\n",
      "\u001b[1;31mValueError\u001b[0m: Could not interpret input 'basement_present'"
     ]
    },
    {
     "data": {
      "image/png": "[encoded data removed]",
      "text/plain": [
       "<Figure size 864x288 with 1 Axes>"
      ]
     },
     "metadata": {},
     "output_type": "display_data"
    }
   ],
   "source": [
    "# basement_present variable\n",
    "fig, ax = plt.subplots(figsize=(12,4))\n",
    "sns.boxplot(y = 'basement_present', x = 'price', data = data,width = 0.8,orient = 'h', showmeans = True, fliersize = 3, ax = ax)\n",
    "plt.show()\n",
    "r, p = stats.pointbiserialr(data['basement_present'], data['price'])\n",
    "print ('point biserial correlation r between price and basement_present is %s with p = %s' %(r,p))\n",
    "\n",
    "# renovated variable\n",
    "fig, ax = plt.subplots(figsize=(12,4))\n",
    "sns.boxplot(y = 'renovated', x = 'price', data = data,width = 0.8,orient = 'h', showmeans = True, fliersize = 3, ax = ax)\n",
    "print ('')\n",
    "plt.show()\n",
    "r, p = stats.pointbiserialr(data['renovated'], data['price'])\n",
    "print ('point biserial correlation r between price and renovated is %s with p = %s' %(r,p))"
   ]
  },
  {
   "cell_type": "markdown",
   "metadata": {
    "_cell_guid": "4a0eb56a-6bac-093f-4c8e-542b48776526"
   },
   "source": [
    "Associations exist but they are fairly small (0.1 < r < 0.3). \n",
    "\n",
    "Let's move on to our ordinal variables and asses their association with house price. We will show the distribution of the categories of each variable using boxplots.  "
   ]
  },
  {
   "cell_type": "code",
   "execution_count": 22,
   "metadata": {
    "_cell_guid": "6e84b35a-1a54-d8b7-d439-03eb940ca9a6"
   },
   "outputs": [],
   "source": [
    "fig, axarr = plt.subplots(6, figsize=(12,40))\n",
    "sns.boxplot(y = 'bedrooms', x = 'price', data = data,width = 0.8,orient = 'h', showmeans = True, fliersize = 3, ax = axarr[0])\n",
    "sns.boxplot(y = 'bathrooms', x = 'price', data = data,width = 0.8,orient = 'h', showmeans = True, fliersize = 3, ax = axarr[1])\n",
    "sns.boxplot(y = 'floors', x = 'price', data = data,width = 0.8,orient = 'h', showmeans = True, fliersize = 3, ax = axarr[2])\n",
    "sns.boxplot(y = 'view', x = 'price', data = data,width = 0.8,orient = 'h', showmeans = True, fliersize = 3, ax = axarr[3])\n",
    "sns.boxplot(y = 'condition', x = 'price', data = data,width = 0.8,orient = 'h', showmeans = True, fliersize = 3, ax = axarr[4])\n",
    "sns.boxplot(y = 'grade', x = 'price', data = data,width = 0.8,orient = 'h', showmeans = True, fliersize = 3, ax = axarr[5])\n",
    "plt.show()"
   ]
  },
  {
   "cell_type": "markdown",
   "metadata": {
    "_cell_guid": "49f72411-db5b-b615-d65e-7d88e8286786"
   },
   "source": [
    "As expected, they all seem to be related to the house price.\n",
    "\n",
    "We can use the Spearman's rank-order correlation to measure the strength and direction of the relationships between house price and these variables."
   ]
  },
  {
   "cell_type": "code",
   "execution_count": 23,
   "metadata": {
    "_cell_guid": "eb2ba64b-cd50-9086-5f00-f07dc09efd7f"
   },
   "outputs": [],
   "source": [
    "r, p = stats.spearmanr(data['bedrooms'], data['price'])\n",
    "print ('spearman correlation r between price and bedrooms is %s with p = %s' %(r,p))\n",
    "r, p = stats.spearmanr(data['bathrooms'], data['price'])\n",
    "print ('spearman correlation r between price and bathrooms is %s with p = %s' %(r,p))\n",
    "r, p = stats.spearmanr(data['floors'], data['price'])\n",
    "print ('spearman correlation r between price and floors is %s with p = %s' %(r,p))\n",
    "r, p = stats.spearmanr(data['view'], data['price'])\n",
    "print ('spearman correlation r between price and view is %s with p = %s' %(r,p))\n",
    "r, p = stats.spearmanr(data['condition'], data['price'])\n",
    "print ('spearman correlation r between price and condition is %s with p = %s' %(r,p))\n",
    "r, p = stats.spearmanr(data['grade'], data['price'])\n",
    "print ('spearman correlation r between price and grade is %s with p = %s' %(r,p))"
   ]
  },
  {
   "cell_type": "markdown",
   "metadata": {
    "_cell_guid": "c133f524-aa1c-94c9-449a-5318d572e5f9"
   },
   "source": [
    "There is indeed associations between these variables and the house price (except for condition). grade seems to be the best indicator.\n",
    "\n",
    "## Conclusion\n",
    "\n",
    "In this post, we analyzed the relationship between the output variable (house price) and the dependent variables in our dataset. \n",
    "\n",
    "More specifically, we highlighted that:\n",
    "\n",
    "* sqft_living, sqft_above and sqft_basement were moderately/strongly associated with price. Paerson r was equal to 0.70, 0.61 and 0.41, respectively. The 3 variables were also strongly related to each other as sqft_living = sqft_above and sqft_basement.\n",
    "* sqft_living15, the average house square footage of the 15 closest neighbors, was also strongly related to price (r = 0.59) . However, when controlling for sqft_living, the relationship disappeared ($r = 0.06$).\n",
    "* sqft_lot, sqft_lot15 (average lot size of the 15 closest houses) and *yr_built* were poorly related to price.\n",
    "* The three dichotomous variables (waterfront, basement_present, renovated) were associated with price. The associations were small (r < 0.3)\n",
    "* Five of the ordinal parameters (bedrooms, bathrooms, floors, views, grade) were also moderately to strongly associated with price.\n",
    "\n",
    "Our multiple regression analysis models in Part 2 will be built on these results."
   ]
  },
  {
   "cell_type": "code",
   "execution_count": 24,
   "metadata": {
    "_cell_guid": "eaf103b9-e702-7045-4134-68a354e51581"
   },
   "outputs": [],
   "source": []
  }
 ],
 "metadata": {
  "_change_revision": 1,
  "_is_fork": false,
  "kernelspec": {
   "display_name": "Python 3",
   "language": "python",
   "name": "python3"
  },
  "language_info": {
   "codemirror_mode": {
    "name": "ipython",
    "version": 3
   },
   "file_extension": ".py",
   "mimetype": "text/x-python",
   "name": "python",
   "nbconvert_exporter": "python",
   "pygments_lexer": "ipython3",
   "version": "3.6.6"
  }
 },
 "nbformat": 4,
 "nbformat_minor": 1
}
