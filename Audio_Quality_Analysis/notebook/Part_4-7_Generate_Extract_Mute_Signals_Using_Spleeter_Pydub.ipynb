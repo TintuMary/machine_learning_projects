{
 "cells": [
  {
   "cell_type": "code",
   "execution_count": 10,
   "metadata": {},
   "outputs": [],
   "source": [
    "from pydub import AudioSegment\n",
    "from pydub.silence import  detect_nonsilent\n",
    "from pydub.silence import split_on_silence\n",
    "from pydub.silence import detect_silence\n",
    "import subprocess\n",
    "import datetime\n",
    "import os\n",
    "from os import path"
   ]
  },
  {
   "cell_type": "code",
   "execution_count": 3,
   "metadata": {},
   "outputs": [],
   "source": [
    "def extractVocalSignals(file, output_dir):\n",
    "    extract_sound_cmd = [\n",
    "         'spleeter',\n",
    "         'separate',  # overwrite if exists\n",
    "         '-i', file,  # input\n",
    "         '-p', 'spleeter:2stems',  # convert to mono\n",
    "        '-d', '600',\n",
    "        '-o', output_dir\n",
    "     ]\n",
    "    output = subprocess.call(extract_sound_cmd)\n",
    "    print('output: ', output)"
   ]
  },
  {
   "cell_type": "code",
   "execution_count": 6,
   "metadata": {},
   "outputs": [
    {
     "name": "stdout",
     "output_type": "stream",
     "text": [
      "output:  0\n"
     ]
    }
   ],
   "source": [
    "input_video_fie_name = 'AlltheBrightPlaces.mp4'\n",
    "spleeter_output_dir = 'spleeter_output'\n",
    "extractVocalSignals(input_video_fie_name, spleeter_output_dir)"
   ]
  },
  {
   "cell_type": "code",
   "execution_count": 7,
   "metadata": {},
   "outputs": [
    {
     "name": "stdout",
     "output_type": "stream",
     "text": [
      "sample_width= 2\n",
      "channel_count= 2\n",
      "duration_in_sec= 161.054\n",
      "frame_rate= 44100\n",
      "lenght : 161054\n"
     ]
    }
   ],
   "source": [
    "vocal_wav_file = spleeter_output_dir + '/' + input_video_fie_name.split('.')[0] + '/vocals.wav'\n",
    "\n",
    "audio_signal = AudioSegment.from_file(vocal_wav_file, \"wav\")\n",
    "\n",
    "silent_ranges = detect_silence(audio_signal, min_silence_len=1000, silence_thresh=-33)\n",
    "index = 0;\n",
    "for silence_range in silent_ranges:\n",
    "    split_mute_output_file_name = spleeter_output_dir + '/' + input_video_fie_name.split('.')[0] + '/muteSignals/'+ str(index) + '_mutesignal.wav'\n",
    "    index= index +1 \n",
    "    audio_signal_split = audio_signal[silence_range[0]: silence_range[1]]\n",
    "    audio_signal_split.export(split_mute_output_file_name, format=\"wav\")"
   ]
  }
 ],
 "metadata": {
  "kernelspec": {
   "display_name": "tensorFlowEnv",
   "language": "python",
   "name": "tensorflowenv"
  },
  "language_info": {
   "codemirror_mode": {
    "name": "ipython",
    "version": 3
   },
   "file_extension": ".py",
   "mimetype": "text/x-python",
   "name": "python",
   "nbconvert_exporter": "python",
   "pygments_lexer": "ipython3",
   "version": "3.7.6"
  }
 },
 "nbformat": 4,
 "nbformat_minor": 4
}
