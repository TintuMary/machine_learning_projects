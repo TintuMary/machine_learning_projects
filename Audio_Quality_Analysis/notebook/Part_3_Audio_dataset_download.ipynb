{
 "cells": [
  {
   "cell_type": "code",
   "execution_count": null,
   "metadata": {},
   "outputs": [],
   "source": [
    "'''\n",
    "This notebook demonstrate how to download various audio dataset from online repo.\n",
    "\n",
    "When we are talking about Audio Classificaiton, then there are couple of most popular Audio datasets present such as.\n",
    "A. Urban Audio Dataset - https://zenodo.org/record/1203745/files/UrbanSound8K.tar.gz\n",
    "B. Flicker Audio Dataset- (https://groups.csail.mit.edu/sls/downloads/flickraudio/downloads/flickr_audio.tar.gz)\n",
    "C. Music Instrument dataset - https://os.unil.cloud.switch.ch/fma/fma_small.zip\n",
    "D. Spear Dataset (mix of good and noise signals) - http://web.archive.org/web/20060831010952/http://cslu.ece.ogi.edu/nsel/data/SpEAR.tar.gz\n",
    "E. LibriSpeech ASR corpus (Vocal Recorded Meeting)\n",
    "'''\n"
   ]
  },
  {
   "cell_type": "code",
   "execution_count": null,
   "metadata": {},
   "outputs": [],
   "source": [
    "# For LibriSpeech ASR Corpus - data can be downloaded from http://www.openslr.org/12/"
   ]
  },
  {
   "cell_type": "code",
   "execution_count": null,
   "metadata": {},
   "outputs": [],
   "source": [
    "# Urban Audio Dataset\n",
    "import urllib.request\n",
    "import tarfile\n",
    "\n",
    "urllib.request.urlretrieve (\"https://zenodo.org/record/1203745/files/UrbanSound8K.tar.gz\",\"a.tar.gz\")\n",
    "tar = tarfile.open(\"a.tar.gz\")\n",
    "tar.extractall()\n",
    "tar.close()"
   ]
  },
  {
   "cell_type": "code",
   "execution_count": null,
   "metadata": {},
   "outputs": [],
   "source": [
    "# Music Instrument Dataset\n",
    "!wget https://os.unil.cloud.switch.ch/fma/fma_small.zip\n",
    "!unzip fma_small.zip"
   ]
  },
  {
   "cell_type": "code",
   "execution_count": null,
   "metadata": {},
   "outputs": [],
   "source": [
    "#Flicker Audio Dataset\n",
    "\n",
    "!wget https://groups.csail.mit.edu/sls/downloads/flickraudio/downloads/flickr_audio.tar.gz\n",
    "!gunzip -d flickr_audio.tar.gz\n",
    "!tar -xvf flickr_audio.tar"
   ]
  },
  {
   "cell_type": "code",
   "execution_count": null,
   "metadata": {},
   "outputs": [],
   "source": [
    "# Spear Dataset\n",
    "\n",
    "!wget http://web.archive.org/web/20060831010952/http://cslu.ece.ogi.edu/nsel/data/SpEAR.tar.gz\n",
    "!tar -xvf SpEAR.tar.gz"
   ]
  },
  {
   "cell_type": "code",
   "execution_count": null,
   "metadata": {},
   "outputs": [],
   "source": [
    "'''\n",
    "\n",
    "Other links such as\n",
    "#!%cd /content/\n",
    "#!wget https://ecs.utdallas.edu/loizou/speech/noizeus/train_10dB.zip\n",
    "#!wget https://ecs.utdallas.edu/loizou/speech/noizeus/babble_10dB.zip\n",
    "#!wget https://ecs.utdallas.edu/loizou/speech/noizeus/car_15dB.zip\n",
    "#!wget https://ecs.utdallas.edu/loizou/speech/noizeus/exhibition_10dB.zip\n",
    "#!wget https://ecs.utdallas.edu/loizou/speech/noizeus/restaurant_15dB.zip\n",
    "#!wget https://ecs.utdallas.edu/loizou/speech/noizeus/street_10dB.zip\n",
    "#!wget https://ecs.utdallas.edu/loizou/speech/noizeus/airport_15dB.zip\n",
    "#!wget https://ecs.utdallas.edu/loizou/speech/noizeus/station_10dB.zip\n",
    "\n",
    "#!wget https://datashare.is.ed.ac.uk/bitstream/handle/10283/2791/noisy_trainset_28spk_wav.zip?sequence=6&isAllowed=y\n",
    "#!unzip noisy_trainset_28spk_wav.zip?sequence=6&isAllowed=y\n",
    "'''\n"
   ]
  }
 ],
 "metadata": {
  "kernelspec": {
   "display_name": "Python 3",
   "language": "python",
   "name": "python3"
  },
  "language_info": {
   "codemirror_mode": {
    "name": "ipython",
    "version": 3
   },
   "file_extension": ".py",
   "mimetype": "text/x-python",
   "name": "python",
   "nbconvert_exporter": "python",
   "pygments_lexer": "ipython3",
   "version": "3.7.6"
  }
 },
 "nbformat": 4,
 "nbformat_minor": 4
}
