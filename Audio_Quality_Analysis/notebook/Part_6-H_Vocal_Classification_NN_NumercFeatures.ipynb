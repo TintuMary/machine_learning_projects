{
  "nbformat": 4,
  "nbformat_minor": 0,
  "metadata": {
    "colab": {
      "name": "Vocal_Classification_NN_NumercFeatures.ipynb",
      "provenance": [],
      "collapsed_sections": []
    },
    "kernelspec": {
      "name": "python3",
      "display_name": "Python 3"
    }
  },
  "cells": [
    {
      "cell_type": "code",
      "metadata": {
        "id": "oSmgCfaVxxmR",
        "colab_type": "code",
        "colab": {}
      },
      "source": [
        "!pip install librosa==0.7.2"
      ],
      "execution_count": 0,
      "outputs": []
    },
    {
      "cell_type": "code",
      "metadata": {
        "id": "iJpYvJWgzb_q",
        "colab_type": "code",
        "outputId": "ae5d1f5e-b9a6-4c1a-8035-748b970cb590",
        "colab": {
          "base_uri": "https://localhost:8080/",
          "height": 50
        }
      },
      "source": [
        "import IPython.display as ipd\n",
        "# % pylab inline\n",
        "import os\n",
        "import pandas as pd\n",
        "import librosa\n",
        "import glob \n",
        "import librosa.display\n",
        "import random\n",
        "\n",
        "from sklearn.preprocessing import StandardScaler\n",
        "from sklearn.model_selection import train_test_split\n",
        "\n",
        "from keras.utils.np_utils import to_categorical\n",
        "\n",
        "import numpy as np\n",
        "from keras.models import Sequential\n",
        "from keras.layers import Dense, Dropout, Activation, Flatten\n",
        "from keras.layers import Convolution2D, MaxPooling2D\n",
        "from keras.optimizers import Adam\n",
        "from keras.utils import np_utils\n",
        "from sklearn import metrics \n",
        "\n",
        "from sklearn.datasets import make_regression\n",
        "from sklearn.preprocessing import StandardScaler\n",
        "from sklearn import metrics\n",
        "from sklearn.model_selection import train_test_split, GridSearchCV\n",
        "\n",
        "from tensorflow.keras.models import Sequential\n",
        "from tensorflow.keras.layers import Dense, Dropout \n",
        "from tensorflow.keras.wrappers.scikit_learn import KerasRegressor\n",
        "\n",
        "from keras.callbacks import EarlyStopping\n",
        "\n",
        "from keras import regularizers\n",
        "\n",
        "from sklearn.preprocessing import LabelEncoder\n",
        "\n",
        "from datetime import datetime\n",
        "\n",
        "import os\n",
        "import librosa\n",
        "librosa.__version__"
      ],
      "execution_count": 0,
      "outputs": [
        {
          "output_type": "stream",
          "text": [
            "Using TensorFlow backend.\n"
          ],
          "name": "stderr"
        },
        {
          "output_type": "execute_result",
          "data": {
            "text/plain": [
              "'0.6.3'"
            ]
          },
          "metadata": {
            "tags": []
          },
          "execution_count": 1
        }
      ]
    },
    {
      "cell_type": "code",
      "metadata": {
        "id": "kdJLu69yz8XY",
        "colab_type": "code",
        "outputId": "9048bb7f-e4a1-45ca-d367-dea9f752d4ec",
        "colab": {
          "base_uri": "https://localhost:8080/",
          "height": 118
        }
      },
      "source": [
        "from google.colab import drive\n",
        "drive.mount('/content/drive', force_remount=True)"
      ],
      "execution_count": 0,
      "outputs": [
        {
          "output_type": "stream",
          "text": [
            "Go to this URL in a browser: https://accounts.google.com/o/oauth2/auth?client_id=947318989803-6bn6qk8qdgf4n4g3pfee6491hc0brc4i.apps.googleusercontent.com&redirect_uri=urn%3aietf%3awg%3aoauth%3a2.0%3aoob&response_type=code&scope=email%20https%3a%2f%2fwww.googleapis.com%2fauth%2fdocs.test%20https%3a%2f%2fwww.googleapis.com%2fauth%2fdrive%20https%3a%2f%2fwww.googleapis.com%2fauth%2fdrive.photos.readonly%20https%3a%2f%2fwww.googleapis.com%2fauth%2fpeopleapi.readonly\n",
            "\n",
            "Enter your authorization code:\n",
            "··········\n",
            "Mounted at /content/drive\n"
          ],
          "name": "stdout"
        }
      ]
    },
    {
      "cell_type": "code",
      "metadata": {
        "id": "6S2ghm100Cu0",
        "colab_type": "code",
        "outputId": "4c0e2752-c3a6-43bf-fcda-6fd736cc1d3e",
        "colab": {
          "base_uri": "https://localhost:8080/",
          "height": 82
        }
      },
      "source": [
        "full_vocal_X = np.load('/content/drive/My Drive/SubTitle_Synchronizer/data/vocal_mfcc_numeric_data/vocal_X.npy', allow_pickle=True)\n",
        "vocal_X = full_vocal_X[:4000]\n",
        "vocal_y = np.full((len(vocal_X)), '1')\n",
        "print('Vocal  len: ', len(vocal_X))\n",
        "\n",
        "full_non_vocal_X = np.load('/content/drive/My Drive/SubTitle_Synchronizer/data/vocal_mfcc_numeric_data/mute_noise_X_6K_0517.npy', allow_pickle=True)\n",
        "non_vocal_X = full_non_vocal_X[:4000]\n",
        "non_vocal_y = np.full((len(non_vocal_X)), '0')\n",
        "print('Non Vocal len: ', len(non_vocal_y))\n",
        "\n",
        "merge_X = np.concatenate((vocal_X, non_vocal_X), axis=0)\n",
        "final_y = np.concatenate((vocal_y, non_vocal_y ), axis=0)\n",
        "\n",
        "print(len(merge_X))\n",
        "print(len(final_y))"
      ],
      "execution_count": 0,
      "outputs": [
        {
          "output_type": "stream",
          "text": [
            "Vocal  len:  4000\n",
            "Non Vocal len:  4000\n",
            "8000\n",
            "8000\n"
          ],
          "name": "stdout"
        }
      ]
    },
    {
      "cell_type": "code",
      "metadata": {
        "id": "ZkQb9f3y4fxZ",
        "colab_type": "code",
        "colab": {}
      },
      "source": [
        "features = []\n",
        "for i in range(0, len(merge_X)):\n",
        "    features.append(np.concatenate((merge_X[i][0], merge_X[i][1], \n",
        "                merge_X[i][2], merge_X[i][3],\n",
        "                merge_X[i][4]), axis=0))\n",
        "    \n",
        "fianl_X = np.array(features)"
      ],
      "execution_count": 0,
      "outputs": []
    },
    {
      "cell_type": "code",
      "metadata": {
        "id": "NYgr2jvK6ATv",
        "colab_type": "code",
        "colab": {}
      },
      "source": [
        "import pickle\n",
        "lb = LabelEncoder()\n",
        "final_y = to_categorical(lb.fit_transform(final_y))\n",
        "with open('/content/drive/My Drive/SubTitle_Synchronizer/model/LE_05132020_v1.pkl', 'wb') as fid:\n",
        "    pickle.dump(lb, fid)"
      ],
      "execution_count": 0,
      "outputs": []
    },
    {
      "cell_type": "code",
      "metadata": {
        "id": "mtz7IfNN0xrI",
        "colab_type": "code",
        "outputId": "d1bda5c1-641e-4eba-bcbb-f15d8afb1174",
        "colab": {
          "base_uri": "https://localhost:8080/",
          "height": 50
        }
      },
      "source": [
        "from sklearn.model_selection import train_test_split \n",
        "\n",
        "X_train, X_test, y_train, y_test = train_test_split(fianl_X, final_y, test_size=0.2, random_state = 42)\n",
        "print(X_train.shape)\n",
        "print(X_test.shape)"
      ],
      "execution_count": 0,
      "outputs": [
        {
          "output_type": "stream",
          "text": [
            "(6400, 193)\n",
            "(1600, 193)\n"
          ],
          "name": "stdout"
        }
      ]
    },
    {
      "cell_type": "code",
      "metadata": {
        "id": "0xC170Ue0Dh1",
        "colab_type": "code",
        "colab": {}
      },
      "source": [
        "ss = StandardScaler()\n",
        "X_train = ss.fit_transform(X_train)\n",
        "X_test = ss.transform(X_test)\n",
        "\n",
        "with open('/content/drive/My Drive/SubTitle_Synchronizer/model/SS_05182020_v1.pkl', 'wb') as fid:\n",
        "    pickle.dump(ss, fid)"
      ],
      "execution_count": 0,
      "outputs": []
    },
    {
      "cell_type": "code",
      "metadata": {
        "id": "zYtM6wBZ1DBe",
        "colab_type": "code",
        "outputId": "031e19f2-b303-4333-ea3c-32304c6fc651",
        "colab": {
          "base_uri": "https://localhost:8080/",
          "height": 375
        }
      },
      "source": [
        "model = Sequential()\n",
        "\n",
        "model.add(Dense(193, input_shape=(193,), activation = 'relu'))\n",
        "model.add(Dropout(0.1))\n",
        "\n",
        "model.add(Dense(128, activation = 'relu'))\n",
        "model.add(Dropout(0.25))  \n",
        "\n",
        "model.add(Dense(128, activation = 'relu'))\n",
        "model.add(Dropout(0.5))    \n",
        "\n",
        "model.add(Dense(2, activation = 'softmax'))\n",
        "\n",
        "model.compile(loss='categorical_crossentropy', metrics=['accuracy'], optimizer='adam')\n",
        "model.summary()"
      ],
      "execution_count": 0,
      "outputs": [
        {
          "output_type": "stream",
          "text": [
            "Model: \"sequential\"\n",
            "_________________________________________________________________\n",
            "Layer (type)                 Output Shape              Param #   \n",
            "=================================================================\n",
            "dense (Dense)                (None, 193)               37442     \n",
            "_________________________________________________________________\n",
            "dropout (Dropout)            (None, 193)               0         \n",
            "_________________________________________________________________\n",
            "dense_1 (Dense)              (None, 128)               24832     \n",
            "_________________________________________________________________\n",
            "dropout_1 (Dropout)          (None, 128)               0         \n",
            "_________________________________________________________________\n",
            "dense_2 (Dense)              (None, 128)               16512     \n",
            "_________________________________________________________________\n",
            "dropout_2 (Dropout)          (None, 128)               0         \n",
            "_________________________________________________________________\n",
            "dense_3 (Dense)              (None, 2)                 258       \n",
            "=================================================================\n",
            "Total params: 79,044\n",
            "Trainable params: 79,044\n",
            "Non-trainable params: 0\n",
            "_________________________________________________________________\n"
          ],
          "name": "stdout"
        }
      ]
    },
    {
      "cell_type": "code",
      "metadata": {
        "id": "2ZvuKAi61IcF",
        "colab_type": "code",
        "outputId": "48760cb6-a00e-47cb-e790-423a331a5f86",
        "colab": {
          "base_uri": "https://localhost:8080/",
          "height": 667
        }
      },
      "source": [
        "#early_stop = EarlyStopping(monitor='val_loss', min_delta=0, patience=100, verbose=1, mode='auto')\n",
        "history = model.fit(X_train, y_train, batch_size=256, epochs=20, \n",
        "                    validation_data=(X_test, y_test))"
      ],
      "execution_count": 0,
      "outputs": [
        {
          "output_type": "stream",
          "text": [
            "Epoch 1/20\n",
            "25/25 [==============================] - 0s 15ms/step - loss: 0.2190 - accuracy: 0.9127 - val_loss: 0.0138 - val_accuracy: 0.9981\n",
            "Epoch 2/20\n",
            "25/25 [==============================] - 0s 7ms/step - loss: 0.0084 - accuracy: 0.9986 - val_loss: 7.2221e-04 - val_accuracy: 1.0000\n",
            "Epoch 3/20\n",
            "25/25 [==============================] - 0s 8ms/step - loss: 0.0024 - accuracy: 0.9992 - val_loss: 3.4714e-04 - val_accuracy: 1.0000\n",
            "Epoch 4/20\n",
            "25/25 [==============================] - 0s 7ms/step - loss: 0.0016 - accuracy: 0.9998 - val_loss: 4.4255e-04 - val_accuracy: 1.0000\n",
            "Epoch 5/20\n",
            "25/25 [==============================] - 0s 7ms/step - loss: 9.8820e-04 - accuracy: 0.9998 - val_loss: 2.1531e-04 - val_accuracy: 1.0000\n",
            "Epoch 6/20\n",
            "25/25 [==============================] - 0s 7ms/step - loss: 5.4479e-04 - accuracy: 1.0000 - val_loss: 8.7683e-05 - val_accuracy: 1.0000\n",
            "Epoch 7/20\n",
            "25/25 [==============================] - 0s 7ms/step - loss: 6.1814e-04 - accuracy: 0.9998 - val_loss: 8.4274e-05 - val_accuracy: 1.0000\n",
            "Epoch 8/20\n",
            "25/25 [==============================] - 0s 8ms/step - loss: 3.3163e-04 - accuracy: 1.0000 - val_loss: 8.8948e-05 - val_accuracy: 1.0000\n",
            "Epoch 9/20\n",
            "25/25 [==============================] - 0s 7ms/step - loss: 2.7879e-04 - accuracy: 1.0000 - val_loss: 9.7422e-05 - val_accuracy: 1.0000\n",
            "Epoch 10/20\n",
            "25/25 [==============================] - 0s 7ms/step - loss: 1.7515e-04 - accuracy: 1.0000 - val_loss: 1.1362e-04 - val_accuracy: 1.0000\n",
            "Epoch 11/20\n",
            "25/25 [==============================] - 0s 7ms/step - loss: 1.1997e-04 - accuracy: 1.0000 - val_loss: 1.2296e-04 - val_accuracy: 1.0000\n",
            "Epoch 12/20\n",
            "25/25 [==============================] - 0s 7ms/step - loss: 2.5403e-04 - accuracy: 0.9998 - val_loss: 1.0713e-04 - val_accuracy: 1.0000\n",
            "Epoch 13/20\n",
            "25/25 [==============================] - 0s 7ms/step - loss: 8.1378e-05 - accuracy: 1.0000 - val_loss: 1.4529e-04 - val_accuracy: 1.0000\n",
            "Epoch 14/20\n",
            "25/25 [==============================] - 0s 7ms/step - loss: 7.2955e-05 - accuracy: 1.0000 - val_loss: 1.1693e-04 - val_accuracy: 1.0000\n",
            "Epoch 15/20\n",
            "25/25 [==============================] - 0s 7ms/step - loss: 7.9875e-05 - accuracy: 1.0000 - val_loss: 1.0947e-04 - val_accuracy: 1.0000\n",
            "Epoch 16/20\n",
            "25/25 [==============================] - 0s 7ms/step - loss: 5.3078e-05 - accuracy: 1.0000 - val_loss: 8.7313e-05 - val_accuracy: 1.0000\n",
            "Epoch 17/20\n",
            "25/25 [==============================] - 0s 7ms/step - loss: 7.2222e-05 - accuracy: 1.0000 - val_loss: 7.9673e-05 - val_accuracy: 1.0000\n",
            "Epoch 18/20\n",
            "25/25 [==============================] - 0s 7ms/step - loss: 4.0915e-05 - accuracy: 1.0000 - val_loss: 8.3937e-05 - val_accuracy: 1.0000\n",
            "Epoch 19/20\n",
            "25/25 [==============================] - 0s 8ms/step - loss: 7.1882e-05 - accuracy: 1.0000 - val_loss: 8.9554e-05 - val_accuracy: 1.0000\n",
            "Epoch 20/20\n",
            "25/25 [==============================] - 0s 7ms/step - loss: 4.4657e-05 - accuracy: 1.0000 - val_loss: 6.7456e-05 - val_accuracy: 1.0000\n"
          ],
          "name": "stdout"
        }
      ]
    },
    {
      "cell_type": "code",
      "metadata": {
        "id": "1FEUnT5n2MBB",
        "colab_type": "code",
        "outputId": "53dc118d-932d-440d-f32a-478cd73f60e4",
        "colab": {
          "base_uri": "https://localhost:8080/",
          "height": 530
        }
      },
      "source": [
        "import matplotlib.pyplot as plt \n",
        "train_accuracy = history.history['accuracy']\n",
        "val_accuracy = history.history['val_accuracy']\n",
        "\n",
        "# Set figure size.\n",
        "plt.figure(figsize=(12, 8))\n",
        "\n",
        "# Generate line plot of training, testing loss over epochs.\n",
        "plt.plot(train_accuracy, label='Training Accuracy', color='#185fad')\n",
        "plt.plot(val_accuracy, label='Validation Accuracy', color='orange')\n",
        "\n",
        "# Set title\n",
        "plt.title('Training and Validation Accuracy by Epoch', fontsize = 25)\n",
        "plt.xlabel('Epoch', fontsize = 18)\n",
        "plt.ylabel('Categorical Crossentropy', fontsize = 18)\n",
        "plt.xticks(range(0,100,5), range(0,100,5))\n",
        "\n",
        "plt.legend(fontsize = 18);"
      ],
      "execution_count": 0,
      "outputs": [
        {
          "output_type": "display_data",
          "data": {
            "image/png": "[encoded data removed]",
            "text/plain": [
              "<Figure size 864x576 with 1 Axes>"
            ]
          },
          "metadata": {
            "tags": [],
            "needs_background": "light"
          }
        }
      ]
    },
    {
      "cell_type": "code",
      "metadata": {
        "id": "VrlsftgM2PMR",
        "colab_type": "code",
        "colab": {}
      },
      "source": [
        "model.save(\"/content/drive/My Drive/SubTitle_Synchronizer/model/VocalClassification_model_05182020_v1.h5\")\n",
        "model.save_weights(\"/content/drive/My Drive/SubTitle_Synchronizer/model/VocalClassification_model_Weight_05182020_v1.h5\")"
      ],
      "execution_count": 0,
      "outputs": []
    },
    {
      "cell_type": "code",
      "metadata": {
        "id": "WFCkos5zxEqw",
        "colab_type": "code",
        "colab": {}
      },
      "source": [
        "from keras import models\n",
        "model = models.load_model('/content/drive/My Drive/SubTitle_Synchronizer/model/MuteClassification_model_05142020_v1.h5')\n",
        "model.load_weights('/content/drive/My Drive/SubTitle_Synchronizer/model/MuteClassification_model_Weight_05142020_v1.h5')\n",
        "model.summary()"
      ],
      "execution_count": 0,
      "outputs": []
    },
    {
      "cell_type": "code",
      "metadata": {
        "id": "CpbPjPWDBxy2",
        "colab_type": "code",
        "colab": {}
      },
      "source": [
        "samples, sr = librosa.load('/content/vocals.wav', res_type='kaiser_fast')"
      ],
      "execution_count": 0,
      "outputs": []
    },
    {
      "cell_type": "code",
      "metadata": {
        "id": "nQu3oP-CD1Pi",
        "colab_type": "code",
        "colab": {}
      },
      "source": [
        "def extract_features(X, sample_rate):\n",
        "    \n",
        "    # Generate Mel-frequency cepstral coefficients (MFCCs) from a time series \n",
        "    mfccs = np.mean(librosa.feature.mfcc(y=X, sr=sample_rate, n_mfcc=40).T,axis=0)\n",
        "\n",
        "    # Generates a Short-time Fourier transform (STFT) to use in the chroma_stft\n",
        "    stft = np.abs(librosa.stft(X))\n",
        "\n",
        "    # Computes a chromagram from a waveform or power spectrogram.\n",
        "    chroma = np.mean(librosa.feature.chroma_stft(S=stft, sr=sample_rate).T,axis=0)\n",
        "\n",
        "    # Computes a mel-scaled spectrogram.\n",
        "    mel = np.mean(librosa.feature.melspectrogram(X, sr=sample_rate).T,axis=0)\n",
        "\n",
        "    # Computes spectral contrast\n",
        "    contrast = np.mean(librosa.feature.spectral_contrast(S=stft, sr=sample_rate).T,axis=0)\n",
        "\n",
        "    # Computes the tonal centroid features (tonnetz)\n",
        "    tonnetz = np.mean(librosa.feature.tonnetz(y=librosa.effects.harmonic(X),\n",
        "    sr=sample_rate).T,axis=0)\n",
        "        \n",
        "    \n",
        "    # We add also the classes of each file as a label at the end\n",
        "    label = '1'\n",
        "\n",
        "    return mfccs, chroma, mel, contrast, tonnetz, label"
      ],
      "execution_count": 0,
      "outputs": []
    },
    {
      "cell_type": "code",
      "metadata": {
        "id": "iNiBPXKJDWAI",
        "colab_type": "code",
        "colab": {}
      },
      "source": [
        "def audioClassification(audio, sr):\n",
        "    #Split audio in chunks with each chunk size of 1 sec.\n",
        "    split_audio_duration = 1*sr\n",
        "    startIndex = 0\n",
        "    features = [] \n",
        "    if len(audio) > split_audio_duration:\n",
        "        iteration = int(np.ceil(len(audio)/split_audio_duration))\n",
        "        for i in range(iteration):\n",
        "            endIndex = startIndex + split_audio_duration\n",
        "            if endIndex > len(audio):\n",
        "                endIndex = len(audio)\n",
        "            split_audio = audio[startIndex: endIndex]\n",
        "            startIndex = endIndex + 1 \n",
        "            mfccs, chroma, mel, contrast, tonnetz, label = extract_features(split_audio, sr)\n",
        "            features.append([mfccs, chroma, mel, contrast, tonnetz, label])\n",
        "    else:\n",
        "        split_audio = audio[startIndex: len(audio)]\n",
        "        mfccs, chroma, mel, contrast, tonnetz, label = extract_features(split_audio, sr)\n",
        "        features.append([mfccs, chroma, mel, contrast, tonnetz])\n",
        "\n",
        "    return features"
      ],
      "execution_count": 0,
      "outputs": []
    },
    {
      "cell_type": "code",
      "metadata": {
        "id": "-YHJ7QvnZYI8",
        "colab_type": "code",
        "colab": {}
      },
      "source": [
        "garden_merge_X1 = audioClassification(samples, sr)\n",
        "garden_features1 = []\n",
        "for i in range(0, len(garden_merge_X1)):\n",
        "    garden_features1.append(np.concatenate((garden_merge_X1[i][0], garden_merge_X1[i][1], \n",
        "                garden_merge_X1[i][2], garden_merge_X1[i][3],\n",
        "                garden_merge_X1[i][4]), axis=0))\n",
        "    \n",
        "garden_fianl_X1 = np.array(garden_features1)\n",
        "\n",
        "garden_fianl_X1 = ss.transform(garden_fianl_X1)\n",
        "#garden_non_vocal_featuresdf = pd.DataFrame(garden_features[:25])\n",
        "#garden_vocal_featuresdf = pd.DataFrame(garden_features[27:40])\n",
        "\n",
        "preds_new_test1 = model.predict_classes(garden_fianl_X1)\n",
        "preds_new_test1"
      ],
      "execution_count": 0,
      "outputs": []
    },
    {
      "cell_type": "code",
      "metadata": {
        "id": "Xz5YW9ZYbcmp",
        "colab_type": "code",
        "outputId": "360bac8d-0605-46ff-b577-361c21c187ba",
        "colab": {
          "base_uri": "https://localhost:8080/",
          "height": 293
        }
      },
      "source": [
        "import sklearn.metrics as metrics\n",
        "from sklearn.metrics import accuracy_score\n",
        "from sklearn.metrics import f1_score\n",
        "from sklearn.metrics import precision_score\n",
        "from sklearn.metrics import recall_score\n",
        "final_y = [1, 1, 1, 1, 1, 1, 0, 0, 0, 0, 1, 1, 1, 1, 1, 0, 0, 0, 0, 0, 0, 0, 0, 1, 1, 1, 1, 1, 1, 1, 1, 1, 1, 1, 1, 1, 1, 1, 1, 1, 1, 1, 1, 0, 0, 1, 1, 1, 1, 1, 1, 1, 1, 1, 1, 1, 1, 1, 1, 1, 1, 1, 1, 1, 1, 0, 1, 1, 1, 0, 0, 1, 1, 0, 0, 1, 1, 1, 1, 1, 1, 0, 0, 0, 0, 0, 0, 0, 0, 0, 1, 1, 1, 1, 1, 1, 1, 1, 1, 1, 1, 1, 1, 1, 1, 1, 1, 1, 1, 1, 1, 1, 1, 1, 1, 1, 1, 1, 1, 1, 1, 1, 1, 1, 1, 1, 1, 1, 1, 1, 1, 1, 1, 1, 1, 1, 1, 1, 0, 0, 0, 1, 1, 1, 1, 1, 1, 1, 0, 0, 0, 1, 1, 1, 1, 1, 1, 1, 1, 1, 1, 1, 1, 1, 1, 1, 1, 1, 1, 1, 1, 1, 1, 1, 1, 1, 1, 1, 1, 1, 1, 1, 1, 1, 1, 1, 1, 1, 1, 1, 1, 1, 1, 1, 1, 1, 1, 1, 1, 0, 0, 0, 0, 0, 0, 0, 0, 0, 0, 1, 1, 1, 1, 1, 1, 1, 1, 1, 1, 1, 1, 1, 1, 1, 1, 1, 1, 1, 1, 0, 0, 0, 0, 1, 1, 0, 0, 0, 0, 0, 0, 0, 0, 1, 1, 1, 1, 1, 1, 1, 1, 1, 1, 1, 1, 1, 1, 1, 1, 1, 1, 1, 1, 1, 1, 1, 1, 1, 1, 1, 1, 1, 1, 1, 1, 1, 1, 1, 1, 1, 1, 1, 1, 1, 1, 1, 1, 1, 1, 1, 1, 1, 1, 1, 1, 1, 1, 1, 1, 1]\n",
        "classification_report = metrics.classification_report(final_y, preds_new_test1[:300])\n",
        "print(\"Classification report: \\n\", classification_report)\n",
        "confusion_matrix = metrics.confusion_matrix(final_y, preds_new_test1[:300])\n",
        "print(\"Confusion matrix: \\n\",confusion_matrix)\n",
        "\n",
        "print(\"Accuracy Score: \", accuracy_score(final_y, preds_new_test1[:300]))\n",
        "print(\"F1 Score: \", f1_score(final_y, preds_new_test1[:300], average='weighted'))\n",
        "print(\"Precision Score: \", precision_score(final_y, preds_new_test1[:300], average='weighted'))\n",
        "print(\"Recall Score: \", recall_score(final_y, preds_new_test1[:300], average='weighted'))"
      ],
      "execution_count": 0,
      "outputs": [
        {
          "output_type": "stream",
          "text": [
            "Classification report: \n",
            "               precision    recall  f1-score   support\n",
            "\n",
            "           0       1.00      0.64      0.78        56\n",
            "           1       0.92      1.00      0.96       244\n",
            "\n",
            "    accuracy                           0.93       300\n",
            "   macro avg       0.96      0.82      0.87       300\n",
            "weighted avg       0.94      0.93      0.93       300\n",
            "\n",
            "Confusion matrix: \n",
            " [[ 36  20]\n",
            " [  0 244]]\n",
            "Accuracy Score:  0.9333333333333333\n",
            "F1 Score:  0.9273992924797443\n",
            "Precision Score:  0.9383838383838383\n",
            "Recall Score:  0.9333333333333333\n"
          ],
          "name": "stdout"
        }
      ]
    },
    {
      "cell_type": "code",
      "metadata": {
        "id": "Xd8B7xb0zFdj",
        "colab_type": "code",
        "colab": {}
      },
      "source": [
        "garden_merge_X1 = audioClassification(samples, sr)\n",
        "garden_features1 = []\n",
        "for i in range(0, len(garden_merge_X1)):\n",
        "    garden_features1.append(np.concatenate((garden_merge_X1[i][0], garden_merge_X1[i][1], \n",
        "                garden_merge_X1[i][2], garden_merge_X1[i][3],\n",
        "                garden_merge_X1[i][4]), axis=0))\n",
        "    \n",
        "garden_fianl_X1 = np.array(garden_features1)\n",
        "\n",
        "garden_fianl_X1 = ss.transform(garden_fianl_X1)\n",
        "#garden_non_vocal_featuresdf = pd.DataFrame(garden_features[:25])\n",
        "#garden_vocal_featuresdf = pd.DataFrame(garden_features[27:40])\n",
        "\n",
        "preds_new_test1 = model.predict_classes(garden_fianl_X1)\n",
        "preds_new_test1"
      ],
      "execution_count": 0,
      "outputs": []
    },
    {
      "cell_type": "code",
      "metadata": {
        "id": "4PW33fohEzuB",
        "colab_type": "code",
        "colab": {}
      },
      "source": [
        "garden_merge_X = audioClassification(samples, sr)\n",
        "garden_features = []\n",
        "for i in range(0, len(garden_merge_X)):\n",
        "    garden_features.append(np.concatenate((garden_merge_X[i][0], garden_merge_X[i][1], \n",
        "                garden_merge_X[i][2], garden_merge_X[i][3],\n",
        "                garden_merge_X[i][4]), axis=0))\n",
        "    \n",
        "garden_fianl_X = np.array(garden_features)\n",
        "\n",
        "garden_fianl_X = ss.transform(garden_fianl_X)\n",
        "#garden_non_vocal_featuresdf = pd.DataFrame(garden_features[:25])\n",
        "#garden_vocal_featuresdf = pd.DataFrame(garden_features[27:40])\n",
        "\n",
        "preds_new_test = model.predict_classes(garden_fianl_X)"
      ],
      "execution_count": 0,
      "outputs": []
    },
    {
      "cell_type": "code",
      "metadata": {
        "id": "DtdF7BFNemFz",
        "colab_type": "code",
        "outputId": "12cee670-cdb0-4b8b-950c-ccb976db7d82",
        "colab": {
          "base_uri": "https://localhost:8080/",
          "height": 326
        }
      },
      "source": [
        "print(len(preds_new_test))\n",
        "print((len(final_y)))\n",
        "classification_report = metrics.classification_report(final_y, preds_new_test[:240])\n",
        "print(\"Classification report: \\n\", classification_report)\n",
        "confusion_matrix = metrics.confusion_matrix(final_y, preds_new_test[:240])\n",
        "print(\"Confusion matrix: \\n\",confusion_matrix)\n",
        "\n",
        "print(\"Accuracy Score: \", accuracy_score(final_y, preds_new_test[:240]))\n",
        "print(\"F1 Score: \", f1_score(final_y, preds_new_test[:240], average='weighted'))\n",
        "print(\"Precision Score: \", precision_score(final_y, preds_new_test[:240], average='weighted'))\n",
        "print(\"Recall Score: \", recall_score(final_y, preds_new_test[:240], average='weighted'))"
      ],
      "execution_count": 0,
      "outputs": [
        {
          "output_type": "stream",
          "text": [
            "300\n",
            "240\n",
            "Classification report: \n",
            "               precision    recall  f1-score   support\n",
            "\n",
            "           0       1.00      0.92      0.96       117\n",
            "           1       0.93      1.00      0.96       123\n",
            "\n",
            "    accuracy                           0.96       240\n",
            "   macro avg       0.97      0.96      0.96       240\n",
            "weighted avg       0.97      0.96      0.96       240\n",
            "\n",
            "Confusion matrix: \n",
            " [[108   9]\n",
            " [  0 123]]\n",
            "Accuracy Score:  0.9625\n",
            "F1 Score:  0.9624117647058824\n",
            "Precision Score:  0.9650568181818182\n",
            "Recall Score:  0.9625\n"
          ],
          "name": "stdout"
        }
      ]
    },
    {
      "cell_type": "code",
      "metadata": {
        "id": "Xi1W2d-cipZE",
        "colab_type": "code",
        "outputId": "061c8f3f-cfef-4750-848f-742d8a8ca52c",
        "colab": {
          "base_uri": "https://localhost:8080/",
          "height": 66
        }
      },
      "source": [
        "full_vocal_X = np.load('/content/drive/My Drive/SubTitle_Synchronizer/data/vocal_mfcc_numeric_data/vocal_X.npy', allow_pickle=True)\n",
        "vocal_X = full_vocal_X[4001:len(full_vocal_X)]\n",
        "vocal_y = np.full((len(vocal_X)), 1)\n",
        "print('Vocal  len: ', len(vocal_X))\n",
        "\n",
        "full_non_vocal_X = np.load('/content/drive/My Drive/SubTitle_Synchronizer/data/vocal_mfcc_numeric_data/non_vocal_X.npy', allow_pickle=True)\n",
        "non_vocal_X = full_non_vocal_X[4001:len(full_non_vocal_X)]\n",
        "non_vocal_y = np.full((len(non_vocal_X)), 0)\n",
        "print('Non Vocal len: ', len(non_vocal_y))\n",
        "\n",
        "merge_X = np.concatenate((vocal_X, non_vocal_X), axis=0)\n",
        "final_y = np.concatenate((vocal_y, non_vocal_y ), axis=0)\n",
        "\n",
        "features = []\n",
        "for i in range(0, len(merge_X)):\n",
        "    features.append(np.concatenate((merge_X[i][0], merge_X[i][1], \n",
        "                merge_X[i][2], merge_X[i][3],\n",
        "                merge_X[i][4]), axis=0))\n",
        "    \n",
        "fianl_X = np.array(features)\n",
        "\n",
        "fianl_X = ss.transform(fianl_X)\n",
        "preds_new_test = model.predict_classes(fianl_X)\n",
        "preds_new_test"
      ],
      "execution_count": 0,
      "outputs": [
        {
          "output_type": "stream",
          "text": [
            "Vocal  len:  1107\n",
            "Non Vocal len:  1200\n"
          ],
          "name": "stdout"
        },
        {
          "output_type": "execute_result",
          "data": {
            "text/plain": [
              "array([1, 1, 1, ..., 0, 0, 0])"
            ]
          },
          "metadata": {
            "tags": []
          },
          "execution_count": 34
        }
      ]
    },
    {
      "cell_type": "code",
      "metadata": {
        "id": "hWXjLD-Fqde-",
        "colab_type": "code",
        "colab": {}
      },
      "source": [
        "full_vocal_X = np.load('/content/drive/My Drive/SubTitle_Synchronizer/data/vocal_mfcc_numeric_data/vocal_X.npy', allow_pickle=True)\n",
        "vocal_X = full_vocal_X[4001:len(full_vocal_X)]\n",
        "\n",
        "features = []\n",
        "for i in range(0, len(vocal_X)):\n",
        "    features.append(np.concatenate((vocal_X[i][0], vocal_X[i][1], \n",
        "                vocal_X[i][2], vocal_X[i][3],\n",
        "                vocal_X[i][4]), axis=0))\n",
        "\n",
        "features = ss.transform(features)\n",
        "vocal_featuresdf = pd.DataFrame(features)\n",
        "\n",
        "full_non_vocal_X = np.load('/content/drive/My Drive/SubTitle_Synchronizer/data/vocal_mfcc_numeric_data/non_vocal_X.npy', allow_pickle=True)\n",
        "non_vocal_X = full_non_vocal_X[4001:len(full_non_vocal_X)]\n",
        "non_vocal_features = []\n",
        "for i in range(0, len(non_vocal_X)):\n",
        "    non_vocal_features.append(np.concatenate((non_vocal_X[i][0], non_vocal_X[i][1], \n",
        "                non_vocal_X[i][2], non_vocal_X[i][3],\n",
        "                non_vocal_X[i][4]), axis=0))\n",
        "non_vocal_features = ss.transform(non_vocal_features)\n",
        "\n",
        "non_vocal_featuresdf = pd.DataFrame(non_vocal_features)"
      ],
      "execution_count": 0,
      "outputs": []
    },
    {
      "cell_type": "code",
      "metadata": {
        "id": "aUYLYKUxnU1e",
        "colab_type": "code",
        "outputId": "52df3128-4889-40ab-d176-c043c8453c62",
        "colab": {
          "base_uri": "https://localhost:8080/",
          "height": 293
        }
      },
      "source": [
        "import sklearn.metrics as metrics\n",
        "from sklearn.metrics import accuracy_score\n",
        "from sklearn.metrics import f1_score\n",
        "from sklearn.metrics import precision_score\n",
        "from sklearn.metrics import recall_score\n",
        "\n",
        "classification_report = metrics.classification_report(final_y, preds_new_test)\n",
        "print(\"Classification report: \\n\", classification_report)\n",
        "confusion_matrix = metrics.confusion_matrix(final_y, preds_new_test)\n",
        "print(\"Confusion matrix: \\n\",confusion_matrix)\n",
        "\n",
        "print(\"Accuracy Score: \", accuracy_score(final_y, preds_new_test))\n",
        "print(\"F1 Score: \", f1_score(final_y, preds_new_test, average='weighted'))\n",
        "print(\"Precision Score: \", precision_score(final_y, preds_new_test, average='weighted'))\n",
        "print(\"Recall Score: \", recall_score(final_y, preds_new_test, average='weighted'))"
      ],
      "execution_count": 0,
      "outputs": [
        {
          "output_type": "stream",
          "text": [
            "Classification report: \n",
            "               precision    recall  f1-score   support\n",
            "\n",
            "           0       1.00      0.99      0.99      1200\n",
            "           1       0.99      1.00      0.99      1107\n",
            "\n",
            "    accuracy                           0.99      2307\n",
            "   macro avg       0.99      0.99      0.99      2307\n",
            "weighted avg       0.99      0.99      0.99      2307\n",
            "\n",
            "Confusion matrix: \n",
            " [[1188   12]\n",
            " [   2 1105]]\n",
            "Accuracy Score:  0.9939315127871695\n",
            "F1 Score:  0.9939324603889098\n",
            "Precision Score:  0.9939707949263272\n",
            "Recall Score:  0.9939315127871695\n"
          ],
          "name": "stdout"
        }
      ]
    }
  ]
}