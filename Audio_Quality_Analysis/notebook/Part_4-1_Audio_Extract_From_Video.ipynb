{
 "cells": [
  {
   "cell_type": "code",
   "execution_count": 2,
   "metadata": {},
   "outputs": [],
   "source": [
    "import os\n",
    "from os import path\n",
    "import subprocess"
   ]
  },
  {
   "cell_type": "code",
   "execution_count": 5,
   "metadata": {},
   "outputs": [
    {
     "data": {
      "text/plain": [
       "0"
      ]
     },
     "execution_count": 5,
     "metadata": {},
     "output_type": "execute_result"
    }
   ],
   "source": [
    "input_video_file = '/video/New/THENUN.mp4'\n",
    "output_sound_file = '/video/New/THENUN.flac'\n",
    "\n",
    "#You see zero as output if audio is getting extracted successfully. otherwise, 0 will get print after running it\n",
    "extract_sound_cmd = [\n",
    "     'ffmpeg',\n",
    "     '-y',  # overwrite if exists\n",
    "     '-loglevel', 'error',\n",
    "     '-i', input_video_file,  # input\n",
    "     '-ac', '1',  # convert to mono\n",
    "     output_sound_file\n",
    " ]\n",
    "subprocess.call(extract_sound_cmd)"
   ]
  }
 ],
 "metadata": {
  "kernelspec": {
   "display_name": "tensorFlowEnv",
   "language": "python",
   "name": "tensorflowenv"
  },
  "language_info": {
   "codemirror_mode": {
    "name": "ipython",
    "version": 3
   },
   "file_extension": ".py",
   "mimetype": "text/x-python",
   "name": "python",
   "nbconvert_exporter": "python",
   "pygments_lexer": "ipython3",
   "version": "3.7.6"
  }
 },
 "nbformat": 4,
 "nbformat_minor": 4
}
