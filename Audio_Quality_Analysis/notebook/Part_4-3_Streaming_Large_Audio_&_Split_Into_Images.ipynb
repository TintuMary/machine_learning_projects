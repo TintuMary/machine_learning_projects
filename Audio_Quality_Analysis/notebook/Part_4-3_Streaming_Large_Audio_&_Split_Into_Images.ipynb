{
 "cells": [
  {
   "cell_type": "code",
   "execution_count": null,
   "metadata": {},
   "outputs": [],
   "source": [
    "'''\n",
    "This notebook is to stream the large audio and generate the MelSpectogram of each chunk. \n",
    "Chunk is generated using librosa Stream API.\n",
    "\n",
    "'''"
   ]
  },
  {
   "cell_type": "code",
   "execution_count": 8,
   "metadata": {},
   "outputs": [],
   "source": [
    "%matplotlib inline"
   ]
  },
  {
   "cell_type": "code",
   "execution_count": 15,
   "metadata": {},
   "outputs": [],
   "source": [
    "from __future__ import print_function\n",
    "import numpy as np\n",
    "import matplotlib.pyplot as plt\n",
    "\n",
    "import soundfile as sf\n",
    "\n",
    "import librosa as librosa\n",
    "import librosa.display as display\n",
    "from os import path\n",
    "from pathlib import Path "
   ]
  },
  {
   "cell_type": "code",
   "execution_count": 22,
   "metadata": {},
   "outputs": [],
   "source": [
    "# We'll generate 16 frames at a time, each frame having 4096 samples and 50% overlap.\n",
    "n_fft = 4096\n",
    "hop_length = n_fft // 2\n",
    "\n",
    "# fill_value pads out the last frame with zeros so that we have a\n",
    "# full frame at the end of the signal, even if the signal doesn't\n",
    "# divide evenly into full frames.\n",
    "filename = '/video/New/THENUN.flac'\n",
    "sr = librosa.get_samplerate(filename)\n",
    "\n",
    "stream = librosa.stream(filename, block_length=16,\n",
    "                        frame_length=n_fft,\n",
    "                        hop_length=hop_length,\n",
    "                        mono=True,\n",
    "                        fill_value=0)\n",
    "\n",
    "index=0\n",
    "for y_block in stream:\n",
    "    duration = len(y_block)/sr\n",
    "    fig = plt.figure(figsize=[0.72,0.72])\n",
    "    ax = fig.add_subplot(111)\n",
    "    ax.axes.get_xaxis().set_visible(False)\n",
    "    ax.axes.get_yaxis().set_visible(False)\n",
    "    ax.set_frame_on(False)\n",
    "    \n",
    "    filename  = '/video/New/THENUN_Spectogram/THENUN_'+str(index)+'.png'\n",
    "    S = librosa.feature.melspectrogram(y=y_block, sr=sr)\n",
    "    index = index+1\n",
    "    librosa.display.specshow(librosa.power_to_db(S, ref=np.max))\n",
    "    plt.savefig(filename, dpi=400, bbox_inches='tight',pad_inches=0)\n",
    "    plt.close('all')"
   ]
  }
 ],
 "metadata": {
  "kernelspec": {
   "display_name": "Python 3",
   "language": "python",
   "name": "python3"
  },
  "language_info": {
   "codemirror_mode": {
    "name": "ipython",
    "version": 3
   },
   "file_extension": ".py",
   "mimetype": "text/x-python",
   "name": "python",
   "nbconvert_exporter": "python",
   "pygments_lexer": "ipython3",
   "version": "3.7.6"
  }
 },
 "nbformat": 4,
 "nbformat_minor": 1
}
