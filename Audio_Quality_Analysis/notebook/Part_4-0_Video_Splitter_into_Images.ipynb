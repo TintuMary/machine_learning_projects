{
 "cells": [
  {
   "cell_type": "code",
   "execution_count": 25,
   "metadata": {},
   "outputs": [
    {
     "name": "stdout",
     "output_type": "stream",
     "text": [
      "Requirement already satisfied: opencv-contrib-python in d:\\users\\618757\\anaconda3\\envs\\tensorflowenv\\lib\\site-packages (4.2.0.32)\n",
      "Requirement already satisfied: numpy>=1.14.5 in d:\\users\\618757\\anaconda3\\envs\\tensorflowenv\\lib\\site-packages (from opencv-contrib-python) (1.18.1)\n"
     ]
    }
   ],
   "source": [
    "# Install below dependencies if only missing\n",
    "'''\n",
    "\n",
    "!pip install tensorflow\n",
    "!pip install tensorflow_hub\n",
    "!pip install opencv-contrib-python\n",
    "!pip install q keras==2.3.0\n",
    "\n",
    "'''\n",
    "!pip install opencv-contrib-python"
   ]
  },
  {
   "cell_type": "code",
   "execution_count": 1,
   "metadata": {},
   "outputs": [],
   "source": [
    "from __future__ import absolute_import, division, print_function, unicode_literals\n",
    "\n",
    "import matplotlib.pylab as plt\n",
    "\n",
    "import numpy as np\n",
    "import pandas as pd\n",
    "\n",
    "import cv2"
   ]
  },
  {
   "cell_type": "code",
   "execution_count": 3,
   "metadata": {},
   "outputs": [
    {
     "name": "stdout",
     "output_type": "stream",
     "text": [
      "Done\n"
     ]
    }
   ],
   "source": [
    "vidcap = cv2.VideoCapture('D:/Abhishek\\Machine Learning Models/Deep Learning/Sample_Videos/18_016_13_Street_Blur.mov') #73_Airport_Blur.mp4')\n",
    "success,image = vidcap.read()\n",
    "    \n",
    "count = 0\n",
    "images = []\n",
    "\n",
    "while success:\n",
    "    cv2.imwrite('street_blur_frame%d.jpg' % count, image)     # save frame as JPEG file\n",
    "    success,image = vidcap.read()\n",
    "    count = count + 1\n",
    "\n",
    "print('Done')\n",
    "vidcap.release()\n",
    "cv2.destroyAllWindows()"
   ]
  },
  {
   "cell_type": "code",
   "execution_count": null,
   "metadata": {},
   "outputs": [],
   "source": [
    "'''\n",
    "newsize = (224, 224) \n",
    "while success:\n",
    "  img = cv2.resize(img, newsize, interpolation = cv2.INTER_AREA)\n",
    "  img = image.img_to_array(img)\n",
    "  img = np.expand_dims(img, axis = 0)\n",
    "\n",
    "  prediction_probability = new_model.predict(img)\n",
    "  prediction_result = np.argmax(prediction_probability[0])\n",
    "  images.append(prediction_result)\n",
    "  cv2.imwrite(\"D:\\Abhishek\\Machine Learning Models\\Deep Learning\\video_frames\\1080\\frame%d.jpg\" % count, image)     # save frame as JPEG file\n",
    "\n",
    "  success,img = vidcap.read()\n",
    "  count += 1\n",
    "'''"
   ]
  }
 ],
 "metadata": {
  "kernelspec": {
   "display_name": "tensorFlowEnv",
   "language": "python",
   "name": "tensorflowenv"
  },
  "language_info": {
   "codemirror_mode": {
    "name": "ipython",
    "version": 3
   },
   "file_extension": ".py",
   "mimetype": "text/x-python",
   "name": "python",
   "nbconvert_exporter": "python",
   "pygments_lexer": "ipython3",
   "version": "3.7.6"
  }
 },
 "nbformat": 4,
 "nbformat_minor": 4
}
