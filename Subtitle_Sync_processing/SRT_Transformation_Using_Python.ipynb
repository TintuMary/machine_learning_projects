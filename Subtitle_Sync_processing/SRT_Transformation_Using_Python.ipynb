{
 "cells": [
  {
   "cell_type": "code",
   "execution_count": null,
   "metadata": {},
   "outputs": [],
   "source": [
    "'''\n",
    "In this notebook, its explanined about-\n",
    "A. How to read SRT file using pysrt library\n",
    "B. How to traverse in each section of srt file\n",
    "C. How to read text, start and end timestamp of srt file\n",
    "D. How to transform srt file and save it\n",
    "E. How to covnert SRT file data into JSON format\n",
    "F. How to convert JSON foramt data into SRT file \n",
    "\n",
    "'''"
   ]
  },
  {
   "cell_type": "code",
   "execution_count": null,
   "metadata": {},
   "outputs": [],
   "source": [
    "!pip install pysrt"
   ]
  },
  {
   "cell_type": "code",
   "execution_count": null,
   "metadata": {},
   "outputs": [],
   "source": [
    "import pysrt\n",
    "import copy"
   ]
  },
  {
   "cell_type": "code",
   "execution_count": 3,
   "metadata": {},
   "outputs": [
    {
     "name": "stdout",
     "output_type": "stream",
     "text": [
      "51\n"
     ]
    }
   ],
   "source": [
    "srt_file_path = 'D:/Abhishek/Machine Learning Models/Subtitle-Sync/github-repo/Deadpool2.srt'\n",
    "subs = pysrt.open(srt_file_path)\n",
    "subs_copy=  copy.deepcopy(subs)\n",
    "print(len(subs))\n",
    "\n",
    "# If you get a UnicodeDecodeError try to specify the encoding\n",
    "#subs = pysrt.open('some/file.srt', encoding='iso-8859-1')"
   ]
  },
  {
   "cell_type": "code",
   "execution_count": 7,
   "metadata": {},
   "outputs": [
    {
     "name": "stdout",
     "output_type": "stream",
     "text": [
      "-You're living the dreams, DP.\n",
      "-Yeah.\n",
      "22\n",
      "0\n",
      "0\n",
      "0\n",
      "24\n",
      "0\n",
      "0\n",
      "24000\n"
     ]
    }
   ],
   "source": [
    "first_sub = subs[5]\n",
    "print(first_sub.text)\n",
    "print(first_sub.start.seconds)\n",
    "print(first_sub.start.hours)\n",
    "print(first_sub.start.minutes)\n",
    "\n",
    "print(first_sub.end.milliseconds)\n",
    "print(first_sub.end.seconds)\n",
    "print(first_sub.end.minutes)\n",
    "print(first_sub.end.hours)\n",
    "print(first_sub.end.ordinal )"
   ]
  },
  {
   "cell_type": "code",
   "execution_count": 4,
   "metadata": {},
   "outputs": [],
   "source": [
    "#Shifting subttiles by 2 secs forward and save it\n",
    "subs.shift(seconds=2)\n",
    "#if subs[0].start.seconds\n",
    "subs.save('D:/Abhishek/Machine Learning Models/Subtitle-Sync/github-repo/Deadpool2_2.srt', encoding='utf-8')"
   ]
  },
  {
   "cell_type": "code",
   "execution_count": null,
   "metadata": {},
   "outputs": [],
   "source": [
    "# Extract Subtitle details and store it in JSON format (array)\n",
    "def extractSubTitleDetails(subs):\n",
    "    transofrmed_subs = []\n",
    "    index = 1\n",
    "    ignore_index = []\n",
    "    for sub_section in subs:\n",
    "        startTimeStamp = ((int(sub_section.start.hours)*60 + int(sub_section.start.minutes))*60 + int(sub_section.start.seconds))*1000\n",
    "        endTimeStamp = ((int(sub_section.end.hours)*60 + int(sub_section.end.minutes))*60 + int(sub_section.end.seconds))*1000\n",
    "        text = sub_section.text\n",
    "        if text[0] == '[' and text[len(text)-1] == ']'\n",
    "            transofrmed_subs.append([index, startTimeStamp, endTimeStamp, text])\n",
    "            index = index+1\n",
    "    \n",
    "    start_timestamp_srt = transofrmed_subs[0][1]\n",
    "    end_timestamp_srt = transofrmed_subs[len(transofrmed_subs) -1 ][1]\n",
    "    return transofrmed_subs, start_timestamp_srt, end_timestamp_srt"
   ]
  },
  {
   "cell_type": "code",
   "execution_count": null,
   "metadata": {},
   "outputs": [],
   "source": [
    "transofrmed_subs, start_timestamp_srt, end_timestamp_srt = extractSubTitleDetails(subs)"
   ]
  },
  {
   "cell_type": "code",
   "execution_count": null,
   "metadata": {},
   "outputs": [],
   "source": [
    "# How to convery JSOn foramt data into subtitle details [here just changing start/end timestamp of srt file]\n",
    "index = 0\n",
    "for sub_section in subs_copy:\n",
    "    start_ts = (pd.to_datetime(transofrmed_subs_1[index][1], unit='ms').strftime('%H:%M:%S:%f')).split(':')\n",
    "    end_ts = (pd.to_datetime(transofrmed_subs_1[index][2], unit='ms').strftime('%H:%M:%S:%f')).split(':')\n",
    "    \n",
    "    #end_ts = (time.strftime('%H:%M:%S', time.gmtime(transofrmed_subs_1[index][2]/1000))).split(':')\n",
    "    \n",
    "    sub_section.start.milliseconds = int(start_ts[3][0:3])\n",
    "    sub_section.start.seconds = int(start_ts[2])\n",
    "    sub_section.start.minutes = int(start_ts[1])\n",
    "    sub_section.start.hours = int(start_ts[0])\n",
    "    \n",
    "    sub_section.end.milliseconds = int(end_ts[3][0:3])\n",
    "    sub_section.end.seconds = int(end_ts[2])\n",
    "    sub_section.end.minutes = int(end_ts[1])\n",
    "    sub_section.end.hours = int(end_ts[0])\n",
    "    \n",
    "    index = index +1\n",
    "    \n",
    "subs_copy.save('D:/Abhishek/Machine Learning Models/Subtitle-Sync/video/New/output/THENUN/THENUN_Modified_1.srt', encoding='utf-8')"
   ]
  }
 ],
 "metadata": {
  "kernelspec": {
   "display_name": "Python 3",
   "language": "python",
   "name": "python3"
  },
  "language_info": {
   "codemirror_mode": {
    "name": "ipython",
    "version": 3
   },
   "file_extension": ".py",
   "mimetype": "text/x-python",
   "name": "python",
   "nbconvert_exporter": "python",
   "pygments_lexer": "ipython3",
   "version": "3.7.6"
  }
 },
 "nbformat": 4,
 "nbformat_minor": 4
}
