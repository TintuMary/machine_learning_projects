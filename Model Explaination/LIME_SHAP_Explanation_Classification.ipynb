{
 "cells": [
  {
   "cell_type": "code",
   "execution_count": null,
   "metadata": {},
   "outputs": [],
   "source": [
    "'''\n",
    "                ***** LIME AND SHAP Explanation *****\n",
    "                \n",
    "This notebook provides the LIME and SHAP implementation for Classification based models (Loan Eligibility). \n",
    "\n",
    "A. LIME Explanation\n",
    "B. SHAP Explanation\n",
    "\n",
    "'''"
   ]
  },
  {
   "cell_type": "code",
   "execution_count": 6,
   "metadata": {},
   "outputs": [],
   "source": [
    "from sklearn.datasets import load_boston\n",
    "import sklearn.ensemble\n",
    "import numpy as np\n",
    "import lime\n",
    "import lime.lime_tabular\n",
    "import pickle\n",
    "from sklearn.linear_model import LinearRegression, LogisticRegression\n",
    "import shap\n",
    "import pandas as pd\n",
    "from sklearn.metrics import accuracy_score\n",
    "from sklearn.preprocessing import LabelEncoder, OneHotEncoder, StandardScaler\n",
    "from sklearn.model_selection import train_test_split"
   ]
  },
  {
   "cell_type": "code",
   "execution_count": 14,
   "metadata": {},
   "outputs": [
    {
     "data": {
      "text/html": [
       "<div>\n",
       "<style scoped>\n",
       "    .dataframe tbody tr th:only-of-type {\n",
       "        vertical-align: middle;\n",
       "    }\n",
       "\n",
       "    .dataframe tbody tr th {\n",
       "        vertical-align: top;\n",
       "    }\n",
       "\n",
       "    .dataframe thead th {\n",
       "        text-align: right;\n",
       "    }\n",
       "</style>\n",
       "<table border=\"1\" class=\"dataframe\">\n",
       "  <thead>\n",
       "    <tr style=\"text-align: right;\">\n",
       "      <th></th>\n",
       "      <th>age</th>\n",
       "      <th>fnlwgt</th>\n",
       "      <th>education-num</th>\n",
       "      <th>marital-status</th>\n",
       "      <th>sex</th>\n",
       "      <th>current-worth</th>\n",
       "      <th>outstanding-credit</th>\n",
       "      <th>hours-per-week</th>\n",
       "      <th>loan-eligibility</th>\n",
       "    </tr>\n",
       "  </thead>\n",
       "  <tbody>\n",
       "    <tr>\n",
       "      <th>0</th>\n",
       "      <td>39</td>\n",
       "      <td>77516</td>\n",
       "      <td>13</td>\n",
       "      <td>0</td>\n",
       "      <td>0</td>\n",
       "      <td>2174</td>\n",
       "      <td>0</td>\n",
       "      <td>40</td>\n",
       "      <td>ineligible</td>\n",
       "    </tr>\n",
       "    <tr>\n",
       "      <th>1</th>\n",
       "      <td>50</td>\n",
       "      <td>83311</td>\n",
       "      <td>13</td>\n",
       "      <td>1</td>\n",
       "      <td>0</td>\n",
       "      <td>0</td>\n",
       "      <td>0</td>\n",
       "      <td>13</td>\n",
       "      <td>ineligible</td>\n",
       "    </tr>\n",
       "    <tr>\n",
       "      <th>2</th>\n",
       "      <td>38</td>\n",
       "      <td>215646</td>\n",
       "      <td>9</td>\n",
       "      <td>0</td>\n",
       "      <td>0</td>\n",
       "      <td>0</td>\n",
       "      <td>0</td>\n",
       "      <td>40</td>\n",
       "      <td>ineligible</td>\n",
       "    </tr>\n",
       "    <tr>\n",
       "      <th>3</th>\n",
       "      <td>53</td>\n",
       "      <td>234721</td>\n",
       "      <td>7</td>\n",
       "      <td>1</td>\n",
       "      <td>0</td>\n",
       "      <td>0</td>\n",
       "      <td>0</td>\n",
       "      <td>40</td>\n",
       "      <td>ineligible</td>\n",
       "    </tr>\n",
       "    <tr>\n",
       "      <th>4</th>\n",
       "      <td>28</td>\n",
       "      <td>338409</td>\n",
       "      <td>13</td>\n",
       "      <td>1</td>\n",
       "      <td>1</td>\n",
       "      <td>0</td>\n",
       "      <td>0</td>\n",
       "      <td>40</td>\n",
       "      <td>ineligible</td>\n",
       "    </tr>\n",
       "  </tbody>\n",
       "</table>\n",
       "</div>"
      ],
      "text/plain": [
       "   age  fnlwgt  education-num  marital-status  sex  current-worth  \\\n",
       "0   39   77516             13               0    0           2174   \n",
       "1   50   83311             13               1    0              0   \n",
       "2   38  215646              9               0    0              0   \n",
       "3   53  234721              7               1    0              0   \n",
       "4   28  338409             13               1    1              0   \n",
       "\n",
       "   outstanding-credit  hours-per-week loan-eligibility  \n",
       "0                   0              40       ineligible  \n",
       "1                   0              13       ineligible  \n",
       "2                   0              40       ineligible  \n",
       "3                   0              40       ineligible  \n",
       "4                   0              40       ineligible  "
      ]
     },
     "execution_count": 14,
     "metadata": {},
     "output_type": "execute_result"
    }
   ],
   "source": [
    "df = pd.read_csv('loanEligibility.csv', encoding='latin1')\n",
    "\n",
    "df[\"sex\"] = df[\"sex\"].map({\"Male\": 0, \"Female\":1})\n",
    "df[\"marital-status\"] = df[\"marital-status\"].replace(['Never-married','Divorced','Separated','Widowed'], 'Single')\n",
    "df[\"marital-status\"] = df[\"marital-status\"].replace(['Married-civ-spouse','Married-spouse-absent','Married-AF-spouse'], 'Married')\n",
    "df[\"marital-status\"] = df[\"marital-status\"].map({\"Married\":1, \"Single\":0})\n",
    "df[\"marital-status\"] = df[\"marital-status\"].astype(int)\n",
    "\n",
    "# Drop the data we don't want to use\n",
    "df.drop(labels=[\"workclass\",\"education\",\"occupation\",\"relationship\",\"race\",\"native-country\"], axis = 1, inplace = True)\n",
    "feature_names = df.columns\n",
    "df.head()"
   ]
  },
  {
   "cell_type": "code",
   "execution_count": 20,
   "metadata": {},
   "outputs": [
    {
     "name": "stdout",
     "output_type": "stream",
     "text": [
      "Accuracy: 79.44111776447106%\n"
     ]
    },
    {
     "name": "stderr",
     "output_type": "stream",
     "text": [
      "C:\\Users\\618757\\AppData\\Roaming\\Python\\Python36\\site-packages\\sklearn\\linear_model\\logistic.py:432: FutureWarning: Default solver will be changed to 'lbfgs' in 0.22. Specify a solver to silence this warning.\n",
      "  FutureWarning)\n"
     ]
    }
   ],
   "source": [
    "array = df.values\n",
    "X = array[:,0:8]\n",
    "Y = array[:,8]\n",
    "\n",
    "validation_size = 0.20\n",
    "seed = 7\n",
    "\n",
    "X_train, X_validation, Y_train, Y_validation = train_test_split(X,Y,\n",
    "    test_size=validation_size,random_state=seed)\n",
    "\n",
    "lrmodel = LogisticRegression().fit(X_train, Y_train)\n",
    "predictions = lrmodel.predict(X_validation)\n",
    "print(\"Accuracy: %s%%\" % (100*accuracy_score(Y_validation, predictions)))"
   ]
  },
  {
   "cell_type": "code",
   "execution_count": 17,
   "metadata": {},
   "outputs": [
    {
     "data": {
      "text/html": [
       "[{'trueClass': 'ineligible', 'predictedClass': 'ineligible', 'explanation': [('current-worth <= 0.00', 0.4826585594386617), ('outstanding-credit > 0.00', -0.32005954485701194), ('fnlwgt <= 117564.25', -0.09516021385532072), ('hours-per-week <= 40.00', -0.027844116048099422), ('education-num=10', 0.005685494284669929), ('37.00 < age <= 48.00', 0.004495708938208382), ('marital-status=0', 0.0026322379757468695), ('sex=1', 0.0009339483539154824)]}, {'trueClass': 'eligible', 'predictedClass': 'ineligible', 'explanation': [('current-worth <= 0.00', 0.46028128404567326), ('outstanding-credit <= 0.00', 0.30624075882122087), ('fnlwgt <= 117564.25', -0.09612935005521567), ('hours-per-week > 45.00', 0.027560991288941735), ('education-num=13', 0.008116943095912384), ('37.00 < age <= 48.00', 0.005399473337130118), ('sex=0', 0.005005874052880033), ('marital-status=0', 0.002119175018677374)]}, {'trueClass': 'ineligible', 'predictedClass': 'ineligible', 'explanation': [('current-worth <= 0.00', 0.4973404183082082), ('outstanding-credit <= 0.00', 0.3029309611596672), ('fnlwgt <= 117564.25', -0.09431669770134275), ('age <= 28.00', -0.03320018169405706), ('hours-per-week <= 40.00', -0.025786881031867902), ('marital-status=1', 0.0021111399941992244), ('education-num=10', 0.001205665702409232), ('sex=0', 0.001064826902967745)]}]"
      ],
      "text/plain": [
       "[{'trueClass': 'ineligible',\n",
       "  'predictedClass': 'ineligible',\n",
       "  'explanation': [('current-worth <= 0.00', 0.4826585594386617),\n",
       "   ('outstanding-credit > 0.00', -0.32005954485701194),\n",
       "   ('fnlwgt <= 117564.25', -0.09516021385532072),\n",
       "   ('hours-per-week <= 40.00', -0.027844116048099422),\n",
       "   ('education-num=10', 0.005685494284669929),\n",
       "   ('37.00 < age <= 48.00', 0.004495708938208382),\n",
       "   ('marital-status=0', 0.0026322379757468695),\n",
       "   ('sex=1', 0.0009339483539154824)]},\n",
       " {'trueClass': 'eligible',\n",
       "  'predictedClass': 'ineligible',\n",
       "  'explanation': [('current-worth <= 0.00', 0.46028128404567326),\n",
       "   ('outstanding-credit <= 0.00', 0.30624075882122087),\n",
       "   ('fnlwgt <= 117564.25', -0.09612935005521567),\n",
       "   ('hours-per-week > 45.00', 0.027560991288941735),\n",
       "   ('education-num=13', 0.008116943095912384),\n",
       "   ('37.00 < age <= 48.00', 0.005399473337130118),\n",
       "   ('sex=0', 0.005005874052880033),\n",
       "   ('marital-status=0', 0.002119175018677374)]},\n",
       " {'trueClass': 'ineligible',\n",
       "  'predictedClass': 'ineligible',\n",
       "  'explanation': [('current-worth <= 0.00', 0.4973404183082082),\n",
       "   ('outstanding-credit <= 0.00', 0.3029309611596672),\n",
       "   ('fnlwgt <= 117564.25', -0.09431669770134275),\n",
       "   ('age <= 28.00', -0.03320018169405706),\n",
       "   ('hours-per-week <= 40.00', -0.025786881031867902),\n",
       "   ('marital-status=1', 0.0021111399941992244),\n",
       "   ('education-num=10', 0.001205665702409232),\n",
       "   ('sex=0', 0.001064826902967745)]}]"
      ]
     },
     "execution_count": 17,
     "metadata": {},
     "output_type": "execute_result"
    }
   ],
   "source": [
    "'''\n",
    "            **** LIME EXPLANATION ****\n",
    "A. This Section provides Lime LimeTabularExplainer implementation\n",
    "B. You can defined the num_feature attribute depends on for how many input features you would like to get explanation\n",
    "   Max value of this attribute should be actual number of input features.\n",
    "\n",
    "'''\n",
    "\n",
    "categorical_features = np.argwhere(np.array([len(set(X_train[:,x])) for x in range(X_train.shape[1])]) <= 20).flatten()\n",
    "\n",
    "#no need to mention class_name'labels in regression use case\n",
    "explainer = lime.lime_tabular.LimeTabularExplainer(X_train, feature_names=feature_names, \n",
    "                categorical_features=categorical_features, class_names=lrmodel.classes_, kernel_width=3)\n",
    "\n",
    "explanation_record_entries = []\n",
    "for i in range(3): # for i in range(len(X_validation))\n",
    "    exp = explainer.explain_instance(X_validation[i], lrmodel.predict_proba, num_features=len(feature_names), labels=[0, 1])\n",
    "    lim = {\n",
    "        \"trueClass\": Y_validation[i],\n",
    "        \"predictedClass\": predictions[i],\n",
    "        \"explanation\":  exp.as_list(label=1)\n",
    "    }\n",
    "    explanation_record_entries.append(lim)\n",
    "\n",
    "explanation_record_entries"
   ]
  },
  {
   "cell_type": "code",
   "execution_count": 18,
   "metadata": {},
   "outputs": [
    {
     "data": {
      "text/html": [
       "<div>\n",
       "<style scoped>\n",
       "    .dataframe tbody tr th:only-of-type {\n",
       "        vertical-align: middle;\n",
       "    }\n",
       "\n",
       "    .dataframe tbody tr th {\n",
       "        vertical-align: top;\n",
       "    }\n",
       "\n",
       "    .dataframe thead th {\n",
       "        text-align: right;\n",
       "    }\n",
       "</style>\n",
       "<table border=\"1\" class=\"dataframe\">\n",
       "  <thead>\n",
       "    <tr style=\"text-align: right;\">\n",
       "      <th></th>\n",
       "      <th>column_name</th>\n",
       "      <th>shap_importance</th>\n",
       "    </tr>\n",
       "  </thead>\n",
       "  <tbody>\n",
       "    <tr>\n",
       "      <th>5</th>\n",
       "      <td>current-worth</td>\n",
       "      <td>0.690513</td>\n",
       "    </tr>\n",
       "    <tr>\n",
       "      <th>1</th>\n",
       "      <td>fnlwgt</td>\n",
       "      <td>0.278477</td>\n",
       "    </tr>\n",
       "    <tr>\n",
       "      <th>6</th>\n",
       "      <td>outstanding-credit</td>\n",
       "      <td>0.132242</td>\n",
       "    </tr>\n",
       "  </tbody>\n",
       "</table>\n",
       "</div>"
      ],
      "text/plain": [
       "          column_name shap_importance\n",
       "5       current-worth        0.690513\n",
       "1              fnlwgt        0.278477\n",
       "6  outstanding-credit        0.132242"
      ]
     },
     "execution_count": 18,
     "metadata": {},
     "output_type": "execute_result"
    }
   ],
   "source": [
    "'''\n",
    "            **** SHAP EXPLANATION ****\n",
    "A. This Section provides SHAP  implementation\n",
    "\n",
    "'''\n",
    "\n",
    "algorithm = 'logisticRegression'\n",
    "if algorithm in ['linearRegression', 'logisticRegression', 'naivebayes', 'svm']:\n",
    "    explainer = shap.LinearExplainer(lrmodel, X_train, feature_dependence=\"independent\")\n",
    "elif algorithm in ['decisionTree', 'randomForest', 'gradientBoosting']:\n",
    "    explainer = shap.TreeExplainer(lrmodel)\n",
    "\n",
    "shap_values = explainer.shap_values(X_validation)\n",
    "shap_sum = np.abs(shap_values).mean(axis=0)\n",
    "\n",
    "importance_df = pd.DataFrame([feature_names, shap_sum.tolist()]).T\n",
    "importance_df.columns = ['column_name', 'shap_importance']\n",
    "importance_df = importance_df.sort_values('shap_importance', ascending=False)\n",
    "importance_df = importance_df[importance_df['shap_importance'] > 0.10]\n",
    "importance_df.head()"
   ]
  },
  {
   "cell_type": "code",
   "execution_count": 19,
   "metadata": {},
   "outputs": [
    {
     "data": {
      "image/png": "[encoded data removed]",
      "text/plain": [
       "<Figure size 576x338.4 with 1 Axes>"
      ]
     },
     "metadata": {
      "needs_background": "light"
     },
     "output_type": "display_data"
    }
   ],
   "source": [
    "shap.summary_plot(shap_values, X_validation, feature_names=feature_names, plot_type=\"bar\")"
   ]
  },
  {
   "cell_type": "code",
   "execution_count": null,
   "metadata": {},
   "outputs": [],
   "source": []
  }
 ],
 "metadata": {
  "kernelspec": {
   "display_name": "Python 3",
   "language": "python",
   "name": "python3"
  },
  "language_info": {
   "codemirror_mode": {
    "name": "ipython",
    "version": 3
   },
   "file_extension": ".py",
   "mimetype": "text/x-python",
   "name": "python",
   "nbconvert_exporter": "python",
   "pygments_lexer": "ipython3",
   "version": "3.6.6"
  }
 },
 "nbformat": 4,
 "nbformat_minor": 2
}
