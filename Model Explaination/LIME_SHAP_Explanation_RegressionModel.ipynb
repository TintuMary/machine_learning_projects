{
 "cells": [
  {
   "cell_type": "code",
   "execution_count": null,
   "metadata": {},
   "outputs": [],
   "source": [
    "'''\n",
    "                ***** LIME AND SHAP Explanation *****\n",
    "                \n",
    "This notebook provides the LIME and SHAP implementation for Regression based models (Boston HousePricing). \n",
    "\n",
    "A. LIME Explanation\n",
    "B. SHAP Explanation\n",
    "\n",
    "'''"
   ]
  },
  {
   "cell_type": "code",
   "execution_count": 14,
   "metadata": {},
   "outputs": [],
   "source": [
    "from sklearn.datasets import load_boston\n",
    "import sklearn.ensemble\n",
    "import numpy as np\n",
    "import lime\n",
    "import lime.lime_tabular\n",
    "import pickle\n",
    "from sklearn.linear_model import LinearRegression\n",
    "import shap\n",
    "import pandas as pd"
   ]
  },
  {
   "cell_type": "code",
   "execution_count": 11,
   "metadata": {},
   "outputs": [],
   "source": [
    "boston = load_boston()\n",
    "train, test, labels_train, labels_test = sklearn.model_selection.train_test_split(boston.data, boston.target, train_size=0.80)\n",
    "\n",
    "# Model is trainined using Random Forest based algorithm\n",
    "rf = sklearn.ensemble.RandomForestRegressor(n_estimators=1000)\n",
    "rf.fit(train, labels_train)\n",
    "filename = 'RandomForest.pkl'\n",
    "pickle.dump(rf, open(filename, 'wb'))\n",
    "random_forest_pickle = pickle.load(open('RandomForest.pkl', 'rb'))\n",
    "rf_predicted = random_forest_pickle.predict(test)\n",
    "\n",
    "'''\n",
    "*** Model training using Linear Regression based algorithm ***\n",
    "\n",
    "lm = LinearRegression()\n",
    "lrmodel = lm.fit(train, labels_train)\n",
    "with open('lr_model_pkl.pkl', 'wb') as fid:\n",
    "    pickle.dump(lrmodel, fid)\n",
    "\n",
    "with open('lr_model_pkl.pkl', 'rb') as fid:\n",
    "    lr_model_import = pickle.load(fid)    \n",
    "\n",
    "lr_predicted = lr_model_import.predict(test)\n",
    "'''"
   ]
  },
  {
   "cell_type": "code",
   "execution_count": 7,
   "metadata": {},
   "outputs": [
    {
     "data": {
      "text/html": [
       "[{'trueClass': 18.7, 'predictedClass': 19.1606, 'explanation': [('RM <= 5.89', -4.388392237756506), ('DIS > 5.40', -0.9704594535423174), ('11.04 < LSTAT <= 16.31', -0.7844610913656047), ('277.00 < TAX <= 322.00', -0.5981090511782866), ('42.05 < AGE <= 74.60', 0.47574488262526254)]}, {'trueClass': 16.1, 'predictedClass': 16.007200000000047, 'explanation': [('LSTAT > 16.31', -5.214855730202313), ('6.18 < RM <= 6.64', -2.1571013474471536), ('NOX > 0.62', -0.7292633733245254), ('322.00 < TAX <= 666.00', -0.5945608683825083), ('18.90 < PTRATIO <= 20.20', -0.531733503594978)]}, {'trueClass': 17.8, 'predictedClass': 13.819400000000007, 'explanation': [('LSTAT > 16.31', -5.169426320746057), ('RM <= 5.89', -4.506162660280874), ('DIS <= 2.17', 1.4132647822584523), ('NOX > 0.62', -1.0985526122850804), ('PTRATIO <= 17.00', 0.634351745143907)]}]"
      ],
      "text/plain": [
       "[{'trueClass': 18.7,\n",
       "  'predictedClass': 19.1606,\n",
       "  'explanation': [('RM <= 5.89', -4.388392237756506),\n",
       "   ('DIS > 5.40', -0.9704594535423174),\n",
       "   ('11.04 < LSTAT <= 16.31', -0.7844610913656047),\n",
       "   ('277.00 < TAX <= 322.00', -0.5981090511782866),\n",
       "   ('42.05 < AGE <= 74.60', 0.47574488262526254)]},\n",
       " {'trueClass': 16.1,\n",
       "  'predictedClass': 16.007200000000047,\n",
       "  'explanation': [('LSTAT > 16.31', -5.214855730202313),\n",
       "   ('6.18 < RM <= 6.64', -2.1571013474471536),\n",
       "   ('NOX > 0.62', -0.7292633733245254),\n",
       "   ('322.00 < TAX <= 666.00', -0.5945608683825083),\n",
       "   ('18.90 < PTRATIO <= 20.20', -0.531733503594978)]},\n",
       " {'trueClass': 17.8,\n",
       "  'predictedClass': 13.819400000000007,\n",
       "  'explanation': [('LSTAT > 16.31', -5.169426320746057),\n",
       "   ('RM <= 5.89', -4.506162660280874),\n",
       "   ('DIS <= 2.17', 1.4132647822584523),\n",
       "   ('NOX > 0.62', -1.0985526122850804),\n",
       "   ('PTRATIO <= 17.00', 0.634351745143907)]}]"
      ]
     },
     "execution_count": 7,
     "metadata": {},
     "output_type": "execute_result"
    }
   ],
   "source": [
    "'''\n",
    "            **** LIME EXPLANATION ****\n",
    "A. This Section provides Lime LimeTabularExplainer implementation\n",
    "B. You can defined the num_feature attribute depends on for how many input features you would like to get explanation\n",
    "   Max value of this attribute should be actual number of input features.\n",
    "\n",
    "'''\n",
    "\n",
    "categorical_features = np.argwhere(np.array([len(set(boston.data[:,x])) for x in range(boston.data.shape[1])]) <= 10).flatten()\n",
    "\n",
    "#no need to mention class_name'labels in regression use case\n",
    "explainer = lime.lime_tabular.LimeTabularExplainer(train, feature_names=boston.feature_names, categorical_features=categorical_features, mode='regression')\n",
    "\n",
    "explanation_record_entries = []\n",
    "for i in range(3): # for i in range(len(test))\n",
    "    exp = explainer.explain_instance(test[i], random_forest_pickle.predict, num_features=5)\n",
    "    lim = {\n",
    "        \"trueClass\": labels_test[i],\n",
    "        \"predictedClass\": rf_predicted[i],\n",
    "        \"explanation\":  exp.as_list()\n",
    "    }\n",
    "    explanation_record_entries.append(lim)\n",
    "\n",
    "explanation_record_entries"
   ]
  },
  {
   "cell_type": "code",
   "execution_count": 15,
   "metadata": {},
   "outputs": [
    {
     "name": "stdout",
     "output_type": "stream",
     "text": [
      "[0.36327886 0.01014925 0.09304091 0.01263563 0.43474591 4.3535575\n",
      " 0.27577363 0.39605205 0.05388841 0.18566311 0.32287719 0.12229238\n",
      " 3.22301472]\n",
      "*************\n"
     ]
    },
    {
     "data": {
      "text/html": [
       "<div>\n",
       "<style scoped>\n",
       "    .dataframe tbody tr th:only-of-type {\n",
       "        vertical-align: middle;\n",
       "    }\n",
       "\n",
       "    .dataframe tbody tr th {\n",
       "        vertical-align: top;\n",
       "    }\n",
       "\n",
       "    .dataframe thead th {\n",
       "        text-align: right;\n",
       "    }\n",
       "</style>\n",
       "<table border=\"1\" class=\"dataframe\">\n",
       "  <thead>\n",
       "    <tr style=\"text-align: right;\">\n",
       "      <th></th>\n",
       "      <th>column_name</th>\n",
       "      <th>shap_importance</th>\n",
       "    </tr>\n",
       "  </thead>\n",
       "  <tbody>\n",
       "    <tr>\n",
       "      <th>5</th>\n",
       "      <td>RM</td>\n",
       "      <td>4.35356</td>\n",
       "    </tr>\n",
       "    <tr>\n",
       "      <th>12</th>\n",
       "      <td>LSTAT</td>\n",
       "      <td>3.22301</td>\n",
       "    </tr>\n",
       "    <tr>\n",
       "      <th>4</th>\n",
       "      <td>NOX</td>\n",
       "      <td>0.434746</td>\n",
       "    </tr>\n",
       "    <tr>\n",
       "      <th>7</th>\n",
       "      <td>DIS</td>\n",
       "      <td>0.396052</td>\n",
       "    </tr>\n",
       "    <tr>\n",
       "      <th>0</th>\n",
       "      <td>CRIM</td>\n",
       "      <td>0.363279</td>\n",
       "    </tr>\n",
       "  </tbody>\n",
       "</table>\n",
       "</div>"
      ],
      "text/plain": [
       "   column_name shap_importance\n",
       "5           RM         4.35356\n",
       "12       LSTAT         3.22301\n",
       "4          NOX        0.434746\n",
       "7          DIS        0.396052\n",
       "0         CRIM        0.363279"
      ]
     },
     "execution_count": 15,
     "metadata": {},
     "output_type": "execute_result"
    }
   ],
   "source": [
    "'''\n",
    "            **** SHAP EXPLANATION ****\n",
    "A. This Section provides SHAP  implementation\n",
    "\n",
    "'''\n",
    "\n",
    "algorithm = 'randomForest'\n",
    "if algorithm in ['linearRegression', 'logisticRegression', 'naivebayes', 'svm']:\n",
    "    explainer = shap.LinearExplainer(random_forest_pickle, train, feature_dependence=\"independent\")\n",
    "elif algorithm in ['decisionTree', 'randomForest', 'gradientBoosting']:\n",
    "    explainer = shap.TreeExplainer(random_forest_pickle)\n",
    "\n",
    "shap_values = explainer.shap_values(test)\n",
    "shap_sum = np.abs(shap_values).mean(axis=0)\n",
    "\n",
    "\n",
    "feature_names=boston.feature_names\n",
    "\n",
    "importance_df = pd.DataFrame([feature_names, shap_sum.tolist()]).T\n",
    "importance_df.columns = ['column_name', 'shap_importance']\n",
    "importance_df = importance_df.sort_values('shap_importance', ascending=False)\n",
    "importance_df = importance_df[importance_df['shap_importance'] > 0.10]\n",
    "importance_df.head()"
   ]
  },
  {
   "cell_type": "code",
   "execution_count": 17,
   "metadata": {},
   "outputs": [
    {
     "data": {
      "image/png": "[encoded data removed]",
      "text/plain": [
       "<Figure size 576x482.4 with 1 Axes>"
      ]
     },
     "metadata": {
      "needs_background": "light"
     },
     "output_type": "display_data"
    }
   ],
   "source": [
    "shap.summary_plot(shap_values, test, feature_names=boston.feature_names, plot_type=\"bar\")"
   ]
  },
  {
   "cell_type": "code",
   "execution_count": null,
   "metadata": {},
   "outputs": [],
   "source": []
  }
 ],
 "metadata": {
  "kernelspec": {
   "display_name": "Python 3",
   "language": "python",
   "name": "python3"
  },
  "language_info": {
   "codemirror_mode": {
    "name": "ipython",
    "version": 3
   },
   "file_extension": ".py",
   "mimetype": "text/x-python",
   "name": "python",
   "nbconvert_exporter": "python",
   "pygments_lexer": "ipython3",
   "version": "3.6.6"
  }
 },
 "nbformat": 4,
 "nbformat_minor": 2
}
