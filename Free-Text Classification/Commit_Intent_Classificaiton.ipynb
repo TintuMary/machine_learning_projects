{
 "cells": [
  {
   "cell_type": "code",
   "execution_count": null,
   "metadata": {},
   "outputs": [],
   "source": [
    "'''\n",
    "                ******** FREE-TEXT Classification for Commit Intent Use case.\n",
    "                \n",
    "Two algorithm is used for model training.\n",
    "a. RandomForestClassifier\n",
    "b. MultiNomial Naive Bayes \n",
    "\n",
    "'''"
   ]
  },
  {
   "cell_type": "code",
   "execution_count": 8,
   "metadata": {},
   "outputs": [
    {
     "name": "stdout",
     "output_type": "stream",
     "text": [
      "[nltk_data] Downloading package stopwords to\n",
      "[nltk_data]     C:\\Users\\618757\\AppData\\Roaming\\nltk_data...\n",
      "[nltk_data]   Package stopwords is already up-to-date!\n"
     ]
    },
    {
     "data": {
      "text/plain": [
       "True"
      ]
     },
     "execution_count": 8,
     "metadata": {},
     "output_type": "execute_result"
    }
   ],
   "source": [
    "from pandas import read_csv\n",
    "import pickle\n",
    "import pandas as pd\n",
    "import re\n",
    "import numpy as np\n",
    "from nltk.corpus import stopwords\n",
    "from nltk.stem import PorterStemmer\n",
    "from sklearn.feature_extraction.text import TfidfVectorizer\n",
    "from sklearn.pipeline import Pipeline\n",
    "from sklearn.metrics import classification_report, confusion_matrix\n",
    "from sklearn.model_selection import train_test_split\n",
    "from sklearn.feature_selection import SelectKBest, chi2\n",
    "from sklearn.naive_bayes import GaussianNB\n",
    "from sklearn.naive_bayes import MultinomialNB\n",
    "import nltk\n",
    "from sklearn.externals import joblib\n",
    "from pathlib import Path\n",
    "from sklearn.metrics import accuracy_score\n",
    "\n",
    "from sklearn.feature_selection import SelectKBest, chi2\n",
    "from sklearn.ensemble import RandomForestClassifier\n",
    "\n",
    "\n",
    "nltk.download('stopwords')"
   ]
  },
  {
   "cell_type": "code",
   "execution_count": 2,
   "metadata": {},
   "outputs": [],
   "source": [
    "#Part-1 Load the data\n",
    "\n",
    "filename = 'commit_intent_training_V2.csv'\n",
    "names = ['commit message', 'why the commit']\n",
    "df = read_csv(filename, names=names)"
   ]
  },
  {
   "cell_type": "code",
   "execution_count": 3,
   "metadata": {},
   "outputs": [],
   "source": [
    "# Part-2 - Initialize the vectorizer to convert free-text into numerical representation\n",
    "\n",
    "stemmer = PorterStemmer()\n",
    "words = stopwords.words(\"english\")\n",
    "df['cleaned'] = df['commit message'].apply(lambda x: \" \".join([stemmer.stem(i) for i in re.sub(\"[^a-zA-Z]\", \" \", x).split() if i not in words]).lower())\n",
    "\n",
    "\n",
    "vectorizer = TfidfVectorizer(min_df= 3, stop_words=\"english\", sublinear_tf=True, norm='l2', ngram_range=(1, 2))\n",
    "final_features = vectorizer.fit_transform(df['cleaned']).toarray()"
   ]
  },
  {
   "cell_type": "code",
   "execution_count": 4,
   "metadata": {},
   "outputs": [],
   "source": [
    "# Part-3 Split the data into training and testing dataset\n",
    "\n",
    "X = df['cleaned']\n",
    "Y = df['why the commit']\n",
    "X_train, X_test, y_train, y_test = train_test_split(X, Y, test_size=0.25)"
   ]
  },
  {
   "cell_type": "code",
   "execution_count": 13,
   "metadata": {},
   "outputs": [
    {
     "name": "stdout",
     "output_type": "stream",
     "text": [
      "Accuracy Score of MultiNomial Naive Bayes model: 98.10650887573964%\n",
      "\n",
      " Classification Report\n",
      "                                       precision    recall  f1-score   support\n",
      "\n",
      "                  adding new features       0.99      0.99      0.99       152\n",
      "                           bug fixing       0.99      1.00      0.99       278\n",
      "   commits that belong to no category       0.98      0.88      0.93        65\n",
      "                   design improvement       0.94      0.97      0.96       102\n",
      "improving non-functional requirements       0.98      0.99      0.98       248\n",
      "\n",
      "                             accuracy                           0.98       845\n",
      "                            macro avg       0.98      0.96      0.97       845\n",
      "                         weighted avg       0.98      0.98      0.98       845\n",
      "\n",
      "\n",
      " Confusion Matrix\n",
      "[[150   0   1   1   0]\n",
      " [  0 278   0   0   0]\n",
      " [  0   3  57   2   3]\n",
      " [  1   0   0  99   2]\n",
      " [  0   0   0   3 245]]\n"
     ]
    }
   ],
   "source": [
    "# Part-4  train the model using MultiNomial Naive Bayes algorithm\n",
    "\n",
    "pipeline = Pipeline([('vect', vectorizer),\n",
    "                     ('chi',  SelectKBest(chi2, k=1200)),\n",
    "                     ('clf', MultinomialNB())])\n",
    "\n",
    "modelnb = pipeline.fit(X_train, y_train)\n",
    "\n",
    "ytest = np.array(y_test)\n",
    "predictions =  modelrf.predict(X_test)\n",
    "\n",
    "print(\"Accuracy Score of MultiNomial Naive Bayes model: %s%%\" % (100*accuracy_score(ytest, predictions)))\n",
    "\n",
    "print('\\n Classification Report')\n",
    "print(classification_report(ytest, predictions))\n",
    "print('\\n Confusion Matrix')\n",
    "print(confusion_matrix(ytest, predictions))"
   ]
  },
  {
   "cell_type": "code",
   "execution_count": 10,
   "metadata": {},
   "outputs": [
    {
     "name": "stdout",
     "output_type": "stream",
     "text": [
      "Accuracy Score of Random Forest Classifier model: 98.10650887573964%\n",
      "Commit Intent Prediction of given commit message:  ['bug fixing']\n"
     ]
    },
    {
     "name": "stderr",
     "output_type": "stream",
     "text": [
      "C:\\Users\\618757\\AppData\\Roaming\\Python\\Python36\\site-packages\\sklearn\\ensemble\\forest.py:245: FutureWarning: The default value of n_estimators will change from 10 in version 0.20 to 100 in 0.22.\n",
      "  \"10 in version 0.20 to 100 in 0.22.\", FutureWarning)\n"
     ]
    }
   ],
   "source": [
    "# Part-5  train the model using RandomForestClassifier algorithm\n",
    "\n",
    "\n",
    "pipeline = Pipeline([('vect', vectorizer),\n",
    "                     ('chi',  SelectKBest(chi2, k=1200)),\n",
    "                     ('clf', RandomForestClassifier())])\n",
    "\n",
    "modelrf = pipeline.fit(X_train, y_train)\n",
    "ytest = np.array(y_test)\n",
    "predictions =  modelrf.predict(X_test)\n",
    "\n",
    "print(\"Accuracy Score of Random Forest Classifier model: %s%%\" % (100*accuracy_score(ytest, predictions)))\n",
    "\n",
    "whycommit_prediction1 = modelrf.predict([\"[Automation] - Fix test failure for test_02_revert_vm_snapshots in smoke/test_vm_snapshots.py\"])\n",
    "print('Commit Intent Prediction of given commit message: ', whycommit_prediction1)"
   ]
  },
  {
   "cell_type": "code",
   "execution_count": null,
   "metadata": {},
   "outputs": [],
   "source": []
  }
 ],
 "metadata": {
  "kernelspec": {
   "display_name": "mypika",
   "language": "python",
   "name": "mypika"
  },
  "language_info": {
   "codemirror_mode": {
    "name": "ipython",
    "version": 3
   },
   "file_extension": ".py",
   "mimetype": "text/x-python",
   "name": "python",
   "nbconvert_exporter": "python",
   "pygments_lexer": "ipython3",
   "version": "3.6.6"
  }
 },
 "nbformat": 4,
 "nbformat_minor": 2
}
