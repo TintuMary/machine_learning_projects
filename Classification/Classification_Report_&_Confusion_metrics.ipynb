{
 "cells": [
  {
   "cell_type": "code",
   "execution_count": 13,
   "metadata": {},
   "outputs": [
    {
     "data": {
      "text/plain": [
       "'\\nThis Notebook intends to show how to generate Classificaiton Reprot and Confusion Matrix for any classification problem.\\n\\nAlso, it has code to convert these metrics into either String or Json format.  \\n\\n'"
      ]
     },
     "execution_count": 13,
     "metadata": {},
     "output_type": "execute_result"
    }
   ],
   "source": [
    "'''\n",
    "This Notebook intends to show how to generate Classificaiton Reprot and Confusion Matrix for any classification problem.\n",
    "\n",
    "Also, it has code to convert these metrics into either String or Json format.  \n",
    "\n",
    "'''"
   ]
  },
  {
   "cell_type": "code",
   "execution_count": 14,
   "metadata": {},
   "outputs": [],
   "source": [
    "from sklearn.datasets import make_blobs\n",
    "from sklearn.svm import LinearSVC\n",
    "from sklearn.metrics import confusion_matrix\n",
    "from sklearn.utils.multiclass import unique_labels\n",
    "from sklearn.metrics import classification_report\n",
    "from collections import defaultdict\n",
    "import pandas as pd\n",
    "import json"
   ]
  },
  {
   "cell_type": "code",
   "execution_count": 15,
   "metadata": {},
   "outputs": [
    {
     "name": "stderr",
     "output_type": "stream",
     "text": [
      "C:\\Users\\618757\\Anaconda3\\envs\\mypika\\lib\\site-packages\\sklearn\\svm\\base.py:931: ConvergenceWarning: Liblinear failed to converge, increase the number of iterations.\n",
      "  \"the number of iterations.\", ConvergenceWarning)\n"
     ]
    }
   ],
   "source": [
    "data, labels = make_blobs(n_samples=100, n_features=2, centers=2,cluster_std=4,random_state=2)\n",
    "\n",
    "#Train Model using SVC algorithm\n",
    "svc = LinearSVC()\n",
    "svc.fit(data[:70], labels[:70])\n",
    "\n",
    "#Test model\n",
    "y_pred = svc.predict(data[70:])\n",
    "y_true = labels[70:]"
   ]
  },
  {
   "cell_type": "code",
   "execution_count": 16,
   "metadata": {},
   "outputs": [],
   "source": [
    "def convertClassificationReportInJsonStringFormat(cr):\n",
    "    # Parse rows\n",
    "    tmp = list()\n",
    "    for row in cr.split(\"\\n\"):\n",
    "        parsed_row = [x for x in row.split(\"  \") if len(x) > 0]\n",
    "        if len(parsed_row) > 0:\n",
    "            tmp.append(parsed_row)\n",
    "    \n",
    "    measures = tmp[0]\n",
    "    D_class_data =  {}\n",
    "    for row in tmp[1:]:\n",
    "        class_label = row[0].strip()\n",
    "        D_class_data[class_label] = {}\n",
    "        for j, m in enumerate(measures):\n",
    "            D_class_data[class_label][m.strip()] = float(row[j + 1].strip())\n",
    "    return D_class_data"
   ]
  },
  {
   "cell_type": "code",
   "execution_count": 20,
   "metadata": {},
   "outputs": [
    {
     "name": "stdout",
     "output_type": "stream",
     "text": [
      "classificaiton report 1\n",
      "\n",
      "              precision    recall  f1-score   support\n",
      "\n",
      "           0       0.88      0.93      0.90        15\n",
      "           1       0.93      0.87      0.90        15\n",
      "\n",
      "   micro avg       0.90      0.90      0.90        30\n",
      "   macro avg       0.90      0.90      0.90        30\n",
      "weighted avg       0.90      0.90      0.90        30\n",
      "\n",
      "\n",
      "classifiction report 2 in JSON String format\n",
      "\n",
      "{\"0\": {\"precision\": 0.875, \"recall\": 0.9333333333333333, \"f1-score\": 0.9032258064516129, \"support\": 15}, \"1\": {\"precision\": 0.9285714285714286, \"recall\": 0.8666666666666667, \"f1-score\": 0.896551724137931, \"support\": 15}, \"micro avg\": {\"precision\": 0.9, \"recall\": 0.9, \"f1-score\": 0.9, \"support\": 30}, \"macro avg\": {\"precision\": 0.9017857142857143, \"recall\": 0.9, \"f1-score\": 0.899888765294772, \"support\": 30}, \"weighted avg\": {\"precision\": 0.9017857142857143, \"recall\": 0.9, \"f1-score\": 0.899888765294772, \"support\": 30}}\n",
      "\n",
      "classificaiton report 3 in JSON String format\n",
      "\n",
      "{'0': {'precision': 0.88, 'recall': 0.93, 'f1-score': 0.9, 'support': 15.0}, '1': {'precision': 0.93, 'recall': 0.87, 'f1-score': 0.9, 'support': 15.0}, 'micro avg': {'precision': 0.9, 'recall': 0.9, 'f1-score': 0.9, 'support': 30.0}, 'macro avg': {'precision': 0.9, 'recall': 0.9, 'f1-score': 0.9, 'support': 30.0}, 'weighted avg': {'precision': 0.9, 'recall': 0.9, 'f1-score': 0.9, 'support': 30.0}}\n"
     ]
    }
   ],
   "source": [
    "# This section is using Sklearn library to getting classification reprot and confusion matrix.\n",
    "\n",
    "classes = unique_labels(y_true, y_pred)\n",
    "\n",
    "print('classificaiton report 1\\n')\n",
    "print(classification_report(y_true,y_pred))\n",
    "\n",
    "print('\\nclassifiction report 2 in JSON String format\\n')\n",
    "print(json.dumps(classification_report(y_true,y_pred, output_dict=True)))\n",
    "\n",
    "\n",
    "print('\\nclassificaiton report 3 in JSON String format\\n')\n",
    "classifcation_parse_reprot = convertClassificationReportInJsonStringFormat(classification_report(y_true, y_pred))\n",
    "print(classifcation_parse_reprot)\n"
   ]
  },
  {
   "cell_type": "code",
   "execution_count": 21,
   "metadata": {},
   "outputs": [
    {
     "name": "stdout",
     "output_type": "stream",
     "text": [
      "Confusion Matrix 1\n",
      "\n",
      "[[14  1]\n",
      " [ 2 13]]\n",
      "\n",
      "Confusion Matrix 2 in JSON String format\n",
      "\n",
      "         Predicted Class 0  Predicted Class 1\n",
      "Class 0                 14                  1\n",
      "Class 1                  2                 13\n",
      "\n",
      "Confusion Matrix 3 in list format\n",
      "\n",
      "[[14, 1], [2, 13]]\n"
     ]
    }
   ],
   "source": [
    "print('Confusion Matrix 1\\n')\n",
    "print(confusion_matrix(y_true,y_pred))\n",
    "\n",
    "\n",
    "print('\\nConfusion Matrix 2 in JSON String format\\n')\n",
    "confusion_df = pd.DataFrame(confusion_matrix(y_true,y_pred),\n",
    "             columns=[\"Predicted Class \" + str(class_name) for class_name in [0,1]],\n",
    "             index = [\"Class \" + str(class_name) for class_name in [0,1]])\n",
    "print(confusion_df)\n",
    "\n",
    "\n",
    "print('\\nConfusion Matrix 3 in list format\\n')\n",
    "print(confusion_matrix(y_true,y_pred).tolist())"
   ]
  }
 ],
 "metadata": {
  "kernelspec": {
   "display_name": "Python 3",
   "language": "python",
   "name": "python3"
  },
  "language_info": {
   "codemirror_mode": {
    "name": "ipython",
    "version": 3
   },
   "file_extension": ".py",
   "mimetype": "text/x-python",
   "name": "python",
   "nbconvert_exporter": "python",
   "pygments_lexer": "ipython3",
   "version": "3.6.6"
  }
 },
 "nbformat": 4,
 "nbformat_minor": 2
}
