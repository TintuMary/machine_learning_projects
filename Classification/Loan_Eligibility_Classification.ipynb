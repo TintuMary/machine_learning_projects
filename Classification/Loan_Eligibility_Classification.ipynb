{
 "cells": [
  {
   "cell_type": "code",
   "execution_count": null,
   "metadata": {},
   "outputs": [],
   "source": [
    "'''\n",
    "                ***** Loan Eligibility Classification Use case *****\n",
    "                \n",
    "This notebook provides the different algorithm implementation for Classification based models (Loan Eligibility). \n",
    "A. LogisticRegression\n",
    "B. GaussianNB\n",
    "C. RandomForestClassifier\n",
    "D. support vector machines (SVM)\n",
    "\n",
    "'''"
   ]
  },
  {
   "cell_type": "code",
   "execution_count": 1,
   "metadata": {},
   "outputs": [],
   "source": [
    "from sklearn.datasets import load_boston\n",
    "import sklearn.ensemble\n",
    "import numpy as np\n",
    "import pickle\n",
    "from sklearn.linear_model import LinearRegression, LogisticRegression\n",
    "import pandas as pd\n",
    "from sklearn.metrics import accuracy_score\n",
    "from sklearn.preprocessing import LabelEncoder, OneHotEncoder, StandardScaler\n",
    "from sklearn.model_selection import train_test_split\n",
    "from sklearn.naive_bayes import GaussianNB\n",
    "from sklearn.ensemble import RandomForestClassifier\n",
    "from sklearn.svm import SVC"
   ]
  },
  {
   "cell_type": "code",
   "execution_count": 2,
   "metadata": {},
   "outputs": [
    {
     "data": {
      "text/html": [
       "<div>\n",
       "<style scoped>\n",
       "    .dataframe tbody tr th:only-of-type {\n",
       "        vertical-align: middle;\n",
       "    }\n",
       "\n",
       "    .dataframe tbody tr th {\n",
       "        vertical-align: top;\n",
       "    }\n",
       "\n",
       "    .dataframe thead th {\n",
       "        text-align: right;\n",
       "    }\n",
       "</style>\n",
       "<table border=\"1\" class=\"dataframe\">\n",
       "  <thead>\n",
       "    <tr style=\"text-align: right;\">\n",
       "      <th></th>\n",
       "      <th>age</th>\n",
       "      <th>fnlwgt</th>\n",
       "      <th>education-num</th>\n",
       "      <th>marital-status</th>\n",
       "      <th>sex</th>\n",
       "      <th>current-worth</th>\n",
       "      <th>outstanding-credit</th>\n",
       "      <th>hours-per-week</th>\n",
       "      <th>loan-eligibility</th>\n",
       "    </tr>\n",
       "  </thead>\n",
       "  <tbody>\n",
       "    <tr>\n",
       "      <th>0</th>\n",
       "      <td>39</td>\n",
       "      <td>77516</td>\n",
       "      <td>13</td>\n",
       "      <td>0</td>\n",
       "      <td>0</td>\n",
       "      <td>2174</td>\n",
       "      <td>0</td>\n",
       "      <td>40</td>\n",
       "      <td>ineligible</td>\n",
       "    </tr>\n",
       "    <tr>\n",
       "      <th>1</th>\n",
       "      <td>50</td>\n",
       "      <td>83311</td>\n",
       "      <td>13</td>\n",
       "      <td>1</td>\n",
       "      <td>0</td>\n",
       "      <td>0</td>\n",
       "      <td>0</td>\n",
       "      <td>13</td>\n",
       "      <td>ineligible</td>\n",
       "    </tr>\n",
       "    <tr>\n",
       "      <th>2</th>\n",
       "      <td>38</td>\n",
       "      <td>215646</td>\n",
       "      <td>9</td>\n",
       "      <td>0</td>\n",
       "      <td>0</td>\n",
       "      <td>0</td>\n",
       "      <td>0</td>\n",
       "      <td>40</td>\n",
       "      <td>ineligible</td>\n",
       "    </tr>\n",
       "    <tr>\n",
       "      <th>3</th>\n",
       "      <td>53</td>\n",
       "      <td>234721</td>\n",
       "      <td>7</td>\n",
       "      <td>1</td>\n",
       "      <td>0</td>\n",
       "      <td>0</td>\n",
       "      <td>0</td>\n",
       "      <td>40</td>\n",
       "      <td>ineligible</td>\n",
       "    </tr>\n",
       "    <tr>\n",
       "      <th>4</th>\n",
       "      <td>28</td>\n",
       "      <td>338409</td>\n",
       "      <td>13</td>\n",
       "      <td>1</td>\n",
       "      <td>1</td>\n",
       "      <td>0</td>\n",
       "      <td>0</td>\n",
       "      <td>40</td>\n",
       "      <td>ineligible</td>\n",
       "    </tr>\n",
       "  </tbody>\n",
       "</table>\n",
       "</div>"
      ],
      "text/plain": [
       "   age  fnlwgt  education-num  marital-status  sex  current-worth  \\\n",
       "0   39   77516             13               0    0           2174   \n",
       "1   50   83311             13               1    0              0   \n",
       "2   38  215646              9               0    0              0   \n",
       "3   53  234721              7               1    0              0   \n",
       "4   28  338409             13               1    1              0   \n",
       "\n",
       "   outstanding-credit  hours-per-week loan-eligibility  \n",
       "0                   0              40       ineligible  \n",
       "1                   0              13       ineligible  \n",
       "2                   0              40       ineligible  \n",
       "3                   0              40       ineligible  \n",
       "4                   0              40       ineligible  "
      ]
     },
     "execution_count": 2,
     "metadata": {},
     "output_type": "execute_result"
    }
   ],
   "source": [
    "df = pd.read_csv('loanEligibility.csv', encoding='latin1')\n",
    "\n",
    "df[\"sex\"] = df[\"sex\"].map({\"Male\": 0, \"Female\":1})\n",
    "df[\"marital-status\"] = df[\"marital-status\"].replace(['Never-married','Divorced','Separated','Widowed'], 'Single')\n",
    "df[\"marital-status\"] = df[\"marital-status\"].replace(['Married-civ-spouse','Married-spouse-absent','Married-AF-spouse'], 'Married')\n",
    "df[\"marital-status\"] = df[\"marital-status\"].map({\"Married\":1, \"Single\":0})\n",
    "df[\"marital-status\"] = df[\"marital-status\"].astype(int)\n",
    "\n",
    "# Drop the data we don't want to use\n",
    "df.drop(labels=[\"workclass\",\"education\",\"occupation\",\"relationship\",\"race\",\"native-country\"], axis = 1, inplace = True)\n",
    "feature_names = df.columns\n",
    "df.head()"
   ]
  },
  {
   "cell_type": "code",
   "execution_count": 5,
   "metadata": {},
   "outputs": [],
   "source": [
    "array = df.values\n",
    "X = array[:,0:8]\n",
    "Y = array[:,8]\n",
    "\n",
    "validation_size = 0.20\n",
    "seed = 7\n",
    "num_trees = 100\n",
    "max_features = 3\n",
    "\n",
    "X_train, X_validation, Y_train, Y_validation = train_test_split(X,Y,\n",
    "    test_size=validation_size,random_state=seed)"
   ]
  },
  {
   "cell_type": "code",
   "execution_count": 6,
   "metadata": {},
   "outputs": [
    {
     "name": "stderr",
     "output_type": "stream",
     "text": [
      "C:\\Users\\618757\\AppData\\Roaming\\Python\\Python36\\site-packages\\sklearn\\linear_model\\logistic.py:432: FutureWarning: Default solver will be changed to 'lbfgs' in 0.22. Specify a solver to silence this warning.\n",
      "  FutureWarning)\n"
     ]
    },
    {
     "name": "stdout",
     "output_type": "stream",
     "text": [
      "LogisticRegression Accuracy: 79.44111776447106%\n",
      "GaussianNB Accuracy: 79.24151696606786%\n",
      "RandomForestClassifier Accuracy: 83.95516658989712%\n"
     ]
    },
    {
     "name": "stderr",
     "output_type": "stream",
     "text": [
      "C:\\Users\\618757\\AppData\\Roaming\\Python\\Python36\\site-packages\\sklearn\\svm\\base.py:193: FutureWarning: The default value of gamma will change from 'auto' to 'scale' in version 0.22 to account better for unscaled features. Set gamma explicitly to 'auto' or 'scale' to avoid this warning.\n",
      "  \"avoid this warning.\", FutureWarning)\n"
     ]
    },
    {
     "name": "stdout",
     "output_type": "stream",
     "text": [
      "SVC Accuracy: 76.07861200675572%\n"
     ]
    }
   ],
   "source": [
    "lrmodel = LogisticRegression().fit(X_train, Y_train)\n",
    "predictions = lrmodel.predict(X_validation)\n",
    "print(\"LogisticRegression Accuracy: %s%%\" % (100*accuracy_score(Y_validation, predictions)))\n",
    "\n",
    "nbmodel = GaussianNB().fit(X_train, Y_train)\n",
    "predictions = nbmodel.predict(X_validation)\n",
    "print(\"GaussianNB Accuracy: %s%%\" % (100*accuracy_score(Y_validation, predictions)))\n",
    "\n",
    "rf = RandomForestClassifier(n_estimators=num_trees, max_features=max_features)\n",
    "rfmodel = rf.fit(X_train,Y_train)\n",
    "predictions = rfmodel.predict(X_validation)\n",
    "print(\"RandomForestClassifier Accuracy: %s%%\" % (100*accuracy_score(Y_validation, predictions)))\n",
    "\n",
    "sv = SVC()\n",
    "svmodel = sv.fit(X_train,Y_train)\n",
    "predictions = svmodel.predict(X_validation)\n",
    "print(\"SVC Accuracy: %s%%\" % (100*accuracy_score(Y_validation, predictions)))"
   ]
  },
  {
   "cell_type": "code",
   "execution_count": null,
   "metadata": {},
   "outputs": [],
   "source": []
  }
 ],
 "metadata": {
  "kernelspec": {
   "display_name": "Python 3",
   "language": "python",
   "name": "python3"
  },
  "language_info": {
   "codemirror_mode": {
    "name": "ipython",
    "version": 3
   },
   "file_extension": ".py",
   "mimetype": "text/x-python",
   "name": "python",
   "nbconvert_exporter": "python",
   "pygments_lexer": "ipython3",
   "version": "3.6.6"
  }
 },
 "nbformat": 4,
 "nbformat_minor": 2
}
