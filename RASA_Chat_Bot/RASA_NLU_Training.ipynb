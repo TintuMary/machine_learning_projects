{
 "cells": [
  {
   "cell_type": "code",
   "execution_count": 25,
   "metadata": {},
   "outputs": [],
   "source": [
    "from rasa_nlu.training_data import load_data\n",
    "from rasa_nlu.model import Trainer\n",
    "from rasa_nlu import config"
   ]
  },
  {
   "cell_type": "code",
   "execution_count": 16,
   "metadata": {},
   "outputs": [
    {
     "name": "stdout",
     "output_type": "stream",
     "text": [
      "Fitting 5 folds for each of 6 candidates, totalling 30 fits\n"
     ]
    },
    {
     "name": "stderr",
     "output_type": "stream",
     "text": [
      "[Parallel(n_jobs=1)]: Using backend SequentialBackend with 1 concurrent workers.\n",
      "[Parallel(n_jobs=1)]: Done  30 out of  30 | elapsed:    7.4s finished\n",
      "D:\\Users\\618757\\Anaconda3\\envs\\rasaenv\\lib\\site-packages\\sklearn\\externals\\joblib\\__init__.py:15: FutureWarning: sklearn.externals.joblib is deprecated in 0.21 and will be removed in 0.23. Please import this functionality directly from joblib, which can be installed with: pip install joblib. If this warning is raised when loading pickled models, you may need to re-serialize those models with scikit-learn 0.21+.\n",
      "  warnings.warn(msg, category=FutureWarning)\n"
     ]
    }
   ],
   "source": [
    "training_data = load_data('RASA_restaurant_data.json')\n",
    "trainer = Trainer(config.load(\"config.yml\"))\n",
    "\n",
    "#trainer = Trainer(config.load(\"supervised_embedding_config.yml\"))\n",
    "#config_file = {\"pipeline\": \"spacy_sklearn\"}\n",
    "#trainer = Trainer(config.load(config_file))\n",
    "\n",
    "trainer.train(training_data)\n",
    "model_directory = trainer.persist('./projects/default/')"
   ]
  },
  {
   "cell_type": "code",
   "execution_count": 21,
   "metadata": {},
   "outputs": [
    {
     "name": "stdout",
     "output_type": "stream",
     "text": [
      "<rasa_nlu.training_data.message.Message object at 0x000001F384859D48>\n"
     ]
    }
   ],
   "source": [
    "print(training_data.training_examples[22])"
   ]
  },
  {
   "cell_type": "code",
   "execution_count": 17,
   "metadata": {},
   "outputs": [
    {
     "data": {
      "text/plain": [
       "{'intent': {'name': 'restaurant_search', 'confidence': 0.9978131254703853},\n",
       " 'entities': [{'start': 12,\n",
       "   'end': 18,\n",
       "   'value': 'indian',\n",
       "   'entity': 'cuisine',\n",
       "   'confidence': 0.7260083509825286,\n",
       "   'extractor': 'CRFEntityExtractor'}],\n",
       " 'intent_ranking': [{'name': 'restaurant_search',\n",
       "   'confidence': 0.9978131254703853},\n",
       "  {'name': 'send_mail', 'confidence': 0.0018068804349220247},\n",
       "  {'name': 'thank', 'confidence': 0.00030894242742057315},\n",
       "  {'name': 'affirm', 'confidence': 2.655607568568687e-05},\n",
       "  {'name': 'greet', 'confidence': 2.0473828518278502e-05},\n",
       "  {'name': 'bye', 'confidence': 1.5745627010834664e-05},\n",
       "  {'name': 'deny', 'confidence': 8.276136057094383e-06}],\n",
       " 'text': 'Looking for indian restaurant'}"
      ]
     },
     "execution_count": 17,
     "metadata": {},
     "output_type": "execute_result"
    }
   ],
   "source": [
    "from rasa_nlu.model import Interpreter\n",
    "\n",
    "# where model_directory points to the model folder\n",
    "interpreter = Interpreter.load(model_directory)\n",
    "interpreter.parse(u\"Looking for indian restaurant\")"
   ]
  },
  {
   "cell_type": "code",
   "execution_count": null,
   "metadata": {},
   "outputs": [],
   "source": [
    "# this block is how to write sql query to get the rsults from SQL DB based on RASA NLU Model\n",
    "message = \"a cheap hotel in the north\"\n",
    "data = interpreter.parse(message)\n",
    "\n",
    "'''\n",
    "output of data:\n",
    "{'entities': [{'end': '7', 'entity': 'price', 'start': 2, 'value': 'lo'},\n",
    "  {'end': 26, 'entity': 'location', 'start': 21, 'value': 'north'}],\n",
    " 'intent': {'confidence': 0.9, 'name': 'hotel_search'}}\n",
    "'''\n",
    "\n",
    "params = {}\n",
    "for ent in data[\"entities\"]:\n",
    "    params[ent[\"entity\"]] = ent[\"value\"]\n",
    "\n",
    "# output of params -> {'location': 'north', 'price': 'lo'}\n",
    "    \n",
    "\n",
    "query = \"select name FROM hotels\"\n",
    "\n",
    "filters = [\"{}=?\".format(k) for k in params.keys()]\n",
    "# output of filters -> ['price=?', 'location=?']\n",
    "\n",
    "conditions = \" and \".join(filters)\n",
    "# output of conditions -> 'price=? and location=?'\n",
    "\n",
    "final_q = \" WHERE \".join([query, conditions])\n",
    "# output of final_q ->  'SELECT name FROM hotels WHERE price=? and location=?'\n",
    "\n",
    "t = tuple(params)\n"
   ]
  },
  {
   "cell_type": "code",
   "execution_count": null,
   "metadata": {},
   "outputs": [],
   "source": [
    "import sqlite3\n",
    "conn = sqlite3.connect(\"hotels.db\")\n",
    "conn.execute(final_q, t)"
   ]
  },
  {
   "cell_type": "code",
   "execution_count": null,
   "metadata": {},
   "outputs": [],
   "source": [
    "INIT = 0\n",
    "CHOOSE_COFFEE = 1\n",
    "ORDERED = 2\n",
    "\n",
    "policy_rules = {\n",
    "    (INIT, \"order\"): (CHOOSE_COFFEE, \"ok, Columbian or Kenyan?\"),\n",
    "    (CHOOSE_COFFEE, \"specify_coffee\"): \n",
    "    (ORDERED, \"perfect, the beans are on their way!\"),\n",
    "}\n",
    "\n",
    "policy_rules = {\n",
    "    (Start, \"Start\"): (INIT, \"I'm a bot to help you order coffee beans\"),\n",
    "    (INIT, \"order\"): (CHOOSE_COFFEE, \"ok, Colombian or Kenyan?\"),\n",
    "    (____, \"specify_coffee\"): (ORDERED, \"perfect, the beans are on their way!\"),\n",
    "    (____, \"____\"): (CHOOSE_COFFEE, \"We have two kinds of coffee beans - the Kenyan ones make a slightly sweeter coffee, and cost $6. The Brazilian beans make a nutty coffee and cost $5.\")    \n",
    "}\n",
    "\n",
    "messages = [\n",
    "    \"I'd like to become a professional dancer\",\n",
    "    \"well then I'd like to order some coffee\",\n",
    "    \"my favourite animal is a zebra\",\n",
    "    \"kenyan\"\n",
    "]\n",
    "\n",
    "state = INIT\n",
    "\n",
    "def interpret(message):\n",
    "    data = interpreter.parse(message)\n",
    "    \n",
    "\n",
    "def respond(state, message):\n",
    "   (new_state, response) = policy_rules[(state, interpret(message))]\n",
    "   return new_state, response\n",
    "\n",
    "def send_message(state, message):\n",
    "    new_state, response = respond(state, message)\n",
    "    return new_state\n",
    "\n",
    "for message in messages:    \n",
    "    state = send_message(state, message)"
   ]
  }
 ],
 "metadata": {
  "kernelspec": {
   "display_name": "rasaenv",
   "language": "python",
   "name": "rasaenv"
  },
  "language_info": {
   "codemirror_mode": {
    "name": "ipython",
    "version": 3
   },
   "file_extension": ".py",
   "mimetype": "text/x-python",
   "name": "python",
   "nbconvert_exporter": "python",
   "pygments_lexer": "ipython3",
   "version": "3.7.7"
  }
 },
 "nbformat": 4,
 "nbformat_minor": 4
}
