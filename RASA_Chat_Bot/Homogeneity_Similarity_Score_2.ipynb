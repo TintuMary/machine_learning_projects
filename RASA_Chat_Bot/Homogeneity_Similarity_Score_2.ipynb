{
 "cells": [
  {
   "cell_type": "code",
   "execution_count": 1,
   "metadata": {},
   "outputs": [],
   "source": [
    "from sklearn.datasets import fetch_20newsgroups\n",
    "from sklearn.decomposition import TruncatedSVD\n",
    "from sklearn.feature_extraction.text import TfidfVectorizer\n",
    "from sklearn.feature_extraction.text import HashingVectorizer\n",
    "from sklearn.feature_extraction.text import TfidfTransformer\n",
    "from sklearn.pipeline import make_pipeline\n",
    "from sklearn.preprocessing import Normalizer\n",
    "from sklearn import metrics\n",
    "\n",
    "from sklearn.cluster import KMeans, MiniBatchKMeans\n",
    "\n",
    "import logging\n",
    "from optparse import OptionParser\n",
    "import sys\n",
    "from time import time\n",
    "\n",
    "import numpy as np\n",
    "import pandas as pd"
   ]
  },
  {
   "cell_type": "code",
   "execution_count": 8,
   "metadata": {},
   "outputs": [
    {
     "name": "stdout",
     "output_type": "stream",
     "text": [
      "Silhouette Coefficient: 0.148\n"
     ]
    }
   ],
   "source": [
    "df = pd.DataFrame(columns = (\"q\", \"Intent\"))\n",
    "df[\"q\"] = np.array([0.1, 0.2, 0.3, 0.4, 11, 13, 14, 15, 21, 23, 24, 25])\n",
    "df[\"Intent\"] = np.array([0, 0, 0, 0, 1, 1, 1, 1, 2, 2, 2, 2])  #  0.790\n",
    "#df[\"Intent\"] = np.array([0, 1, 0, 2, 1, 2, 1, 0, 2, 2, 2, 1])  #  -0.125\n",
    "#df[\"Intent\"] = np.array([ 1, 1,  2, 2, 0, 0, 1, 1,2, 2, 0, 0]) # -0.187\n",
    "df[\"Intent\"] = np.array([ 1, 2, 3, 4, 1, 1, 1, 1, 2, 2, 2, 2])\n",
    "\n",
    "X = (df.q).values\n",
    "X = X.reshape(-1, 1)\n",
    "labels = df.Intent\n",
    "\n",
    "silhouette_avg = metrics.silhouette_score(X, labels)\n",
    "print(\"Silhouette Coefficient: %0.3f\"% metrics.silhouette_score(X, labels))"
   ]
  },
  {
   "cell_type": "code",
   "execution_count": 41,
   "metadata": {},
   "outputs": [
    {
     "data": {
      "text/html": [
       "<div>\n",
       "<style scoped>\n",
       "    .dataframe tbody tr th:only-of-type {\n",
       "        vertical-align: middle;\n",
       "    }\n",
       "\n",
       "    .dataframe tbody tr th {\n",
       "        vertical-align: top;\n",
       "    }\n",
       "\n",
       "    .dataframe thead th {\n",
       "        text-align: right;\n",
       "    }\n",
       "</style>\n",
       "<table border=\"1\" class=\"dataframe\">\n",
       "  <thead>\n",
       "    <tr style=\"text-align: right;\">\n",
       "      <th></th>\n",
       "      <th>q</th>\n",
       "      <th>Intent</th>\n",
       "    </tr>\n",
       "  </thead>\n",
       "  <tbody>\n",
       "    <tr>\n",
       "      <th>0</th>\n",
       "      <td>yep, will do thank you</td>\n",
       "      <td>affirm</td>\n",
       "    </tr>\n",
       "    <tr>\n",
       "      <th>1</th>\n",
       "      <td>I'm sure I will</td>\n",
       "      <td>affirm</td>\n",
       "    </tr>\n",
       "    <tr>\n",
       "      <th>2</th>\n",
       "      <td>ok i accept</td>\n",
       "      <td>affirm</td>\n",
       "    </tr>\n",
       "    <tr>\n",
       "      <th>3</th>\n",
       "      <td>show me chines restaurants in the north</td>\n",
       "      <td>restaurant_search</td>\n",
       "    </tr>\n",
       "    <tr>\n",
       "      <th>4</th>\n",
       "      <td>show me a mexican place in the centre</td>\n",
       "      <td>restaurant_search</td>\n",
       "    </tr>\n",
       "    <tr>\n",
       "      <th>5</th>\n",
       "      <td>i am looking for an indian spot called olaolao...</td>\n",
       "      <td>restaurant_search</td>\n",
       "    </tr>\n",
       "    <tr>\n",
       "      <th>6</th>\n",
       "      <td>search for restaurants</td>\n",
       "      <td>restaurant_search</td>\n",
       "    </tr>\n",
       "    <tr>\n",
       "      <th>7</th>\n",
       "      <td>I am looking a restaurant in 29432</td>\n",
       "      <td>restaurant_search</td>\n",
       "    </tr>\n",
       "    <tr>\n",
       "      <th>8</th>\n",
       "      <td>I am looking for some restaurants in Delhi.</td>\n",
       "      <td>restaurant_search</td>\n",
       "    </tr>\n",
       "    <tr>\n",
       "      <th>9</th>\n",
       "      <td>central indian restaurant</td>\n",
       "      <td>restaurant_search</td>\n",
       "    </tr>\n",
       "    <tr>\n",
       "      <th>10</th>\n",
       "      <td>i'm looking for a place to eat</td>\n",
       "      <td>restaurant_search</td>\n",
       "    </tr>\n",
       "    <tr>\n",
       "      <th>11</th>\n",
       "      <td>I do not want any emails</td>\n",
       "      <td>deny</td>\n",
       "    </tr>\n",
       "    <tr>\n",
       "      <th>12</th>\n",
       "      <td>nope, I dont want that</td>\n",
       "      <td>deny</td>\n",
       "    </tr>\n",
       "    <tr>\n",
       "      <th>13</th>\n",
       "      <td>no, I don't want that</td>\n",
       "      <td>deny</td>\n",
       "    </tr>\n",
       "    <tr>\n",
       "      <th>14</th>\n",
       "      <td>i don't think so</td>\n",
       "      <td>deny</td>\n",
       "    </tr>\n",
       "    <tr>\n",
       "      <th>15</th>\n",
       "      <td>i'm afraid not</td>\n",
       "      <td>deny</td>\n",
       "    </tr>\n",
       "    <tr>\n",
       "      <th>16</th>\n",
       "      <td>Thank you so much</td>\n",
       "      <td>thank</td>\n",
       "    </tr>\n",
       "    <tr>\n",
       "      <th>17</th>\n",
       "      <td>Thank you</td>\n",
       "      <td>thank</td>\n",
       "    </tr>\n",
       "    <tr>\n",
       "      <th>18</th>\n",
       "      <td>Thanks for that</td>\n",
       "      <td>thank</td>\n",
       "    </tr>\n",
       "    <tr>\n",
       "      <th>19</th>\n",
       "      <td>thanks a bunch for everything</td>\n",
       "      <td>thank</td>\n",
       "    </tr>\n",
       "  </tbody>\n",
       "</table>\n",
       "</div>"
      ],
      "text/plain": [
       "                                                    q             Intent\n",
       "0                              yep, will do thank you             affirm\n",
       "1                                     I'm sure I will             affirm\n",
       "2                                         ok i accept             affirm\n",
       "3             show me chines restaurants in the north  restaurant_search\n",
       "4               show me a mexican place in the centre  restaurant_search\n",
       "5   i am looking for an indian spot called olaolao...  restaurant_search\n",
       "6                              search for restaurants  restaurant_search\n",
       "7                  I am looking a restaurant in 29432  restaurant_search\n",
       "8         I am looking for some restaurants in Delhi.  restaurant_search\n",
       "9                           central indian restaurant  restaurant_search\n",
       "10                     i'm looking for a place to eat  restaurant_search\n",
       "11                           I do not want any emails               deny\n",
       "12                             nope, I dont want that               deny\n",
       "13                              no, I don't want that               deny\n",
       "14                                   i don't think so               deny\n",
       "15                                     i'm afraid not               deny\n",
       "16                                  Thank you so much              thank\n",
       "17                                          Thank you              thank\n",
       "18                                    Thanks for that              thank\n",
       "19                      thanks a bunch for everything              thank"
      ]
     },
     "execution_count": 41,
     "metadata": {},
     "output_type": "execute_result"
    }
   ],
   "source": [
    "df = pd.read_excel('rasa-generated-file_without_sno.xlsx')\n",
    "df = pd.read_excel('res_search_rasa.xlsx')\n",
    "df.head(50)"
   ]
  },
  {
   "cell_type": "code",
   "execution_count": 4,
   "metadata": {},
   "outputs": [],
   "source": [
    "#vectorizer = TfidfVectorizer(max_df=0.5, max_features=10000,min_df=2, stop_words='english',use_idf=True)\n",
    "vectorizer = TfidfVectorizer(min_df= 1, stop_words=\"english\", sublinear_tf=True, norm='l2', ngram_range=(1, 2))\n",
    "X = vectorizer.fit_transform(df.q).toarray()\n",
    "labels = df.Intent"
   ]
  },
  {
   "cell_type": "code",
   "execution_count": 5,
   "metadata": {},
   "outputs": [
    {
     "data": {
      "text/plain": [
       "['29432',\n",
       " 'accept',\n",
       " 'afraid',\n",
       " 'bunch',\n",
       " 'called',\n",
       " 'called olaolaolaolaolaola',\n",
       " 'central',\n",
       " 'central indian',\n",
       " 'centre',\n",
       " 'chines',\n",
       " 'chines restaurants',\n",
       " 'delhi',\n",
       " 'don',\n",
       " 'don think',\n",
       " 'don want',\n",
       " 'dont',\n",
       " 'dont want',\n",
       " 'eat',\n",
       " 'emails',\n",
       " 'indian',\n",
       " 'indian restaurant',\n",
       " 'indian spot',\n",
       " 'looking',\n",
       " 'looking indian',\n",
       " 'looking place',\n",
       " 'looking restaurant',\n",
       " 'looking restaurants',\n",
       " 'mexican',\n",
       " 'mexican place',\n",
       " 'nope',\n",
       " 'nope dont',\n",
       " 'north',\n",
       " 'ok',\n",
       " 'ok accept',\n",
       " 'olaolaolaolaolaola',\n",
       " 'place',\n",
       " 'place centre',\n",
       " 'place eat',\n",
       " 'restaurant',\n",
       " 'restaurant 29432',\n",
       " 'restaurants',\n",
       " 'restaurants delhi',\n",
       " 'restaurants north',\n",
       " 'search',\n",
       " 'search restaurants',\n",
       " 'spot',\n",
       " 'spot called',\n",
       " 'sure',\n",
       " 'thank',\n",
       " 'thanks',\n",
       " 'thanks bunch',\n",
       " 'think',\n",
       " 'want',\n",
       " 'want emails',\n",
       " 'yep',\n",
       " 'yep thank']"
      ]
     },
     "execution_count": 5,
     "metadata": {},
     "output_type": "execute_result"
    }
   ],
   "source": [
    "vectorizer.get_feature_names()"
   ]
  },
  {
   "cell_type": "code",
   "execution_count": 6,
   "metadata": {},
   "outputs": [
    {
     "name": "stdout",
     "output_type": "stream",
     "text": [
      "n_samples: 20, n_features: 56\n",
      "['affirm' 'deny' 'restaurant_search' 'thank']\n",
      "(4,)\n",
      "\n"
     ]
    }
   ],
   "source": [
    "print(\"n_samples: %d, n_features: %d\" % X.shape)\n",
    "print(np.unique(labels))\n",
    "print(np.unique(labels).shape)\n",
    "print()"
   ]
  },
  {
   "cell_type": "code",
   "execution_count": 7,
   "metadata": {},
   "outputs": [
    {
     "name": "stdout",
     "output_type": "stream",
     "text": [
      "Silhouette Coefficient: 0.054\n"
     ]
    }
   ],
   "source": [
    "#https://scikit-learn.org/stable/auto_examples/text/plot_document_clustering.html#sphx-glr-auto-examples-text-plot-document-clustering-py\n",
    "silhouette_avg = metrics.silhouette_score(X, labels)\n",
    "print(\"Silhouette Coefficient: %0.3f\"% metrics.silhouette_score(X, labels, metric='euclidean'))"
   ]
  },
  {
   "cell_type": "code",
   "execution_count": 31,
   "metadata": {},
   "outputs": [
    {
     "name": "stdout",
     "output_type": "stream",
     "text": [
      "[0. 0. 0. ... 0. 0. 0.]\n"
     ]
    },
    {
     "data": {
      "text/plain": [
       "(2915, 317)"
      ]
     },
     "execution_count": 31,
     "metadata": {},
     "output_type": "execute_result"
    }
   ],
   "source": [
    "print(X[:, 316])\n",
    "X.shape"
   ]
  },
  {
   "cell_type": "code",
   "execution_count": 24,
   "metadata": {},
   "outputs": [
    {
     "data": {
      "image/png": "[encoded data removed]",
      "text/plain": [
       "<Figure size 1296x504 with 2 Axes>"
      ]
     },
     "metadata": {
      "needs_background": "light"
     },
     "output_type": "display_data"
    }
   ],
   "source": [
    "import matplotlib.pyplot as plt\n",
    "import matplotlib.cm as cm\n",
    "from sklearn.cluster import KMeans\n",
    "\n",
    "sample_silhouette_values = metrics.silhouette_samples(X, labels)\n",
    "\n",
    "y_lower = 10\n",
    "col = 0\n",
    "fig, (ax1, ax2) = plt.subplots(1, 2)\n",
    "fig.set_size_inches(18, 7)\n",
    "ax1.set_xlim([-0.1, 1])\n",
    "#ax1.set_ylim([0, len(X) + (len(np.unique(labels)) + 1) * 10])\n",
    "\n",
    "n_clusters = len(np.unique(labels))\n",
    "clusterer = KMeans(n_clusters=n_clusters, random_state=10)\n",
    "cluster_labels = clusterer.fit_predict(X)\n",
    "    \n",
    "for i in (np.unique(labels)):\n",
    "    # Aggregate the silhouette scores for samples belonging to\n",
    "    # cluster i, and sort them\n",
    "    ith_cluster_silhouette_values = \\\n",
    "        sample_silhouette_values[labels == i]\n",
    "\n",
    "    ith_cluster_silhouette_values.sort()\n",
    "\n",
    "    size_cluster_i = ith_cluster_silhouette_values.shape[0]\n",
    "    y_upper = y_lower + size_cluster_i\n",
    "\n",
    "    color = cm.nipy_spectral(float(col) / n_clusters)\n",
    "    ax1.fill_betweenx(np.arange(y_lower, y_upper),\n",
    "                      0, ith_cluster_silhouette_values,\n",
    "                      facecolor=color, edgecolor=color, alpha=0.7)\n",
    "\n",
    "    # Label the silhouette plots with their cluster numbers at the middle\n",
    "    ax1.text(-0.05, y_lower + 0.5 * size_cluster_i, str(i))\n",
    "\n",
    "    # Compute the new y_lower for next plot\n",
    "    y_lower = y_upper + 10  # 10 for the 0 samples\n",
    "    col = col +1\n",
    "    \n",
    "ax1.set_title(\"The silhouette plot for the various clusters.\")\n",
    "ax1.set_xlabel(\"The silhouette coefficient values\")\n",
    "ax1.set_ylabel(\"Cluster label\")\n",
    "\n",
    "# The vertical line for average silhouette score of all the values\n",
    "ax1.axvline(x=silhouette_avg, color=\"red\", linestyle=\"--\")\n",
    "\n",
    "ax1.set_yticks([])  # Clear the yaxis labels / ticks\n",
    "ax1.set_xticks([-0.1, 0, 0.2, 0.4, 0.6, 0.8, 1])\n",
    "\n",
    "# 2nd Plot showing the actual clusters formed\n",
    "\n",
    "from sklearn import preprocessing\n",
    "le = preprocessing.LabelEncoder()\n",
    "labels_t = le.fit_transform(labels)\n",
    "\n",
    "colors = cm.nipy_spectral(labels_t.astype(float) / n_clusters)\n",
    "print(colors)\n",
    "ax2.scatter(X[:, 0], X[:, 1], marker='.', s=30, lw=0, alpha=0.7,\n",
    "            c=colors, edgecolor='k')\n",
    "\n",
    "# Labeling the clusters\n",
    "centers = clusterer.cluster_centers_\n",
    "# Draw white circles at cluster centers\n",
    "ax2.scatter(centers[:, 0], centers[:, 1], marker='o',\n",
    "            c=\"white\", alpha=1, s=200, edgecolor='k')\n",
    "\n",
    "for i, c in enumerate(centers):\n",
    "    ax2.scatter(c[0], c[1], marker='$%d$' % i, alpha=1,\n",
    "                s=50, edgecolor='k')\n",
    "\n",
    "ax2.set_title(\"The visualization of the clustered data.\")\n",
    "ax2.set_xlabel(\"Feature space for the 1st feature\")\n",
    "ax2.set_ylabel(\"Feature space for the 2nd feature\")\n",
    "\n",
    "plt.suptitle((\"Silhouette analysis for KMeans clustering on sample data \"\n",
    "              \"with n_clusters = %d\" % 5),\n",
    "             fontsize=14, fontweight='bold')\n",
    "plt.show()"
   ]
  },
  {
   "cell_type": "code",
   "execution_count": 13,
   "metadata": {},
   "outputs": [],
   "source": [
    "#Import all the dependencies\n",
    "from gensim.models.doc2vec import Doc2Vec, TaggedDocument\n",
    "from nltk.tokenize import word_tokenize"
   ]
  },
  {
   "cell_type": "code",
   "execution_count": 15,
   "metadata": {},
   "outputs": [
    {
     "name": "stderr",
     "output_type": "stream",
     "text": [
      "[nltk_data] Downloading package punkt to\n",
      "[nltk_data]     D:\\Users\\618757\\AppData\\Roaming\\nltk_data...\n",
      "[nltk_data]   Unzipping tokenizers\\punkt.zip.\n"
     ]
    },
    {
     "data": {
      "text/plain": [
       "True"
      ]
     },
     "execution_count": 15,
     "metadata": {},
     "output_type": "execute_result"
    }
   ],
   "source": [
    "import nltk\n",
    "nltk.download('punkt')"
   ]
  },
  {
   "cell_type": "code",
   "execution_count": 20,
   "metadata": {},
   "outputs": [
    {
     "data": {
      "text/html": [
       "<div>\n",
       "<style scoped>\n",
       "    .dataframe tbody tr th:only-of-type {\n",
       "        vertical-align: middle;\n",
       "    }\n",
       "\n",
       "    .dataframe tbody tr th {\n",
       "        vertical-align: top;\n",
       "    }\n",
       "\n",
       "    .dataframe thead th {\n",
       "        text-align: right;\n",
       "    }\n",
       "</style>\n",
       "<table border=\"1\" class=\"dataframe\">\n",
       "  <thead>\n",
       "    <tr style=\"text-align: right;\">\n",
       "      <th></th>\n",
       "      <th>q</th>\n",
       "      <th>Intent</th>\n",
       "    </tr>\n",
       "  </thead>\n",
       "  <tbody>\n",
       "    <tr>\n",
       "      <th>0</th>\n",
       "      <td>yep, will do thank you</td>\n",
       "      <td>affirm</td>\n",
       "    </tr>\n",
       "    <tr>\n",
       "      <th>1</th>\n",
       "      <td>I'm sure I will</td>\n",
       "      <td>affirm</td>\n",
       "    </tr>\n",
       "    <tr>\n",
       "      <th>2</th>\n",
       "      <td>ok i accept</td>\n",
       "      <td>affirm</td>\n",
       "    </tr>\n",
       "    <tr>\n",
       "      <th>3</th>\n",
       "      <td>show me chines restaurants in the north</td>\n",
       "      <td>restaurant_search</td>\n",
       "    </tr>\n",
       "    <tr>\n",
       "      <th>4</th>\n",
       "      <td>show me a mexican place in the centre</td>\n",
       "      <td>restaurant_search</td>\n",
       "    </tr>\n",
       "  </tbody>\n",
       "</table>\n",
       "</div>"
      ],
      "text/plain": [
       "                                         q             Intent\n",
       "0                   yep, will do thank you             affirm\n",
       "1                          I'm sure I will             affirm\n",
       "2                              ok i accept             affirm\n",
       "3  show me chines restaurants in the north  restaurant_search\n",
       "4    show me a mexican place in the centre  restaurant_search"
      ]
     },
     "execution_count": 20,
     "metadata": {},
     "output_type": "execute_result"
    }
   ],
   "source": [
    "df = pd.read_excel('rasa-generated-file_without_sno.xlsx')\n",
    "df = pd.read_excel('res_search_rasa.xlsx')\n",
    "df.head()"
   ]
  },
  {
   "cell_type": "code",
   "execution_count": 31,
   "metadata": {},
   "outputs": [
    {
     "data": {
      "text/plain": [
       "20"
      ]
     },
     "execution_count": 31,
     "metadata": {},
     "output_type": "execute_result"
    }
   ],
   "source": [
    "df.shape[0]"
   ]
  },
  {
   "cell_type": "code",
   "execution_count": 26,
   "metadata": {},
   "outputs": [
    {
     "data": {
      "text/plain": [
       "[TaggedDocument(words=['yep', ',', 'will', 'do', 'thank', 'you'], tags=['0']),\n",
       " TaggedDocument(words=['i', \"'m\", 'sure', 'i', 'will'], tags=['1']),\n",
       " TaggedDocument(words=['ok', 'i', 'accept'], tags=['2']),\n",
       " TaggedDocument(words=['show', 'me', 'chines', 'restaurants', 'in', 'the', 'north'], tags=['3']),\n",
       " TaggedDocument(words=['show', 'me', 'a', 'mexican', 'place', 'in', 'the', 'centre'], tags=['4']),\n",
       " TaggedDocument(words=['i', 'am', 'looking', 'for', 'an', 'indian', 'spot', 'called', 'olaolaolaolaolaola'], tags=['5']),\n",
       " TaggedDocument(words=['search', 'for', 'restaurants'], tags=['6']),\n",
       " TaggedDocument(words=['i', 'am', 'looking', 'a', 'restaurant', 'in', '29432'], tags=['7']),\n",
       " TaggedDocument(words=['i', 'am', 'looking', 'for', 'some', 'restaurants', 'in', 'delhi', '.'], tags=['8']),\n",
       " TaggedDocument(words=['central', 'indian', 'restaurant'], tags=['9']),\n",
       " TaggedDocument(words=['i', \"'m\", 'looking', 'for', 'a', 'place', 'to', 'eat'], tags=['10']),\n",
       " TaggedDocument(words=['i', 'do', 'not', 'want', 'any', 'emails'], tags=['11']),\n",
       " TaggedDocument(words=['nope', ',', 'i', 'dont', 'want', 'that'], tags=['12']),\n",
       " TaggedDocument(words=['no', ',', 'i', 'do', \"n't\", 'want', 'that'], tags=['13']),\n",
       " TaggedDocument(words=['i', 'do', \"n't\", 'think', 'so'], tags=['14']),\n",
       " TaggedDocument(words=['i', \"'m\", 'afraid', 'not'], tags=['15']),\n",
       " TaggedDocument(words=['thank', 'you', 'so', 'much'], tags=['16']),\n",
       " TaggedDocument(words=['thank', 'you'], tags=['17']),\n",
       " TaggedDocument(words=['thanks', 'for', 'that'], tags=['18']),\n",
       " TaggedDocument(words=['thanks', 'a', 'bunch', 'for', 'everything'], tags=['19'])]"
      ]
     },
     "execution_count": 26,
     "metadata": {},
     "output_type": "execute_result"
    }
   ],
   "source": [
    "data = [\"I love machine learning. Its awesome.\",\n",
    "        \"I love coding in python\",\n",
    "        \"I love building chatbots\",\n",
    "        \"they chat amagingly well\"]\n",
    "\n",
    "\n",
    "tagged_data = [TaggedDocument(words=word_tokenize(_d.lower()), tags=[str(i)]) for i, _d in enumerate(df.q)]\n",
    "tagged_data"
   ]
  },
  {
   "cell_type": "code",
   "execution_count": 28,
   "metadata": {},
   "outputs": [
    {
     "name": "stdout",
     "output_type": "stream",
     "text": [
      "[-0.00622244 -0.02454143 -0.01432983  0.02035559  0.00224594  0.00436569\n",
      "  0.00560137  0.02386473 -0.01224232 -0.01535765 -0.02045181  0.00612158\n",
      "  0.01897373  0.0062915  -0.01461133  0.01149528  0.00221828  0.0226259\n",
      "  0.02122687 -0.0232824 ]\n",
      "[ 0.00294852  0.019974    0.01177903 -0.02137804  0.01905767 -0.02261441\n",
      " -0.00880086 -0.02421517  0.01188051  0.00957513  0.02427376  0.00654597\n",
      "  0.01434494 -0.01389626  0.01458358 -0.01075501 -0.02499392 -0.01924927\n",
      "  0.02469472  0.01916642]\n",
      "******\n"
     ]
    },
    {
     "name": "stderr",
     "output_type": "stream",
     "text": [
      "D:\\Users\\618757\\Anaconda3\\envs\\tensorFlowEnv\\lib\\site-packages\\ipykernel_launcher.py:20: DeprecationWarning: Call to deprecated `iter` (Attribute will be removed in 4.0.0, use self.epochs instead).\n"
     ]
    },
    {
     "name": "stdout",
     "output_type": "stream",
     "text": [
      "[ 0.06274163 -0.505823   -0.30250737  0.8377802   0.2434829  -0.00996353\n",
      "  0.13718837  0.50390494  0.07487288 -0.23163602  0.5318364  -0.06154248\n",
      "  0.17487133 -0.4302535  -0.7708718  -0.21371569 -0.11276603  0.35938516\n",
      "  0.74801785 -0.34927437]\n",
      "[ 0.01994414 -0.25409743 -0.16216229  0.4641567   0.22979264  0.0009526\n",
      "  0.07670971  0.20608026  0.08026527 -0.11101843  0.46243832 -0.03596682\n",
      "  0.05442614 -0.332315   -0.4443363  -0.21963081 -0.13571572  0.13874297\n",
      "  0.48981333 -0.12575562]\n"
     ]
    }
   ],
   "source": [
    "max_epochs = 100\n",
    "vec_size = 20\n",
    "alpha = 0.025\n",
    "\n",
    "model = Doc2Vec(size=vec_size,\n",
    "                alpha=alpha, \n",
    "                min_alpha=0.00025,\n",
    "                min_count=1,\n",
    "                dm =1)\n",
    "  \n",
    "model.build_vocab(tagged_data)\n",
    "\n",
    "\n",
    "print(model.docvecs['16'])\n",
    "print(model.docvecs['17'])\n",
    "print('******')\n",
    "for epoch in range(max_epochs):\n",
    "    model.train(tagged_data,\n",
    "                total_examples=model.corpus_count,\n",
    "                epochs=model.iter)\n",
    "    # decrease the learning rate\n",
    "    model.alpha -= 0.0002\n",
    "    # fix the learning rate, no decay\n",
    "    model.min_alpha = model.alpha\n",
    "\n",
    "print(model.docvecs['16'])\n",
    "print(model.docvecs['17'])"
   ]
  },
  {
   "cell_type": "code",
   "execution_count": 34,
   "metadata": {},
   "outputs": [
    {
     "name": "stdout",
     "output_type": "stream",
     "text": [
      "[ 0.06274163 -0.505823   -0.30250737  0.8377802   0.2434829  -0.00996353\n",
      "  0.13718837  0.50390494  0.07487288 -0.23163602  0.5318364  -0.06154248\n",
      "  0.17487133 -0.4302535  -0.7708718  -0.21371569 -0.11276603  0.35938516\n",
      "  0.74801785 -0.34927437]\n"
     ]
    }
   ],
   "source": [
    "print(model.docvecs['16'])"
   ]
  },
  {
   "cell_type": "code",
   "execution_count": 35,
   "metadata": {},
   "outputs": [],
   "source": [
    "infec_vector = []\n",
    "for doc_id in range(df.shape[0]):\n",
    "    #test_data = word_tokenize(\"My name is Abhi\".lower())\n",
    "    #v1 = model.infer_vector(test_data)\n",
    "    infec_vector.append(model.docvecs[doc_id])\n",
    "\n",
    "# to find most similar doc using tags\n",
    "#similar_doc = model.docvecs.most_similar('1')\n",
    "#print(similar_doc)\n",
    "\n",
    "\n",
    "# to find vector of doc in training data using tags or in other words, printing the vector of document at index 1 in training data\n",
    "#print(model.docvecs['1'])"
   ]
  },
  {
   "cell_type": "code",
   "execution_count": 42,
   "metadata": {},
   "outputs": [
    {
     "name": "stdout",
     "output_type": "stream",
     "text": [
      "[('17', 0.968804657459259), ('0', 0.9517542123794556), ('14', 0.9423664808273315), ('18', 0.915607213973999), ('9', 0.9096601009368896), ('2', 0.8955565094947815), ('12', 0.8931649923324585), ('13', 0.8922423124313354), ('15', 0.8900159001350403), ('6', 0.8890291452407837)]\n"
     ]
    }
   ],
   "source": [
    "similar_doc = model.docvecs.most_similar('16')\n",
    "print(similar_doc)"
   ]
  },
  {
   "cell_type": "code",
   "execution_count": 40,
   "metadata": {},
   "outputs": [
    {
     "data": {
      "text/plain": [
       "[array([ 0.24027638, -0.4972915 , -0.16718557,  0.82725555,  0.3908737 ,\n",
       "         0.00498619,  0.07340268,  0.24188133,  0.22268102, -0.16337094,\n",
       "         0.60676014, -0.15567768, -0.06064021, -0.5354193 , -0.83907986,\n",
       "        -0.30605766, -0.02108192,  0.11853462,  0.73137635, -0.38096988],\n",
       "       dtype=float32),\n",
       " array([ 0.09051069, -0.3650486 , -0.22758166,  0.7152276 ,  0.39746043,\n",
       "         0.24156524,  0.17882644,  0.12778126,  0.21240586, -0.32901046,\n",
       "         0.6815421 , -0.2616313 , -0.2869276 , -0.59992594, -0.7112354 ,\n",
       "        -0.21242389,  0.06371837,  0.3024009 ,  0.38553965, -0.07539599],\n",
       "       dtype=float32),\n",
       " array([ 0.10756056, -0.37829682, -0.18588926,  1.0487585 ,  0.5043778 ,\n",
       "         0.26070416,  0.10317931,  0.42153326, -0.14652593, -0.13058798,\n",
       "         0.8146571 ,  0.10205278, -0.16632217, -0.5835675 , -0.75411123,\n",
       "        -0.33193335, -0.05092913,  0.11285843,  0.45813516, -0.0904434 ],\n",
       "       dtype=float32),\n",
       " array([-0.51113856, -0.1929939 , -0.5433697 ,  1.1634983 ,  0.329625  ,\n",
       "         0.5094677 ,  0.4790699 ,  0.5152041 , -0.4765098 , -0.4902495 ,\n",
       "         1.1902713 ,  0.33432505,  0.06773873, -0.6453103 , -0.3161938 ,\n",
       "        -0.43635982, -0.60048205,  0.9031337 ,  0.79441917, -0.32977098],\n",
       "       dtype=float32),\n",
       " array([-0.62248856, -0.24774382, -0.32849604,  1.2421106 ,  0.4326345 ,\n",
       "         0.5171504 ,  0.6337876 ,  0.5626231 , -0.43211913, -0.5544152 ,\n",
       "         1.062455  ,  0.14219575, -0.00434959, -0.9114635 , -0.40486944,\n",
       "        -0.2780624 , -0.64171475,  0.9578763 ,  0.65374357, -0.31760034],\n",
       "       dtype=float32),\n",
       " array([-0.24828766, -0.9096297 , -0.59186286,  0.55684197,  0.45525447,\n",
       "        -0.14626656,  0.5262395 ,  0.76735634,  0.36809912,  0.06011334,\n",
       "         1.356846  , -0.04028175,  0.05103787, -0.7173939 , -1.0210897 ,\n",
       "        -0.82582355, -0.3869367 ,  0.2334474 ,  0.8089606 ,  0.28382158],\n",
       "       dtype=float32),\n",
       " array([ 0.06851122, -0.2934735 , -0.2795204 ,  0.7085881 ,  0.22628705,\n",
       "         0.3490721 ,  0.03783002,  0.36080933,  0.04474134, -0.20430136,\n",
       "         0.90856284,  0.0091361 ,  0.00510514, -0.2994946 , -0.6249951 ,\n",
       "        -0.49709517, -0.13383882,  0.15007432,  0.62448376,  0.03249609],\n",
       "       dtype=float32),\n",
       " array([-0.35406303, -0.45876732, -0.27836114,  0.7126206 ,  0.18955894,\n",
       "         0.06985187,  0.21367793,  0.39147654, -0.04355685, -0.14382201,\n",
       "         0.91416293, -0.05097596,  0.07585432, -0.6154402 , -0.5177868 ,\n",
       "        -0.39963692, -0.10931659,  0.35489738,  0.5228055 ,  0.09044256],\n",
       "       dtype=float32),\n",
       " array([-0.13554125, -0.5597898 , -0.6330872 ,  0.8598911 ,  0.23539935,\n",
       "         0.55146325,  0.05851853,  0.4771826 , -0.19965748, -0.00426171,\n",
       "         1.1843064 ,  0.14469148,  0.05992102, -0.53970057, -0.772002  ,\n",
       "        -0.57008034, -0.05529471,  0.4143218 ,  0.75324994,  0.14623806],\n",
       "       dtype=float32),\n",
       " array([-0.28645432, -0.39899808, -0.43429002,  0.7255127 ,  0.28735107,\n",
       "        -0.02475444,  0.46578357,  0.32102543,  0.20034057, -0.24482018,\n",
       "         0.8969843 , -0.09438314,  0.00517297, -0.56562763, -0.9079627 ,\n",
       "        -0.3410237 , -0.2550615 ,  0.47756594,  0.51742303, -0.06568678],\n",
       "       dtype=float32),\n",
       " array([-0.12205047, -0.40937987, -0.20813957,  0.8787854 ,  0.5272423 ,\n",
       "         0.45455608,  0.15769875,  0.33492997, -0.09985726, -0.40765223,\n",
       "         1.0240041 , -0.06045436, -0.22294432, -0.6226844 , -0.6347427 ,\n",
       "        -0.61695486, -0.23654501,  0.36073413,  0.5040904 ,  0.03773713],\n",
       "       dtype=float32),\n",
       " array([-0.03080148, -0.39098984, -0.5371928 ,  0.8634954 ,  0.46685043,\n",
       "        -0.31332847,  0.31357434,  0.0464895 ,  0.08198453, -0.10342767,\n",
       "         0.6370482 , -0.28411603, -0.35782444, -0.63422334, -0.8956879 ,\n",
       "        -0.4417366 , -0.5058639 ,  0.11395607,  0.8195031 , -0.17349768],\n",
       "       dtype=float32),\n",
       " array([-0.0856392 , -0.5253599 , -0.46232864,  0.96613353,  0.4220281 ,\n",
       "         0.00613774,  0.39306495,  0.1737928 ,  0.33020186,  0.06465762,\n",
       "         0.7595415 , -0.21418484, -0.32978517, -0.31672388, -0.8219213 ,\n",
       "        -0.20567188, -0.23764902,  0.33273295,  0.5944013 , -0.2482727 ],\n",
       "       dtype=float32),\n",
       " array([ 0.17578341, -0.44158804, -0.30170307,  1.0354341 ,  0.16929191,\n",
       "        -0.318845  ,  0.25477695,  0.10587092,  0.21287152,  0.0514569 ,\n",
       "         0.57880807, -0.22139452, -0.29792565, -0.4128087 , -0.81085175,\n",
       "        -0.19760853, -0.30141878,  0.2533158 ,  0.5742271 , -0.41011748],\n",
       "       dtype=float32),\n",
       " array([ 0.18876263, -0.4057752 , -0.22846645,  0.9690154 ,  0.07713707,\n",
       "        -0.23997393,  0.24190895,  0.39405596,  0.15742075, -0.03980768,\n",
       "         0.7451189 , -0.11519641, -0.07286773, -0.5645821 , -0.83471465,\n",
       "        -0.23531793, -0.06345824,  0.38737416,  0.46731088, -0.36686194],\n",
       "       dtype=float32),\n",
       " array([ 0.07996306, -0.4085052 , -0.3018286 ,  0.8133528 ,  0.31877998,\n",
       "        -0.03451569,  0.2185939 ,  0.08826707,  0.10292094, -0.30661327,\n",
       "         0.730194  , -0.29890674, -0.35109684, -0.65481436, -0.6690991 ,\n",
       "        -0.48737034, -0.19316092,  0.3490508 ,  0.6620352 , -0.11069139],\n",
       "       dtype=float32),\n",
       " array([ 0.06274163, -0.505823  , -0.30250737,  0.8377802 ,  0.2434829 ,\n",
       "        -0.00996353,  0.13718837,  0.50390494,  0.07487288, -0.23163602,\n",
       "         0.5318364 , -0.06154248,  0.17487133, -0.4302535 , -0.7708718 ,\n",
       "        -0.21371569, -0.11276603,  0.35938516,  0.74801785, -0.34927437],\n",
       "       dtype=float32),\n",
       " array([ 0.01994414, -0.25409743, -0.16216229,  0.4641567 ,  0.22979264,\n",
       "         0.0009526 ,  0.07670971,  0.20608026,  0.08026527, -0.11101843,\n",
       "         0.46243832, -0.03596682,  0.05442614, -0.332315  , -0.4443363 ,\n",
       "        -0.21963081, -0.13571572,  0.13874297,  0.48981333, -0.12575562],\n",
       "       dtype=float32),\n",
       " array([ 0.0021199 , -0.25061795, -0.25321582,  0.5417739 ,  0.08623274,\n",
       "         0.19470082,  0.1213378 ,  0.29552448,  0.12956977, -0.18661432,\n",
       "         0.6549443 , -0.13546196, -0.06492787, -0.3432998 , -0.6234598 ,\n",
       "        -0.33525717, -0.21279971,  0.1327046 ,  0.43799248, -0.05853471],\n",
       "       dtype=float32),\n",
       " array([-0.10442887, -0.20409423, -0.49215183,  0.67635614,  0.11576319,\n",
       "         0.5190196 ,  0.19714977,  0.67033833,  0.11235137, -0.40981093,\n",
       "         1.1501912 , -0.11807492,  0.04087532, -0.5893002 , -1.093811  ,\n",
       "        -0.6159091 , -0.31663284,  0.1749062 ,  0.7939098 , -0.20420252],\n",
       "       dtype=float32)]"
      ]
     },
     "execution_count": 40,
     "metadata": {},
     "output_type": "execute_result"
    }
   ],
   "source": [
    "infec_vector"
   ]
  },
  {
   "cell_type": "code",
   "execution_count": 39,
   "metadata": {},
   "outputs": [
    {
     "name": "stdout",
     "output_type": "stream",
     "text": [
      "Silhouette Coefficient: 0.020\n"
     ]
    }
   ],
   "source": [
    "X = infec_vector\n",
    "#X = X.reshape(-1, 1)\n",
    "labels = df.Intent\n",
    "\n",
    "silhouette_avg = metrics.silhouette_score(X, labels)\n",
    "print(\"Silhouette Coefficient: %0.3f\"% metrics.silhouette_score(X, labels))"
   ]
  },
  {
   "cell_type": "code",
   "execution_count": 43,
   "metadata": {},
   "outputs": [
    {
     "data": {
      "text/plain": [
       "0                affirm\n",
       "1                affirm\n",
       "2                affirm\n",
       "3     restaurant_search\n",
       "4     restaurant_search\n",
       "5     restaurant_search\n",
       "6     restaurant_search\n",
       "7     restaurant_search\n",
       "8     restaurant_search\n",
       "9     restaurant_search\n",
       "10    restaurant_search\n",
       "11                 deny\n",
       "12                 deny\n",
       "13                 deny\n",
       "14                 deny\n",
       "15                 deny\n",
       "16                thank\n",
       "17                thank\n",
       "18                thank\n",
       "19                thank\n",
       "Name: Intent, dtype: object"
      ]
     },
     "execution_count": 43,
     "metadata": {},
     "output_type": "execute_result"
    }
   ],
   "source": [
    "labels"
   ]
  }
 ],
 "metadata": {
  "kernelspec": {
   "display_name": "Python 3",
   "language": "python",
   "name": "python3"
  },
  "language_info": {
   "codemirror_mode": {
    "name": "ipython",
    "version": 3
   },
   "file_extension": ".py",
   "mimetype": "text/x-python",
   "name": "python",
   "nbconvert_exporter": "python",
   "pygments_lexer": "ipython3",
   "version": "3.7.6"
  }
 },
 "nbformat": 4,
 "nbformat_minor": 4
}
